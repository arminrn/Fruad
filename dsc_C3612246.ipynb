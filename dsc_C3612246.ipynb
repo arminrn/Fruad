{
  "nbformat": 4,
  "nbformat_minor": 0,
  "metadata": {
    "colab": {
      "provenance": []
    },
    "kernelspec": {
      "name": "python3",
      "display_name": "Python 3"
    },
    "language_info": {
      "name": "python"
    }
  },
  "cells": [
    {
      "cell_type": "markdown",
      "source": [
        "# Data Science Challenge: Card Transactions!\n",
        "\n"
      ],
      "metadata": {
        "id": "vtOIsLjjdkqo"
      }
    },
    {
      "cell_type": "markdown",
      "source": [
        "## Question 1: Load"
      ],
      "metadata": {
        "id": "3iKE9yY2c7Jj"
      }
    },
    {
      "cell_type": "markdown",
      "source": [
        "### 1. Programmatically Download and Load the Data\n"
      ],
      "metadata": {
        "id": "Pfo2ATlzc0uJ"
      }
    },
    {
      "cell_type": "code",
      "source": [
        "from google.colab import drive\n",
        "drive.mount('/content/drive')\n",
        "\n",
        "file_path = '/content/drive/MyDrive/transactions.txt'"
      ],
      "metadata": {
        "id": "H0Ab-9eBpGbu",
        "colab": {
          "base_uri": "https://localhost:8080/"
        },
        "outputId": "e566b503-12b1-4708-fb54-baee3d7b3e64"
      },
      "execution_count": 42,
      "outputs": [
        {
          "output_type": "stream",
          "name": "stdout",
          "text": [
            "Drive already mounted at /content/drive; to attempt to forcibly remount, call drive.mount(\"/content/drive\", force_remount=True).\n"
          ]
        }
      ]
    },
    {
      "cell_type": "code",
      "execution_count": 43,
      "metadata": {
        "id": "uHsvugFYUYet"
      },
      "outputs": [],
      "source": [
        "import pandas as pd\n",
        "import json\n",
        "\n",
        "data = []\n",
        "\n",
        "# Attempt to read each line as JSON and append to a list\n",
        "with open(file_path, 'r') as file:\n",
        "    for line in file:\n",
        "        try:\n",
        "            data.append(json.loads(line))\n",
        "        except ValueError as e:\n",
        "            print(f\"Error parsing line: {e}\")\n",
        "\n",
        "# Convert the list of dictionaries to a DataFrame\n",
        "transactions = pd.DataFrame(data)"
      ]
    },
    {
      "cell_type": "code",
      "source": [
        "transactions.head()"
      ],
      "metadata": {
        "colab": {
          "base_uri": "https://localhost:8080/",
          "height": 273
        },
        "id": "rmwHMJ_xsTbF",
        "outputId": "995d25c6-1861-45e5-b441-8c63e3119939"
      },
      "execution_count": 44,
      "outputs": [
        {
          "output_type": "execute_result",
          "data": {
            "text/plain": [
              "  accountNumber customerId  creditLimit  availableMoney  transactionDateTime  \\\n",
              "0     737265056  737265056       5000.0          5000.0  2016-08-13T14:27:32   \n",
              "1     737265056  737265056       5000.0          5000.0  2016-10-11T05:05:54   \n",
              "2     737265056  737265056       5000.0          5000.0  2016-11-08T09:18:39   \n",
              "3     737265056  737265056       5000.0          5000.0  2016-12-10T02:14:50   \n",
              "4     830329091  830329091       5000.0          5000.0  2016-03-24T21:04:46   \n",
              "\n",
              "   transactionAmount         merchantName acqCountry merchantCountryCode  \\\n",
              "0              98.55                 Uber         US                  US   \n",
              "1              74.51          AMC #191138         US                  US   \n",
              "2               7.47           Play Store         US                  US   \n",
              "3               7.47           Play Store         US                  US   \n",
              "4              71.18  Tim Hortons #947751         US                  US   \n",
              "\n",
              "  posEntryMode  ... echoBuffer currentBalance merchantCity merchantState  \\\n",
              "0           02  ...                       0.0                              \n",
              "1           09  ...                       0.0                              \n",
              "2           09  ...                       0.0                              \n",
              "3           09  ...                       0.0                              \n",
              "4           02  ...                       0.0                              \n",
              "\n",
              "  merchantZip cardPresent posOnPremises recurringAuthInd  \\\n",
              "0                   False                                  \n",
              "1                    True                                  \n",
              "2                   False                                  \n",
              "3                   False                                  \n",
              "4                    True                                  \n",
              "\n",
              "  expirationDateKeyInMatch isFraud  \n",
              "0                    False   False  \n",
              "1                    False   False  \n",
              "2                    False   False  \n",
              "3                    False   False  \n",
              "4                    False   False  \n",
              "\n",
              "[5 rows x 29 columns]"
            ],
            "text/html": [
              "\n",
              "  <div id=\"df-4315c669-cdab-4e91-87d0-7ca0c8af3b3e\" class=\"colab-df-container\">\n",
              "    <div>\n",
              "<style scoped>\n",
              "    .dataframe tbody tr th:only-of-type {\n",
              "        vertical-align: middle;\n",
              "    }\n",
              "\n",
              "    .dataframe tbody tr th {\n",
              "        vertical-align: top;\n",
              "    }\n",
              "\n",
              "    .dataframe thead th {\n",
              "        text-align: right;\n",
              "    }\n",
              "</style>\n",
              "<table border=\"1\" class=\"dataframe\">\n",
              "  <thead>\n",
              "    <tr style=\"text-align: right;\">\n",
              "      <th></th>\n",
              "      <th>accountNumber</th>\n",
              "      <th>customerId</th>\n",
              "      <th>creditLimit</th>\n",
              "      <th>availableMoney</th>\n",
              "      <th>transactionDateTime</th>\n",
              "      <th>transactionAmount</th>\n",
              "      <th>merchantName</th>\n",
              "      <th>acqCountry</th>\n",
              "      <th>merchantCountryCode</th>\n",
              "      <th>posEntryMode</th>\n",
              "      <th>...</th>\n",
              "      <th>echoBuffer</th>\n",
              "      <th>currentBalance</th>\n",
              "      <th>merchantCity</th>\n",
              "      <th>merchantState</th>\n",
              "      <th>merchantZip</th>\n",
              "      <th>cardPresent</th>\n",
              "      <th>posOnPremises</th>\n",
              "      <th>recurringAuthInd</th>\n",
              "      <th>expirationDateKeyInMatch</th>\n",
              "      <th>isFraud</th>\n",
              "    </tr>\n",
              "  </thead>\n",
              "  <tbody>\n",
              "    <tr>\n",
              "      <th>0</th>\n",
              "      <td>737265056</td>\n",
              "      <td>737265056</td>\n",
              "      <td>5000.0</td>\n",
              "      <td>5000.0</td>\n",
              "      <td>2016-08-13T14:27:32</td>\n",
              "      <td>98.55</td>\n",
              "      <td>Uber</td>\n",
              "      <td>US</td>\n",
              "      <td>US</td>\n",
              "      <td>02</td>\n",
              "      <td>...</td>\n",
              "      <td></td>\n",
              "      <td>0.0</td>\n",
              "      <td></td>\n",
              "      <td></td>\n",
              "      <td></td>\n",
              "      <td>False</td>\n",
              "      <td></td>\n",
              "      <td></td>\n",
              "      <td>False</td>\n",
              "      <td>False</td>\n",
              "    </tr>\n",
              "    <tr>\n",
              "      <th>1</th>\n",
              "      <td>737265056</td>\n",
              "      <td>737265056</td>\n",
              "      <td>5000.0</td>\n",
              "      <td>5000.0</td>\n",
              "      <td>2016-10-11T05:05:54</td>\n",
              "      <td>74.51</td>\n",
              "      <td>AMC #191138</td>\n",
              "      <td>US</td>\n",
              "      <td>US</td>\n",
              "      <td>09</td>\n",
              "      <td>...</td>\n",
              "      <td></td>\n",
              "      <td>0.0</td>\n",
              "      <td></td>\n",
              "      <td></td>\n",
              "      <td></td>\n",
              "      <td>True</td>\n",
              "      <td></td>\n",
              "      <td></td>\n",
              "      <td>False</td>\n",
              "      <td>False</td>\n",
              "    </tr>\n",
              "    <tr>\n",
              "      <th>2</th>\n",
              "      <td>737265056</td>\n",
              "      <td>737265056</td>\n",
              "      <td>5000.0</td>\n",
              "      <td>5000.0</td>\n",
              "      <td>2016-11-08T09:18:39</td>\n",
              "      <td>7.47</td>\n",
              "      <td>Play Store</td>\n",
              "      <td>US</td>\n",
              "      <td>US</td>\n",
              "      <td>09</td>\n",
              "      <td>...</td>\n",
              "      <td></td>\n",
              "      <td>0.0</td>\n",
              "      <td></td>\n",
              "      <td></td>\n",
              "      <td></td>\n",
              "      <td>False</td>\n",
              "      <td></td>\n",
              "      <td></td>\n",
              "      <td>False</td>\n",
              "      <td>False</td>\n",
              "    </tr>\n",
              "    <tr>\n",
              "      <th>3</th>\n",
              "      <td>737265056</td>\n",
              "      <td>737265056</td>\n",
              "      <td>5000.0</td>\n",
              "      <td>5000.0</td>\n",
              "      <td>2016-12-10T02:14:50</td>\n",
              "      <td>7.47</td>\n",
              "      <td>Play Store</td>\n",
              "      <td>US</td>\n",
              "      <td>US</td>\n",
              "      <td>09</td>\n",
              "      <td>...</td>\n",
              "      <td></td>\n",
              "      <td>0.0</td>\n",
              "      <td></td>\n",
              "      <td></td>\n",
              "      <td></td>\n",
              "      <td>False</td>\n",
              "      <td></td>\n",
              "      <td></td>\n",
              "      <td>False</td>\n",
              "      <td>False</td>\n",
              "    </tr>\n",
              "    <tr>\n",
              "      <th>4</th>\n",
              "      <td>830329091</td>\n",
              "      <td>830329091</td>\n",
              "      <td>5000.0</td>\n",
              "      <td>5000.0</td>\n",
              "      <td>2016-03-24T21:04:46</td>\n",
              "      <td>71.18</td>\n",
              "      <td>Tim Hortons #947751</td>\n",
              "      <td>US</td>\n",
              "      <td>US</td>\n",
              "      <td>02</td>\n",
              "      <td>...</td>\n",
              "      <td></td>\n",
              "      <td>0.0</td>\n",
              "      <td></td>\n",
              "      <td></td>\n",
              "      <td></td>\n",
              "      <td>True</td>\n",
              "      <td></td>\n",
              "      <td></td>\n",
              "      <td>False</td>\n",
              "      <td>False</td>\n",
              "    </tr>\n",
              "  </tbody>\n",
              "</table>\n",
              "<p>5 rows × 29 columns</p>\n",
              "</div>\n",
              "    <div class=\"colab-df-buttons\">\n",
              "\n",
              "  <div class=\"colab-df-container\">\n",
              "    <button class=\"colab-df-convert\" onclick=\"convertToInteractive('df-4315c669-cdab-4e91-87d0-7ca0c8af3b3e')\"\n",
              "            title=\"Convert this dataframe to an interactive table.\"\n",
              "            style=\"display:none;\">\n",
              "\n",
              "  <svg xmlns=\"http://www.w3.org/2000/svg\" height=\"24px\" viewBox=\"0 -960 960 960\">\n",
              "    <path d=\"M120-120v-720h720v720H120Zm60-500h600v-160H180v160Zm220 220h160v-160H400v160Zm0 220h160v-160H400v160ZM180-400h160v-160H180v160Zm440 0h160v-160H620v160ZM180-180h160v-160H180v160Zm440 0h160v-160H620v160Z\"/>\n",
              "  </svg>\n",
              "    </button>\n",
              "\n",
              "  <style>\n",
              "    .colab-df-container {\n",
              "      display:flex;\n",
              "      gap: 12px;\n",
              "    }\n",
              "\n",
              "    .colab-df-convert {\n",
              "      background-color: #E8F0FE;\n",
              "      border: none;\n",
              "      border-radius: 50%;\n",
              "      cursor: pointer;\n",
              "      display: none;\n",
              "      fill: #1967D2;\n",
              "      height: 32px;\n",
              "      padding: 0 0 0 0;\n",
              "      width: 32px;\n",
              "    }\n",
              "\n",
              "    .colab-df-convert:hover {\n",
              "      background-color: #E2EBFA;\n",
              "      box-shadow: 0px 1px 2px rgba(60, 64, 67, 0.3), 0px 1px 3px 1px rgba(60, 64, 67, 0.15);\n",
              "      fill: #174EA6;\n",
              "    }\n",
              "\n",
              "    .colab-df-buttons div {\n",
              "      margin-bottom: 4px;\n",
              "    }\n",
              "\n",
              "    [theme=dark] .colab-df-convert {\n",
              "      background-color: #3B4455;\n",
              "      fill: #D2E3FC;\n",
              "    }\n",
              "\n",
              "    [theme=dark] .colab-df-convert:hover {\n",
              "      background-color: #434B5C;\n",
              "      box-shadow: 0px 1px 3px 1px rgba(0, 0, 0, 0.15);\n",
              "      filter: drop-shadow(0px 1px 2px rgba(0, 0, 0, 0.3));\n",
              "      fill: #FFFFFF;\n",
              "    }\n",
              "  </style>\n",
              "\n",
              "    <script>\n",
              "      const buttonEl =\n",
              "        document.querySelector('#df-4315c669-cdab-4e91-87d0-7ca0c8af3b3e button.colab-df-convert');\n",
              "      buttonEl.style.display =\n",
              "        google.colab.kernel.accessAllowed ? 'block' : 'none';\n",
              "\n",
              "      async function convertToInteractive(key) {\n",
              "        const element = document.querySelector('#df-4315c669-cdab-4e91-87d0-7ca0c8af3b3e');\n",
              "        const dataTable =\n",
              "          await google.colab.kernel.invokeFunction('convertToInteractive',\n",
              "                                                    [key], {});\n",
              "        if (!dataTable) return;\n",
              "\n",
              "        const docLinkHtml = 'Like what you see? Visit the ' +\n",
              "          '<a target=\"_blank\" href=https://colab.research.google.com/notebooks/data_table.ipynb>data table notebook</a>'\n",
              "          + ' to learn more about interactive tables.';\n",
              "        element.innerHTML = '';\n",
              "        dataTable['output_type'] = 'display_data';\n",
              "        await google.colab.output.renderOutput(dataTable, element);\n",
              "        const docLink = document.createElement('div');\n",
              "        docLink.innerHTML = docLinkHtml;\n",
              "        element.appendChild(docLink);\n",
              "      }\n",
              "    </script>\n",
              "  </div>\n",
              "\n",
              "\n",
              "<div id=\"df-dc51153e-725e-48e5-8d15-fae1667647ff\">\n",
              "  <button class=\"colab-df-quickchart\" onclick=\"quickchart('df-dc51153e-725e-48e5-8d15-fae1667647ff')\"\n",
              "            title=\"Suggest charts\"\n",
              "            style=\"display:none;\">\n",
              "\n",
              "<svg xmlns=\"http://www.w3.org/2000/svg\" height=\"24px\"viewBox=\"0 0 24 24\"\n",
              "     width=\"24px\">\n",
              "    <g>\n",
              "        <path d=\"M19 3H5c-1.1 0-2 .9-2 2v14c0 1.1.9 2 2 2h14c1.1 0 2-.9 2-2V5c0-1.1-.9-2-2-2zM9 17H7v-7h2v7zm4 0h-2V7h2v10zm4 0h-2v-4h2v4z\"/>\n",
              "    </g>\n",
              "</svg>\n",
              "  </button>\n",
              "\n",
              "<style>\n",
              "  .colab-df-quickchart {\n",
              "      --bg-color: #E8F0FE;\n",
              "      --fill-color: #1967D2;\n",
              "      --hover-bg-color: #E2EBFA;\n",
              "      --hover-fill-color: #174EA6;\n",
              "      --disabled-fill-color: #AAA;\n",
              "      --disabled-bg-color: #DDD;\n",
              "  }\n",
              "\n",
              "  [theme=dark] .colab-df-quickchart {\n",
              "      --bg-color: #3B4455;\n",
              "      --fill-color: #D2E3FC;\n",
              "      --hover-bg-color: #434B5C;\n",
              "      --hover-fill-color: #FFFFFF;\n",
              "      --disabled-bg-color: #3B4455;\n",
              "      --disabled-fill-color: #666;\n",
              "  }\n",
              "\n",
              "  .colab-df-quickchart {\n",
              "    background-color: var(--bg-color);\n",
              "    border: none;\n",
              "    border-radius: 50%;\n",
              "    cursor: pointer;\n",
              "    display: none;\n",
              "    fill: var(--fill-color);\n",
              "    height: 32px;\n",
              "    padding: 0;\n",
              "    width: 32px;\n",
              "  }\n",
              "\n",
              "  .colab-df-quickchart:hover {\n",
              "    background-color: var(--hover-bg-color);\n",
              "    box-shadow: 0 1px 2px rgba(60, 64, 67, 0.3), 0 1px 3px 1px rgba(60, 64, 67, 0.15);\n",
              "    fill: var(--button-hover-fill-color);\n",
              "  }\n",
              "\n",
              "  .colab-df-quickchart-complete:disabled,\n",
              "  .colab-df-quickchart-complete:disabled:hover {\n",
              "    background-color: var(--disabled-bg-color);\n",
              "    fill: var(--disabled-fill-color);\n",
              "    box-shadow: none;\n",
              "  }\n",
              "\n",
              "  .colab-df-spinner {\n",
              "    border: 2px solid var(--fill-color);\n",
              "    border-color: transparent;\n",
              "    border-bottom-color: var(--fill-color);\n",
              "    animation:\n",
              "      spin 1s steps(1) infinite;\n",
              "  }\n",
              "\n",
              "  @keyframes spin {\n",
              "    0% {\n",
              "      border-color: transparent;\n",
              "      border-bottom-color: var(--fill-color);\n",
              "      border-left-color: var(--fill-color);\n",
              "    }\n",
              "    20% {\n",
              "      border-color: transparent;\n",
              "      border-left-color: var(--fill-color);\n",
              "      border-top-color: var(--fill-color);\n",
              "    }\n",
              "    30% {\n",
              "      border-color: transparent;\n",
              "      border-left-color: var(--fill-color);\n",
              "      border-top-color: var(--fill-color);\n",
              "      border-right-color: var(--fill-color);\n",
              "    }\n",
              "    40% {\n",
              "      border-color: transparent;\n",
              "      border-right-color: var(--fill-color);\n",
              "      border-top-color: var(--fill-color);\n",
              "    }\n",
              "    60% {\n",
              "      border-color: transparent;\n",
              "      border-right-color: var(--fill-color);\n",
              "    }\n",
              "    80% {\n",
              "      border-color: transparent;\n",
              "      border-right-color: var(--fill-color);\n",
              "      border-bottom-color: var(--fill-color);\n",
              "    }\n",
              "    90% {\n",
              "      border-color: transparent;\n",
              "      border-bottom-color: var(--fill-color);\n",
              "    }\n",
              "  }\n",
              "</style>\n",
              "\n",
              "  <script>\n",
              "    async function quickchart(key) {\n",
              "      const quickchartButtonEl =\n",
              "        document.querySelector('#' + key + ' button');\n",
              "      quickchartButtonEl.disabled = true;  // To prevent multiple clicks.\n",
              "      quickchartButtonEl.classList.add('colab-df-spinner');\n",
              "      try {\n",
              "        const charts = await google.colab.kernel.invokeFunction(\n",
              "            'suggestCharts', [key], {});\n",
              "      } catch (error) {\n",
              "        console.error('Error during call to suggestCharts:', error);\n",
              "      }\n",
              "      quickchartButtonEl.classList.remove('colab-df-spinner');\n",
              "      quickchartButtonEl.classList.add('colab-df-quickchart-complete');\n",
              "    }\n",
              "    (() => {\n",
              "      let quickchartButtonEl =\n",
              "        document.querySelector('#df-dc51153e-725e-48e5-8d15-fae1667647ff button');\n",
              "      quickchartButtonEl.style.display =\n",
              "        google.colab.kernel.accessAllowed ? 'block' : 'none';\n",
              "    })();\n",
              "  </script>\n",
              "</div>\n",
              "\n",
              "    </div>\n",
              "  </div>\n"
            ],
            "application/vnd.google.colaboratory.intrinsic+json": {
              "type": "dataframe",
              "variable_name": "transactions"
            }
          },
          "metadata": {},
          "execution_count": 44
        }
      ]
    },
    {
      "cell_type": "markdown",
      "source": [
        "The transactions dataset contains information about various credit card transactions, including details such as account number, customer ID, credit limit, available money, transaction date and time, transaction amount, merchant name, acquisition country, merchant country code, point of sale entry mode, and more. Each row represents a single transaction made by a customer. The dataset also includes features like card presence, echo buffer, merchant city, state, and zip code, as well as indicators for on-premises transactions, recurring authorizations, and whether the transaction resulted in fraud. Overall, this dataset provides a comprehensive view of credit card transactions, making it suitable for tasks such as fraud detection, transaction analysis, and customer behavior modeling."
      ],
      "metadata": {
        "id": "I-RswfyzH0Am"
      }
    },
    {
      "cell_type": "markdown",
      "source": [
        "### 2. Describe the Structure of the Data"
      ],
      "metadata": {
        "id": "T4KTXndEdEuX"
      }
    },
    {
      "cell_type": "code",
      "source": [
        "transactions.shape"
      ],
      "metadata": {
        "colab": {
          "base_uri": "https://localhost:8080/"
        },
        "id": "HegVz7K1bamE",
        "outputId": "ff00969f-388f-454e-d64f-38eee3406579"
      },
      "execution_count": 45,
      "outputs": [
        {
          "output_type": "execute_result",
          "data": {
            "text/plain": [
              "(786363, 29)"
            ]
          },
          "metadata": {},
          "execution_count": 45
        }
      ]
    },
    {
      "cell_type": "code",
      "source": [
        "transactions.info()"
      ],
      "metadata": {
        "colab": {
          "base_uri": "https://localhost:8080/"
        },
        "id": "IJgWq7C_dL4N",
        "outputId": "dd3c01ec-7e7a-4435-a7b4-cda841be8d15"
      },
      "execution_count": 46,
      "outputs": [
        {
          "output_type": "stream",
          "name": "stdout",
          "text": [
            "<class 'pandas.core.frame.DataFrame'>\n",
            "RangeIndex: 786363 entries, 0 to 786362\n",
            "Data columns (total 29 columns):\n",
            " #   Column                    Non-Null Count   Dtype  \n",
            "---  ------                    --------------   -----  \n",
            " 0   accountNumber             786363 non-null  object \n",
            " 1   customerId                786363 non-null  object \n",
            " 2   creditLimit               786363 non-null  float64\n",
            " 3   availableMoney            786363 non-null  float64\n",
            " 4   transactionDateTime       786363 non-null  object \n",
            " 5   transactionAmount         786363 non-null  float64\n",
            " 6   merchantName              786363 non-null  object \n",
            " 7   acqCountry                786363 non-null  object \n",
            " 8   merchantCountryCode       786363 non-null  object \n",
            " 9   posEntryMode              786363 non-null  object \n",
            " 10  posConditionCode          786363 non-null  object \n",
            " 11  merchantCategoryCode      786363 non-null  object \n",
            " 12  currentExpDate            786363 non-null  object \n",
            " 13  accountOpenDate           786363 non-null  object \n",
            " 14  dateOfLastAddressChange   786363 non-null  object \n",
            " 15  cardCVV                   786363 non-null  object \n",
            " 16  enteredCVV                786363 non-null  object \n",
            " 17  cardLast4Digits           786363 non-null  object \n",
            " 18  transactionType           786363 non-null  object \n",
            " 19  echoBuffer                786363 non-null  object \n",
            " 20  currentBalance            786363 non-null  float64\n",
            " 21  merchantCity              786363 non-null  object \n",
            " 22  merchantState             786363 non-null  object \n",
            " 23  merchantZip               786363 non-null  object \n",
            " 24  cardPresent               786363 non-null  bool   \n",
            " 25  posOnPremises             786363 non-null  object \n",
            " 26  recurringAuthInd          786363 non-null  object \n",
            " 27  expirationDateKeyInMatch  786363 non-null  bool   \n",
            " 28  isFraud                   786363 non-null  bool   \n",
            "dtypes: bool(3), float64(4), object(22)\n",
            "memory usage: 158.2+ MB\n"
          ]
        }
      ]
    },
    {
      "cell_type": "markdown",
      "source": [
        "\n",
        "The dataset comprises 786,363 transactions with 29 attributes including account information, transaction details, and fraud indicators. Each transaction record contains features such as transaction amount, merchant details, and card-related information, with a boolean column denoting whether the transaction is fraudulent. The data types range from floating-point numbers to strings and boolean values, providing comprehensive information for analysis and modeling."
      ],
      "metadata": {
        "id": "rT64bYslITK3"
      }
    },
    {
      "cell_type": "markdown",
      "source": [
        "### 3. Basic Summary Statistics for Each Field"
      ],
      "metadata": {
        "id": "0miI8ARVdVDa"
      }
    },
    {
      "cell_type": "code",
      "source": [
        "transactions.describe()"
      ],
      "metadata": {
        "colab": {
          "base_uri": "https://localhost:8080/",
          "height": 300
        },
        "id": "CudTSN9P0yo5",
        "outputId": "cc2ecff5-c8e2-4117-9224-2ca6e04c28ec"
      },
      "execution_count": 47,
      "outputs": [
        {
          "output_type": "execute_result",
          "data": {
            "text/plain": [
              "         creditLimit  availableMoney  transactionAmount  currentBalance\n",
              "count  786363.000000   786363.000000      786363.000000   786363.000000\n",
              "mean    10759.464459     6250.725369         136.985791     4508.739089\n",
              "std     11636.174890     8880.783989         147.725569     6457.442068\n",
              "min       250.000000    -1005.630000           0.000000        0.000000\n",
              "25%      5000.000000     1077.420000          33.650000      689.910000\n",
              "50%      7500.000000     3184.860000          87.900000     2451.760000\n",
              "75%     15000.000000     7500.000000         191.480000     5291.095000\n",
              "max     50000.000000    50000.000000        2011.540000    47498.810000"
            ],
            "text/html": [
              "\n",
              "  <div id=\"df-62a94ffd-0e9a-4b75-8101-15753be2a2d2\" class=\"colab-df-container\">\n",
              "    <div>\n",
              "<style scoped>\n",
              "    .dataframe tbody tr th:only-of-type {\n",
              "        vertical-align: middle;\n",
              "    }\n",
              "\n",
              "    .dataframe tbody tr th {\n",
              "        vertical-align: top;\n",
              "    }\n",
              "\n",
              "    .dataframe thead th {\n",
              "        text-align: right;\n",
              "    }\n",
              "</style>\n",
              "<table border=\"1\" class=\"dataframe\">\n",
              "  <thead>\n",
              "    <tr style=\"text-align: right;\">\n",
              "      <th></th>\n",
              "      <th>creditLimit</th>\n",
              "      <th>availableMoney</th>\n",
              "      <th>transactionAmount</th>\n",
              "      <th>currentBalance</th>\n",
              "    </tr>\n",
              "  </thead>\n",
              "  <tbody>\n",
              "    <tr>\n",
              "      <th>count</th>\n",
              "      <td>786363.000000</td>\n",
              "      <td>786363.000000</td>\n",
              "      <td>786363.000000</td>\n",
              "      <td>786363.000000</td>\n",
              "    </tr>\n",
              "    <tr>\n",
              "      <th>mean</th>\n",
              "      <td>10759.464459</td>\n",
              "      <td>6250.725369</td>\n",
              "      <td>136.985791</td>\n",
              "      <td>4508.739089</td>\n",
              "    </tr>\n",
              "    <tr>\n",
              "      <th>std</th>\n",
              "      <td>11636.174890</td>\n",
              "      <td>8880.783989</td>\n",
              "      <td>147.725569</td>\n",
              "      <td>6457.442068</td>\n",
              "    </tr>\n",
              "    <tr>\n",
              "      <th>min</th>\n",
              "      <td>250.000000</td>\n",
              "      <td>-1005.630000</td>\n",
              "      <td>0.000000</td>\n",
              "      <td>0.000000</td>\n",
              "    </tr>\n",
              "    <tr>\n",
              "      <th>25%</th>\n",
              "      <td>5000.000000</td>\n",
              "      <td>1077.420000</td>\n",
              "      <td>33.650000</td>\n",
              "      <td>689.910000</td>\n",
              "    </tr>\n",
              "    <tr>\n",
              "      <th>50%</th>\n",
              "      <td>7500.000000</td>\n",
              "      <td>3184.860000</td>\n",
              "      <td>87.900000</td>\n",
              "      <td>2451.760000</td>\n",
              "    </tr>\n",
              "    <tr>\n",
              "      <th>75%</th>\n",
              "      <td>15000.000000</td>\n",
              "      <td>7500.000000</td>\n",
              "      <td>191.480000</td>\n",
              "      <td>5291.095000</td>\n",
              "    </tr>\n",
              "    <tr>\n",
              "      <th>max</th>\n",
              "      <td>50000.000000</td>\n",
              "      <td>50000.000000</td>\n",
              "      <td>2011.540000</td>\n",
              "      <td>47498.810000</td>\n",
              "    </tr>\n",
              "  </tbody>\n",
              "</table>\n",
              "</div>\n",
              "    <div class=\"colab-df-buttons\">\n",
              "\n",
              "  <div class=\"colab-df-container\">\n",
              "    <button class=\"colab-df-convert\" onclick=\"convertToInteractive('df-62a94ffd-0e9a-4b75-8101-15753be2a2d2')\"\n",
              "            title=\"Convert this dataframe to an interactive table.\"\n",
              "            style=\"display:none;\">\n",
              "\n",
              "  <svg xmlns=\"http://www.w3.org/2000/svg\" height=\"24px\" viewBox=\"0 -960 960 960\">\n",
              "    <path d=\"M120-120v-720h720v720H120Zm60-500h600v-160H180v160Zm220 220h160v-160H400v160Zm0 220h160v-160H400v160ZM180-400h160v-160H180v160Zm440 0h160v-160H620v160ZM180-180h160v-160H180v160Zm440 0h160v-160H620v160Z\"/>\n",
              "  </svg>\n",
              "    </button>\n",
              "\n",
              "  <style>\n",
              "    .colab-df-container {\n",
              "      display:flex;\n",
              "      gap: 12px;\n",
              "    }\n",
              "\n",
              "    .colab-df-convert {\n",
              "      background-color: #E8F0FE;\n",
              "      border: none;\n",
              "      border-radius: 50%;\n",
              "      cursor: pointer;\n",
              "      display: none;\n",
              "      fill: #1967D2;\n",
              "      height: 32px;\n",
              "      padding: 0 0 0 0;\n",
              "      width: 32px;\n",
              "    }\n",
              "\n",
              "    .colab-df-convert:hover {\n",
              "      background-color: #E2EBFA;\n",
              "      box-shadow: 0px 1px 2px rgba(60, 64, 67, 0.3), 0px 1px 3px 1px rgba(60, 64, 67, 0.15);\n",
              "      fill: #174EA6;\n",
              "    }\n",
              "\n",
              "    .colab-df-buttons div {\n",
              "      margin-bottom: 4px;\n",
              "    }\n",
              "\n",
              "    [theme=dark] .colab-df-convert {\n",
              "      background-color: #3B4455;\n",
              "      fill: #D2E3FC;\n",
              "    }\n",
              "\n",
              "    [theme=dark] .colab-df-convert:hover {\n",
              "      background-color: #434B5C;\n",
              "      box-shadow: 0px 1px 3px 1px rgba(0, 0, 0, 0.15);\n",
              "      filter: drop-shadow(0px 1px 2px rgba(0, 0, 0, 0.3));\n",
              "      fill: #FFFFFF;\n",
              "    }\n",
              "  </style>\n",
              "\n",
              "    <script>\n",
              "      const buttonEl =\n",
              "        document.querySelector('#df-62a94ffd-0e9a-4b75-8101-15753be2a2d2 button.colab-df-convert');\n",
              "      buttonEl.style.display =\n",
              "        google.colab.kernel.accessAllowed ? 'block' : 'none';\n",
              "\n",
              "      async function convertToInteractive(key) {\n",
              "        const element = document.querySelector('#df-62a94ffd-0e9a-4b75-8101-15753be2a2d2');\n",
              "        const dataTable =\n",
              "          await google.colab.kernel.invokeFunction('convertToInteractive',\n",
              "                                                    [key], {});\n",
              "        if (!dataTable) return;\n",
              "\n",
              "        const docLinkHtml = 'Like what you see? Visit the ' +\n",
              "          '<a target=\"_blank\" href=https://colab.research.google.com/notebooks/data_table.ipynb>data table notebook</a>'\n",
              "          + ' to learn more about interactive tables.';\n",
              "        element.innerHTML = '';\n",
              "        dataTable['output_type'] = 'display_data';\n",
              "        await google.colab.output.renderOutput(dataTable, element);\n",
              "        const docLink = document.createElement('div');\n",
              "        docLink.innerHTML = docLinkHtml;\n",
              "        element.appendChild(docLink);\n",
              "      }\n",
              "    </script>\n",
              "  </div>\n",
              "\n",
              "\n",
              "<div id=\"df-bb355ceb-3e62-4ab8-8d3d-cc6340f9f68e\">\n",
              "  <button class=\"colab-df-quickchart\" onclick=\"quickchart('df-bb355ceb-3e62-4ab8-8d3d-cc6340f9f68e')\"\n",
              "            title=\"Suggest charts\"\n",
              "            style=\"display:none;\">\n",
              "\n",
              "<svg xmlns=\"http://www.w3.org/2000/svg\" height=\"24px\"viewBox=\"0 0 24 24\"\n",
              "     width=\"24px\">\n",
              "    <g>\n",
              "        <path d=\"M19 3H5c-1.1 0-2 .9-2 2v14c0 1.1.9 2 2 2h14c1.1 0 2-.9 2-2V5c0-1.1-.9-2-2-2zM9 17H7v-7h2v7zm4 0h-2V7h2v10zm4 0h-2v-4h2v4z\"/>\n",
              "    </g>\n",
              "</svg>\n",
              "  </button>\n",
              "\n",
              "<style>\n",
              "  .colab-df-quickchart {\n",
              "      --bg-color: #E8F0FE;\n",
              "      --fill-color: #1967D2;\n",
              "      --hover-bg-color: #E2EBFA;\n",
              "      --hover-fill-color: #174EA6;\n",
              "      --disabled-fill-color: #AAA;\n",
              "      --disabled-bg-color: #DDD;\n",
              "  }\n",
              "\n",
              "  [theme=dark] .colab-df-quickchart {\n",
              "      --bg-color: #3B4455;\n",
              "      --fill-color: #D2E3FC;\n",
              "      --hover-bg-color: #434B5C;\n",
              "      --hover-fill-color: #FFFFFF;\n",
              "      --disabled-bg-color: #3B4455;\n",
              "      --disabled-fill-color: #666;\n",
              "  }\n",
              "\n",
              "  .colab-df-quickchart {\n",
              "    background-color: var(--bg-color);\n",
              "    border: none;\n",
              "    border-radius: 50%;\n",
              "    cursor: pointer;\n",
              "    display: none;\n",
              "    fill: var(--fill-color);\n",
              "    height: 32px;\n",
              "    padding: 0;\n",
              "    width: 32px;\n",
              "  }\n",
              "\n",
              "  .colab-df-quickchart:hover {\n",
              "    background-color: var(--hover-bg-color);\n",
              "    box-shadow: 0 1px 2px rgba(60, 64, 67, 0.3), 0 1px 3px 1px rgba(60, 64, 67, 0.15);\n",
              "    fill: var(--button-hover-fill-color);\n",
              "  }\n",
              "\n",
              "  .colab-df-quickchart-complete:disabled,\n",
              "  .colab-df-quickchart-complete:disabled:hover {\n",
              "    background-color: var(--disabled-bg-color);\n",
              "    fill: var(--disabled-fill-color);\n",
              "    box-shadow: none;\n",
              "  }\n",
              "\n",
              "  .colab-df-spinner {\n",
              "    border: 2px solid var(--fill-color);\n",
              "    border-color: transparent;\n",
              "    border-bottom-color: var(--fill-color);\n",
              "    animation:\n",
              "      spin 1s steps(1) infinite;\n",
              "  }\n",
              "\n",
              "  @keyframes spin {\n",
              "    0% {\n",
              "      border-color: transparent;\n",
              "      border-bottom-color: var(--fill-color);\n",
              "      border-left-color: var(--fill-color);\n",
              "    }\n",
              "    20% {\n",
              "      border-color: transparent;\n",
              "      border-left-color: var(--fill-color);\n",
              "      border-top-color: var(--fill-color);\n",
              "    }\n",
              "    30% {\n",
              "      border-color: transparent;\n",
              "      border-left-color: var(--fill-color);\n",
              "      border-top-color: var(--fill-color);\n",
              "      border-right-color: var(--fill-color);\n",
              "    }\n",
              "    40% {\n",
              "      border-color: transparent;\n",
              "      border-right-color: var(--fill-color);\n",
              "      border-top-color: var(--fill-color);\n",
              "    }\n",
              "    60% {\n",
              "      border-color: transparent;\n",
              "      border-right-color: var(--fill-color);\n",
              "    }\n",
              "    80% {\n",
              "      border-color: transparent;\n",
              "      border-right-color: var(--fill-color);\n",
              "      border-bottom-color: var(--fill-color);\n",
              "    }\n",
              "    90% {\n",
              "      border-color: transparent;\n",
              "      border-bottom-color: var(--fill-color);\n",
              "    }\n",
              "  }\n",
              "</style>\n",
              "\n",
              "  <script>\n",
              "    async function quickchart(key) {\n",
              "      const quickchartButtonEl =\n",
              "        document.querySelector('#' + key + ' button');\n",
              "      quickchartButtonEl.disabled = true;  // To prevent multiple clicks.\n",
              "      quickchartButtonEl.classList.add('colab-df-spinner');\n",
              "      try {\n",
              "        const charts = await google.colab.kernel.invokeFunction(\n",
              "            'suggestCharts', [key], {});\n",
              "      } catch (error) {\n",
              "        console.error('Error during call to suggestCharts:', error);\n",
              "      }\n",
              "      quickchartButtonEl.classList.remove('colab-df-spinner');\n",
              "      quickchartButtonEl.classList.add('colab-df-quickchart-complete');\n",
              "    }\n",
              "    (() => {\n",
              "      let quickchartButtonEl =\n",
              "        document.querySelector('#df-bb355ceb-3e62-4ab8-8d3d-cc6340f9f68e button');\n",
              "      quickchartButtonEl.style.display =\n",
              "        google.colab.kernel.accessAllowed ? 'block' : 'none';\n",
              "    })();\n",
              "  </script>\n",
              "</div>\n",
              "\n",
              "    </div>\n",
              "  </div>\n"
            ],
            "application/vnd.google.colaboratory.intrinsic+json": {
              "type": "dataframe",
              "summary": "{\n  \"name\": \"transactions\",\n  \"rows\": 8,\n  \"fields\": [\n    {\n      \"column\": \"creditLimit\",\n      \"properties\": {\n        \"dtype\": \"number\",\n        \"std\": 273388.0159761333,\n        \"min\": 250.0,\n        \"max\": 786363.0,\n        \"num_unique_values\": 8,\n        \"samples\": [\n          10759.464458526152,\n          7500.0,\n          786363.0\n        ],\n        \"semantic_type\": \"\",\n        \"description\": \"\"\n      }\n    },\n    {\n      \"column\": \"availableMoney\",\n      \"properties\": {\n        \"dtype\": \"number\",\n        \"std\": 274673.47898207273,\n        \"min\": -1005.63,\n        \"max\": 786363.0,\n        \"num_unique_values\": 8,\n        \"samples\": [\n          6250.725369288736,\n          3184.86,\n          786363.0\n        ],\n        \"semantic_type\": \"\",\n        \"description\": \"\"\n      }\n    },\n    {\n      \"column\": \"transactionAmount\",\n      \"properties\": {\n        \"dtype\": \"number\",\n        \"std\": 277890.32846460195,\n        \"min\": 0.0,\n        \"max\": 786363.0,\n        \"num_unique_values\": 8,\n        \"samples\": [\n          136.98579095150708,\n          87.9,\n          786363.0\n        ],\n        \"semantic_type\": \"\",\n        \"description\": \"\"\n      }\n    },\n    {\n      \"column\": \"currentBalance\",\n      \"properties\": {\n        \"dtype\": \"number\",\n        \"std\": 275087.6938219827,\n        \"min\": 0.0,\n        \"max\": 786363.0,\n        \"num_unique_values\": 8,\n        \"samples\": [\n          4508.739089237413,\n          2451.76,\n          786363.0\n        ],\n        \"semantic_type\": \"\",\n        \"description\": \"\"\n      }\n    }\n  ]\n}"
            }
          },
          "metadata": {},
          "execution_count": 47
        }
      ]
    },
    {
      "cell_type": "code",
      "source": [
        "transactions.describe(include='all')\n"
      ],
      "metadata": {
        "colab": {
          "base_uri": "https://localhost:8080/",
          "height": 444
        },
        "id": "ntI6RRcZdMYX",
        "outputId": "e5d94720-ed53-4e37-bac7-ebbc761fe642"
      },
      "execution_count": 48,
      "outputs": [
        {
          "output_type": "execute_result",
          "data": {
            "text/plain": [
              "       accountNumber customerId    creditLimit  availableMoney  \\\n",
              "count         786363     786363  786363.000000   786363.000000   \n",
              "unique          5000       5000            NaN             NaN   \n",
              "top        380680241  380680241            NaN             NaN   \n",
              "freq           32850      32850            NaN             NaN   \n",
              "mean             NaN        NaN   10759.464459     6250.725369   \n",
              "std              NaN        NaN   11636.174890     8880.783989   \n",
              "min              NaN        NaN     250.000000    -1005.630000   \n",
              "25%              NaN        NaN    5000.000000     1077.420000   \n",
              "50%              NaN        NaN    7500.000000     3184.860000   \n",
              "75%              NaN        NaN   15000.000000     7500.000000   \n",
              "max              NaN        NaN   50000.000000    50000.000000   \n",
              "\n",
              "        transactionDateTime  transactionAmount merchantName acqCountry  \\\n",
              "count                786363      786363.000000       786363     786363   \n",
              "unique               776637                NaN         2490          5   \n",
              "top     2016-12-25T14:04:15                NaN         Uber         US   \n",
              "freq                      4                NaN        25613     774709   \n",
              "mean                    NaN         136.985791          NaN        NaN   \n",
              "std                     NaN         147.725569          NaN        NaN   \n",
              "min                     NaN           0.000000          NaN        NaN   \n",
              "25%                     NaN          33.650000          NaN        NaN   \n",
              "50%                     NaN          87.900000          NaN        NaN   \n",
              "75%                     NaN         191.480000          NaN        NaN   \n",
              "max                     NaN        2011.540000          NaN        NaN   \n",
              "\n",
              "       merchantCountryCode posEntryMode  ... echoBuffer currentBalance  \\\n",
              "count               786363       786363  ...     786363  786363.000000   \n",
              "unique                   5            6  ...          1            NaN   \n",
              "top                     US           05  ...                       NaN   \n",
              "freq                778511       315035  ...     786363            NaN   \n",
              "mean                   NaN          NaN  ...        NaN    4508.739089   \n",
              "std                    NaN          NaN  ...        NaN    6457.442068   \n",
              "min                    NaN          NaN  ...        NaN       0.000000   \n",
              "25%                    NaN          NaN  ...        NaN     689.910000   \n",
              "50%                    NaN          NaN  ...        NaN    2451.760000   \n",
              "75%                    NaN          NaN  ...        NaN    5291.095000   \n",
              "max                    NaN          NaN  ...        NaN   47498.810000   \n",
              "\n",
              "       merchantCity merchantState merchantZip cardPresent posOnPremises  \\\n",
              "count        786363        786363      786363      786363        786363   \n",
              "unique            1             1           1           2             1   \n",
              "top                                                 False                 \n",
              "freq         786363        786363      786363      433495        786363   \n",
              "mean            NaN           NaN         NaN         NaN           NaN   \n",
              "std             NaN           NaN         NaN         NaN           NaN   \n",
              "min             NaN           NaN         NaN         NaN           NaN   \n",
              "25%             NaN           NaN         NaN         NaN           NaN   \n",
              "50%             NaN           NaN         NaN         NaN           NaN   \n",
              "75%             NaN           NaN         NaN         NaN           NaN   \n",
              "max             NaN           NaN         NaN         NaN           NaN   \n",
              "\n",
              "       recurringAuthInd expirationDateKeyInMatch isFraud  \n",
              "count            786363                   786363  786363  \n",
              "unique                1                        2       2  \n",
              "top                                        False   False  \n",
              "freq             786363                   785320  773946  \n",
              "mean                NaN                      NaN     NaN  \n",
              "std                 NaN                      NaN     NaN  \n",
              "min                 NaN                      NaN     NaN  \n",
              "25%                 NaN                      NaN     NaN  \n",
              "50%                 NaN                      NaN     NaN  \n",
              "75%                 NaN                      NaN     NaN  \n",
              "max                 NaN                      NaN     NaN  \n",
              "\n",
              "[11 rows x 29 columns]"
            ],
            "text/html": [
              "\n",
              "  <div id=\"df-c50058ab-818c-4e3f-a354-5e9bea21be7f\" class=\"colab-df-container\">\n",
              "    <div>\n",
              "<style scoped>\n",
              "    .dataframe tbody tr th:only-of-type {\n",
              "        vertical-align: middle;\n",
              "    }\n",
              "\n",
              "    .dataframe tbody tr th {\n",
              "        vertical-align: top;\n",
              "    }\n",
              "\n",
              "    .dataframe thead th {\n",
              "        text-align: right;\n",
              "    }\n",
              "</style>\n",
              "<table border=\"1\" class=\"dataframe\">\n",
              "  <thead>\n",
              "    <tr style=\"text-align: right;\">\n",
              "      <th></th>\n",
              "      <th>accountNumber</th>\n",
              "      <th>customerId</th>\n",
              "      <th>creditLimit</th>\n",
              "      <th>availableMoney</th>\n",
              "      <th>transactionDateTime</th>\n",
              "      <th>transactionAmount</th>\n",
              "      <th>merchantName</th>\n",
              "      <th>acqCountry</th>\n",
              "      <th>merchantCountryCode</th>\n",
              "      <th>posEntryMode</th>\n",
              "      <th>...</th>\n",
              "      <th>echoBuffer</th>\n",
              "      <th>currentBalance</th>\n",
              "      <th>merchantCity</th>\n",
              "      <th>merchantState</th>\n",
              "      <th>merchantZip</th>\n",
              "      <th>cardPresent</th>\n",
              "      <th>posOnPremises</th>\n",
              "      <th>recurringAuthInd</th>\n",
              "      <th>expirationDateKeyInMatch</th>\n",
              "      <th>isFraud</th>\n",
              "    </tr>\n",
              "  </thead>\n",
              "  <tbody>\n",
              "    <tr>\n",
              "      <th>count</th>\n",
              "      <td>786363</td>\n",
              "      <td>786363</td>\n",
              "      <td>786363.000000</td>\n",
              "      <td>786363.000000</td>\n",
              "      <td>786363</td>\n",
              "      <td>786363.000000</td>\n",
              "      <td>786363</td>\n",
              "      <td>786363</td>\n",
              "      <td>786363</td>\n",
              "      <td>786363</td>\n",
              "      <td>...</td>\n",
              "      <td>786363</td>\n",
              "      <td>786363.000000</td>\n",
              "      <td>786363</td>\n",
              "      <td>786363</td>\n",
              "      <td>786363</td>\n",
              "      <td>786363</td>\n",
              "      <td>786363</td>\n",
              "      <td>786363</td>\n",
              "      <td>786363</td>\n",
              "      <td>786363</td>\n",
              "    </tr>\n",
              "    <tr>\n",
              "      <th>unique</th>\n",
              "      <td>5000</td>\n",
              "      <td>5000</td>\n",
              "      <td>NaN</td>\n",
              "      <td>NaN</td>\n",
              "      <td>776637</td>\n",
              "      <td>NaN</td>\n",
              "      <td>2490</td>\n",
              "      <td>5</td>\n",
              "      <td>5</td>\n",
              "      <td>6</td>\n",
              "      <td>...</td>\n",
              "      <td>1</td>\n",
              "      <td>NaN</td>\n",
              "      <td>1</td>\n",
              "      <td>1</td>\n",
              "      <td>1</td>\n",
              "      <td>2</td>\n",
              "      <td>1</td>\n",
              "      <td>1</td>\n",
              "      <td>2</td>\n",
              "      <td>2</td>\n",
              "    </tr>\n",
              "    <tr>\n",
              "      <th>top</th>\n",
              "      <td>380680241</td>\n",
              "      <td>380680241</td>\n",
              "      <td>NaN</td>\n",
              "      <td>NaN</td>\n",
              "      <td>2016-12-25T14:04:15</td>\n",
              "      <td>NaN</td>\n",
              "      <td>Uber</td>\n",
              "      <td>US</td>\n",
              "      <td>US</td>\n",
              "      <td>05</td>\n",
              "      <td>...</td>\n",
              "      <td></td>\n",
              "      <td>NaN</td>\n",
              "      <td></td>\n",
              "      <td></td>\n",
              "      <td></td>\n",
              "      <td>False</td>\n",
              "      <td></td>\n",
              "      <td></td>\n",
              "      <td>False</td>\n",
              "      <td>False</td>\n",
              "    </tr>\n",
              "    <tr>\n",
              "      <th>freq</th>\n",
              "      <td>32850</td>\n",
              "      <td>32850</td>\n",
              "      <td>NaN</td>\n",
              "      <td>NaN</td>\n",
              "      <td>4</td>\n",
              "      <td>NaN</td>\n",
              "      <td>25613</td>\n",
              "      <td>774709</td>\n",
              "      <td>778511</td>\n",
              "      <td>315035</td>\n",
              "      <td>...</td>\n",
              "      <td>786363</td>\n",
              "      <td>NaN</td>\n",
              "      <td>786363</td>\n",
              "      <td>786363</td>\n",
              "      <td>786363</td>\n",
              "      <td>433495</td>\n",
              "      <td>786363</td>\n",
              "      <td>786363</td>\n",
              "      <td>785320</td>\n",
              "      <td>773946</td>\n",
              "    </tr>\n",
              "    <tr>\n",
              "      <th>mean</th>\n",
              "      <td>NaN</td>\n",
              "      <td>NaN</td>\n",
              "      <td>10759.464459</td>\n",
              "      <td>6250.725369</td>\n",
              "      <td>NaN</td>\n",
              "      <td>136.985791</td>\n",
              "      <td>NaN</td>\n",
              "      <td>NaN</td>\n",
              "      <td>NaN</td>\n",
              "      <td>NaN</td>\n",
              "      <td>...</td>\n",
              "      <td>NaN</td>\n",
              "      <td>4508.739089</td>\n",
              "      <td>NaN</td>\n",
              "      <td>NaN</td>\n",
              "      <td>NaN</td>\n",
              "      <td>NaN</td>\n",
              "      <td>NaN</td>\n",
              "      <td>NaN</td>\n",
              "      <td>NaN</td>\n",
              "      <td>NaN</td>\n",
              "    </tr>\n",
              "    <tr>\n",
              "      <th>std</th>\n",
              "      <td>NaN</td>\n",
              "      <td>NaN</td>\n",
              "      <td>11636.174890</td>\n",
              "      <td>8880.783989</td>\n",
              "      <td>NaN</td>\n",
              "      <td>147.725569</td>\n",
              "      <td>NaN</td>\n",
              "      <td>NaN</td>\n",
              "      <td>NaN</td>\n",
              "      <td>NaN</td>\n",
              "      <td>...</td>\n",
              "      <td>NaN</td>\n",
              "      <td>6457.442068</td>\n",
              "      <td>NaN</td>\n",
              "      <td>NaN</td>\n",
              "      <td>NaN</td>\n",
              "      <td>NaN</td>\n",
              "      <td>NaN</td>\n",
              "      <td>NaN</td>\n",
              "      <td>NaN</td>\n",
              "      <td>NaN</td>\n",
              "    </tr>\n",
              "    <tr>\n",
              "      <th>min</th>\n",
              "      <td>NaN</td>\n",
              "      <td>NaN</td>\n",
              "      <td>250.000000</td>\n",
              "      <td>-1005.630000</td>\n",
              "      <td>NaN</td>\n",
              "      <td>0.000000</td>\n",
              "      <td>NaN</td>\n",
              "      <td>NaN</td>\n",
              "      <td>NaN</td>\n",
              "      <td>NaN</td>\n",
              "      <td>...</td>\n",
              "      <td>NaN</td>\n",
              "      <td>0.000000</td>\n",
              "      <td>NaN</td>\n",
              "      <td>NaN</td>\n",
              "      <td>NaN</td>\n",
              "      <td>NaN</td>\n",
              "      <td>NaN</td>\n",
              "      <td>NaN</td>\n",
              "      <td>NaN</td>\n",
              "      <td>NaN</td>\n",
              "    </tr>\n",
              "    <tr>\n",
              "      <th>25%</th>\n",
              "      <td>NaN</td>\n",
              "      <td>NaN</td>\n",
              "      <td>5000.000000</td>\n",
              "      <td>1077.420000</td>\n",
              "      <td>NaN</td>\n",
              "      <td>33.650000</td>\n",
              "      <td>NaN</td>\n",
              "      <td>NaN</td>\n",
              "      <td>NaN</td>\n",
              "      <td>NaN</td>\n",
              "      <td>...</td>\n",
              "      <td>NaN</td>\n",
              "      <td>689.910000</td>\n",
              "      <td>NaN</td>\n",
              "      <td>NaN</td>\n",
              "      <td>NaN</td>\n",
              "      <td>NaN</td>\n",
              "      <td>NaN</td>\n",
              "      <td>NaN</td>\n",
              "      <td>NaN</td>\n",
              "      <td>NaN</td>\n",
              "    </tr>\n",
              "    <tr>\n",
              "      <th>50%</th>\n",
              "      <td>NaN</td>\n",
              "      <td>NaN</td>\n",
              "      <td>7500.000000</td>\n",
              "      <td>3184.860000</td>\n",
              "      <td>NaN</td>\n",
              "      <td>87.900000</td>\n",
              "      <td>NaN</td>\n",
              "      <td>NaN</td>\n",
              "      <td>NaN</td>\n",
              "      <td>NaN</td>\n",
              "      <td>...</td>\n",
              "      <td>NaN</td>\n",
              "      <td>2451.760000</td>\n",
              "      <td>NaN</td>\n",
              "      <td>NaN</td>\n",
              "      <td>NaN</td>\n",
              "      <td>NaN</td>\n",
              "      <td>NaN</td>\n",
              "      <td>NaN</td>\n",
              "      <td>NaN</td>\n",
              "      <td>NaN</td>\n",
              "    </tr>\n",
              "    <tr>\n",
              "      <th>75%</th>\n",
              "      <td>NaN</td>\n",
              "      <td>NaN</td>\n",
              "      <td>15000.000000</td>\n",
              "      <td>7500.000000</td>\n",
              "      <td>NaN</td>\n",
              "      <td>191.480000</td>\n",
              "      <td>NaN</td>\n",
              "      <td>NaN</td>\n",
              "      <td>NaN</td>\n",
              "      <td>NaN</td>\n",
              "      <td>...</td>\n",
              "      <td>NaN</td>\n",
              "      <td>5291.095000</td>\n",
              "      <td>NaN</td>\n",
              "      <td>NaN</td>\n",
              "      <td>NaN</td>\n",
              "      <td>NaN</td>\n",
              "      <td>NaN</td>\n",
              "      <td>NaN</td>\n",
              "      <td>NaN</td>\n",
              "      <td>NaN</td>\n",
              "    </tr>\n",
              "    <tr>\n",
              "      <th>max</th>\n",
              "      <td>NaN</td>\n",
              "      <td>NaN</td>\n",
              "      <td>50000.000000</td>\n",
              "      <td>50000.000000</td>\n",
              "      <td>NaN</td>\n",
              "      <td>2011.540000</td>\n",
              "      <td>NaN</td>\n",
              "      <td>NaN</td>\n",
              "      <td>NaN</td>\n",
              "      <td>NaN</td>\n",
              "      <td>...</td>\n",
              "      <td>NaN</td>\n",
              "      <td>47498.810000</td>\n",
              "      <td>NaN</td>\n",
              "      <td>NaN</td>\n",
              "      <td>NaN</td>\n",
              "      <td>NaN</td>\n",
              "      <td>NaN</td>\n",
              "      <td>NaN</td>\n",
              "      <td>NaN</td>\n",
              "      <td>NaN</td>\n",
              "    </tr>\n",
              "  </tbody>\n",
              "</table>\n",
              "<p>11 rows × 29 columns</p>\n",
              "</div>\n",
              "    <div class=\"colab-df-buttons\">\n",
              "\n",
              "  <div class=\"colab-df-container\">\n",
              "    <button class=\"colab-df-convert\" onclick=\"convertToInteractive('df-c50058ab-818c-4e3f-a354-5e9bea21be7f')\"\n",
              "            title=\"Convert this dataframe to an interactive table.\"\n",
              "            style=\"display:none;\">\n",
              "\n",
              "  <svg xmlns=\"http://www.w3.org/2000/svg\" height=\"24px\" viewBox=\"0 -960 960 960\">\n",
              "    <path d=\"M120-120v-720h720v720H120Zm60-500h600v-160H180v160Zm220 220h160v-160H400v160Zm0 220h160v-160H400v160ZM180-400h160v-160H180v160Zm440 0h160v-160H620v160ZM180-180h160v-160H180v160Zm440 0h160v-160H620v160Z\"/>\n",
              "  </svg>\n",
              "    </button>\n",
              "\n",
              "  <style>\n",
              "    .colab-df-container {\n",
              "      display:flex;\n",
              "      gap: 12px;\n",
              "    }\n",
              "\n",
              "    .colab-df-convert {\n",
              "      background-color: #E8F0FE;\n",
              "      border: none;\n",
              "      border-radius: 50%;\n",
              "      cursor: pointer;\n",
              "      display: none;\n",
              "      fill: #1967D2;\n",
              "      height: 32px;\n",
              "      padding: 0 0 0 0;\n",
              "      width: 32px;\n",
              "    }\n",
              "\n",
              "    .colab-df-convert:hover {\n",
              "      background-color: #E2EBFA;\n",
              "      box-shadow: 0px 1px 2px rgba(60, 64, 67, 0.3), 0px 1px 3px 1px rgba(60, 64, 67, 0.15);\n",
              "      fill: #174EA6;\n",
              "    }\n",
              "\n",
              "    .colab-df-buttons div {\n",
              "      margin-bottom: 4px;\n",
              "    }\n",
              "\n",
              "    [theme=dark] .colab-df-convert {\n",
              "      background-color: #3B4455;\n",
              "      fill: #D2E3FC;\n",
              "    }\n",
              "\n",
              "    [theme=dark] .colab-df-convert:hover {\n",
              "      background-color: #434B5C;\n",
              "      box-shadow: 0px 1px 3px 1px rgba(0, 0, 0, 0.15);\n",
              "      filter: drop-shadow(0px 1px 2px rgba(0, 0, 0, 0.3));\n",
              "      fill: #FFFFFF;\n",
              "    }\n",
              "  </style>\n",
              "\n",
              "    <script>\n",
              "      const buttonEl =\n",
              "        document.querySelector('#df-c50058ab-818c-4e3f-a354-5e9bea21be7f button.colab-df-convert');\n",
              "      buttonEl.style.display =\n",
              "        google.colab.kernel.accessAllowed ? 'block' : 'none';\n",
              "\n",
              "      async function convertToInteractive(key) {\n",
              "        const element = document.querySelector('#df-c50058ab-818c-4e3f-a354-5e9bea21be7f');\n",
              "        const dataTable =\n",
              "          await google.colab.kernel.invokeFunction('convertToInteractive',\n",
              "                                                    [key], {});\n",
              "        if (!dataTable) return;\n",
              "\n",
              "        const docLinkHtml = 'Like what you see? Visit the ' +\n",
              "          '<a target=\"_blank\" href=https://colab.research.google.com/notebooks/data_table.ipynb>data table notebook</a>'\n",
              "          + ' to learn more about interactive tables.';\n",
              "        element.innerHTML = '';\n",
              "        dataTable['output_type'] = 'display_data';\n",
              "        await google.colab.output.renderOutput(dataTable, element);\n",
              "        const docLink = document.createElement('div');\n",
              "        docLink.innerHTML = docLinkHtml;\n",
              "        element.appendChild(docLink);\n",
              "      }\n",
              "    </script>\n",
              "  </div>\n",
              "\n",
              "\n",
              "<div id=\"df-2b1affd0-48b3-43c6-9127-6df80427b8f7\">\n",
              "  <button class=\"colab-df-quickchart\" onclick=\"quickchart('df-2b1affd0-48b3-43c6-9127-6df80427b8f7')\"\n",
              "            title=\"Suggest charts\"\n",
              "            style=\"display:none;\">\n",
              "\n",
              "<svg xmlns=\"http://www.w3.org/2000/svg\" height=\"24px\"viewBox=\"0 0 24 24\"\n",
              "     width=\"24px\">\n",
              "    <g>\n",
              "        <path d=\"M19 3H5c-1.1 0-2 .9-2 2v14c0 1.1.9 2 2 2h14c1.1 0 2-.9 2-2V5c0-1.1-.9-2-2-2zM9 17H7v-7h2v7zm4 0h-2V7h2v10zm4 0h-2v-4h2v4z\"/>\n",
              "    </g>\n",
              "</svg>\n",
              "  </button>\n",
              "\n",
              "<style>\n",
              "  .colab-df-quickchart {\n",
              "      --bg-color: #E8F0FE;\n",
              "      --fill-color: #1967D2;\n",
              "      --hover-bg-color: #E2EBFA;\n",
              "      --hover-fill-color: #174EA6;\n",
              "      --disabled-fill-color: #AAA;\n",
              "      --disabled-bg-color: #DDD;\n",
              "  }\n",
              "\n",
              "  [theme=dark] .colab-df-quickchart {\n",
              "      --bg-color: #3B4455;\n",
              "      --fill-color: #D2E3FC;\n",
              "      --hover-bg-color: #434B5C;\n",
              "      --hover-fill-color: #FFFFFF;\n",
              "      --disabled-bg-color: #3B4455;\n",
              "      --disabled-fill-color: #666;\n",
              "  }\n",
              "\n",
              "  .colab-df-quickchart {\n",
              "    background-color: var(--bg-color);\n",
              "    border: none;\n",
              "    border-radius: 50%;\n",
              "    cursor: pointer;\n",
              "    display: none;\n",
              "    fill: var(--fill-color);\n",
              "    height: 32px;\n",
              "    padding: 0;\n",
              "    width: 32px;\n",
              "  }\n",
              "\n",
              "  .colab-df-quickchart:hover {\n",
              "    background-color: var(--hover-bg-color);\n",
              "    box-shadow: 0 1px 2px rgba(60, 64, 67, 0.3), 0 1px 3px 1px rgba(60, 64, 67, 0.15);\n",
              "    fill: var(--button-hover-fill-color);\n",
              "  }\n",
              "\n",
              "  .colab-df-quickchart-complete:disabled,\n",
              "  .colab-df-quickchart-complete:disabled:hover {\n",
              "    background-color: var(--disabled-bg-color);\n",
              "    fill: var(--disabled-fill-color);\n",
              "    box-shadow: none;\n",
              "  }\n",
              "\n",
              "  .colab-df-spinner {\n",
              "    border: 2px solid var(--fill-color);\n",
              "    border-color: transparent;\n",
              "    border-bottom-color: var(--fill-color);\n",
              "    animation:\n",
              "      spin 1s steps(1) infinite;\n",
              "  }\n",
              "\n",
              "  @keyframes spin {\n",
              "    0% {\n",
              "      border-color: transparent;\n",
              "      border-bottom-color: var(--fill-color);\n",
              "      border-left-color: var(--fill-color);\n",
              "    }\n",
              "    20% {\n",
              "      border-color: transparent;\n",
              "      border-left-color: var(--fill-color);\n",
              "      border-top-color: var(--fill-color);\n",
              "    }\n",
              "    30% {\n",
              "      border-color: transparent;\n",
              "      border-left-color: var(--fill-color);\n",
              "      border-top-color: var(--fill-color);\n",
              "      border-right-color: var(--fill-color);\n",
              "    }\n",
              "    40% {\n",
              "      border-color: transparent;\n",
              "      border-right-color: var(--fill-color);\n",
              "      border-top-color: var(--fill-color);\n",
              "    }\n",
              "    60% {\n",
              "      border-color: transparent;\n",
              "      border-right-color: var(--fill-color);\n",
              "    }\n",
              "    80% {\n",
              "      border-color: transparent;\n",
              "      border-right-color: var(--fill-color);\n",
              "      border-bottom-color: var(--fill-color);\n",
              "    }\n",
              "    90% {\n",
              "      border-color: transparent;\n",
              "      border-bottom-color: var(--fill-color);\n",
              "    }\n",
              "  }\n",
              "</style>\n",
              "\n",
              "  <script>\n",
              "    async function quickchart(key) {\n",
              "      const quickchartButtonEl =\n",
              "        document.querySelector('#' + key + ' button');\n",
              "      quickchartButtonEl.disabled = true;  // To prevent multiple clicks.\n",
              "      quickchartButtonEl.classList.add('colab-df-spinner');\n",
              "      try {\n",
              "        const charts = await google.colab.kernel.invokeFunction(\n",
              "            'suggestCharts', [key], {});\n",
              "      } catch (error) {\n",
              "        console.error('Error during call to suggestCharts:', error);\n",
              "      }\n",
              "      quickchartButtonEl.classList.remove('colab-df-spinner');\n",
              "      quickchartButtonEl.classList.add('colab-df-quickchart-complete');\n",
              "    }\n",
              "    (() => {\n",
              "      let quickchartButtonEl =\n",
              "        document.querySelector('#df-2b1affd0-48b3-43c6-9127-6df80427b8f7 button');\n",
              "      quickchartButtonEl.style.display =\n",
              "        google.colab.kernel.accessAllowed ? 'block' : 'none';\n",
              "    })();\n",
              "  </script>\n",
              "</div>\n",
              "\n",
              "    </div>\n",
              "  </div>\n"
            ],
            "application/vnd.google.colaboratory.intrinsic+json": {
              "type": "dataframe"
            }
          },
          "metadata": {},
          "execution_count": 48
        }
      ]
    },
    {
      "cell_type": "code",
      "source": [
        "null_summary = transactions.isnull().sum()\n",
        "print(null_summary)"
      ],
      "metadata": {
        "colab": {
          "base_uri": "https://localhost:8080/"
        },
        "id": "3QR9sUkSdju1",
        "outputId": "7e33bec1-ca69-4af2-d4d5-1e6a49bf6d1b"
      },
      "execution_count": 49,
      "outputs": [
        {
          "output_type": "stream",
          "name": "stdout",
          "text": [
            "accountNumber               0\n",
            "customerId                  0\n",
            "creditLimit                 0\n",
            "availableMoney              0\n",
            "transactionDateTime         0\n",
            "transactionAmount           0\n",
            "merchantName                0\n",
            "acqCountry                  0\n",
            "merchantCountryCode         0\n",
            "posEntryMode                0\n",
            "posConditionCode            0\n",
            "merchantCategoryCode        0\n",
            "currentExpDate              0\n",
            "accountOpenDate             0\n",
            "dateOfLastAddressChange     0\n",
            "cardCVV                     0\n",
            "enteredCVV                  0\n",
            "cardLast4Digits             0\n",
            "transactionType             0\n",
            "echoBuffer                  0\n",
            "currentBalance              0\n",
            "merchantCity                0\n",
            "merchantState               0\n",
            "merchantZip                 0\n",
            "cardPresent                 0\n",
            "posOnPremises               0\n",
            "recurringAuthInd            0\n",
            "expirationDateKeyInMatch    0\n",
            "isFraud                     0\n",
            "dtype: int64\n"
          ]
        }
      ]
    },
    {
      "cell_type": "code",
      "source": [
        "# Count of unique values for each column\n",
        "unique_counts = transactions.nunique()\n",
        "\n",
        "print(unique_counts)\n"
      ],
      "metadata": {
        "colab": {
          "base_uri": "https://localhost:8080/"
        },
        "id": "2Ag7p3XFwBuN",
        "outputId": "f9c86645-b7f4-4623-f00b-3b30475fbe06"
      },
      "execution_count": 50,
      "outputs": [
        {
          "output_type": "stream",
          "name": "stdout",
          "text": [
            "accountNumber                 5000\n",
            "customerId                    5000\n",
            "creditLimit                     10\n",
            "availableMoney              521916\n",
            "transactionDateTime         776637\n",
            "transactionAmount            66038\n",
            "merchantName                  2490\n",
            "acqCountry                       5\n",
            "merchantCountryCode              5\n",
            "posEntryMode                     6\n",
            "posConditionCode                 4\n",
            "merchantCategoryCode            19\n",
            "currentExpDate                 165\n",
            "accountOpenDate               1820\n",
            "dateOfLastAddressChange       2184\n",
            "cardCVV                        899\n",
            "enteredCVV                     976\n",
            "cardLast4Digits               5246\n",
            "transactionType                  4\n",
            "echoBuffer                       1\n",
            "currentBalance              487318\n",
            "merchantCity                     1\n",
            "merchantState                    1\n",
            "merchantZip                      1\n",
            "cardPresent                      2\n",
            "posOnPremises                    1\n",
            "recurringAuthInd                 1\n",
            "expirationDateKeyInMatch         2\n",
            "isFraud                          2\n",
            "dtype: int64\n"
          ]
        }
      ]
    },
    {
      "cell_type": "markdown",
      "source": [
        "### additional description of each column"
      ],
      "metadata": {
        "id": "3rM3dj3Ybglt"
      }
    },
    {
      "cell_type": "code",
      "source": [
        "import seaborn as sns\n",
        "import matplotlib.pyplot as plt"
      ],
      "metadata": {
        "id": "JdQ953PHsJHQ"
      },
      "execution_count": 51,
      "outputs": []
    },
    {
      "cell_type": "markdown",
      "source": [
        "#### numeric features"
      ],
      "metadata": {
        "id": "Or7hVjFxuu-8"
      }
    },
    {
      "cell_type": "code",
      "source": [
        "# Visualize count plot and value counts for 'creditLimit'\n",
        "\n",
        "plt.figure(figsize=(10, 6))\n",
        "plt.hist(transactions['creditLimit'], bins=20)\n",
        "plt.xlabel('Credit Limit')\n",
        "plt.ylabel('Frequency')\n",
        "plt.title('Histogram of Credit Limit')\n",
        "plt.show()"
      ],
      "metadata": {
        "colab": {
          "base_uri": "https://localhost:8080/",
          "height": 564
        },
        "outputId": "6fbaaaee-ee4a-45aa-df71-b602093d2411",
        "id": "6VOvP247aHmR"
      },
      "execution_count": 52,
      "outputs": [
        {
          "output_type": "display_data",
          "data": {
            "text/plain": [
              "<Figure size 1000x600 with 1 Axes>"
            ],
            "image/png": "[encoded data removed]"
          },
          "metadata": {}
        }
      ]
    },
    {
      "cell_type": "markdown",
      "source": [
        "The histogram of credit limits exhibits a bimodal distribution, suggesting distinct tiers of credit offerings, with most accounts having lower credit limits and a smaller number having high limits, peaking at around $50,000. This pattern indicates that the financial institution may cater to diverse customer segments with varying creditworthiness."
      ],
      "metadata": {
        "id": "jtgDht9vtC9S"
      }
    },
    {
      "cell_type": "code",
      "source": [
        "# Visualize count plot and value counts for 'availableMoney'\n",
        "\n",
        "plt.figure(figsize=(10, 6))\n",
        "plt.hist(transactions['availableMoney'], bins=20)\n",
        "plt.xlabel('Available Money')\n",
        "plt.ylabel('Frequency')\n",
        "plt.title('Histogram of Available Money')\n",
        "plt.show()"
      ],
      "metadata": {
        "colab": {
          "base_uri": "https://localhost:8080/",
          "height": 564
        },
        "id": "ZbhSDHXPGbTh",
        "outputId": "7f101ea8-87a6-4ffc-d35d-7337a46722d5"
      },
      "execution_count": 53,
      "outputs": [
        {
          "output_type": "display_data",
          "data": {
            "text/plain": [
              "<Figure size 1000x600 with 1 Axes>"
            ],
            "image/png": "[encoded data removed]"
          },
          "metadata": {}
        }
      ]
    },
    {
      "cell_type": "markdown",
      "source": [
        "This chart shows that most people have a smaller amount of money available to spend on their cards. As the amount of available money increases, fewer people have that much ready to use. Also, there are some people with really high available balances, but they're not as common"
      ],
      "metadata": {
        "id": "QWw6T4nBtfiz"
      }
    },
    {
      "cell_type": "code",
      "source": [
        "# Visualize count plot and value counts for 'transactionAmount'\n",
        "\n",
        "plt.figure(figsize=(10, 6))\n",
        "plt.hist(transactions['transactionAmount'], bins=20)\n",
        "plt.xlabel('Transaction Amount')\n",
        "plt.ylabel('Frequency')\n",
        "plt.title('Histogram of Transaction Amount')\n",
        "plt.show()"
      ],
      "metadata": {
        "colab": {
          "base_uri": "https://localhost:8080/",
          "height": 564
        },
        "id": "eCAxvf48Gdht",
        "outputId": "58bd16cb-29e6-4eaa-e07b-cfed0cf52d93"
      },
      "execution_count": 54,
      "outputs": [
        {
          "output_type": "display_data",
          "data": {
            "text/plain": [
              "<Figure size 1000x600 with 1 Axes>"
            ],
            "image/png": "[encoded data removed]"
          },
          "metadata": {}
        }
      ]
    },
    {
      "cell_type": "markdown",
      "source": [
        "\n",
        "The histogram for transaction amounts shows that smaller transactions are far more common than larger ones. The number of transactions drops sharply as the amount increases, which suggests that most people are making purchases of lower value rather than big-ticket items."
      ],
      "metadata": {
        "id": "svG0yOngtu1c"
      }
    },
    {
      "cell_type": "code",
      "source": [
        "# Visualize count plot and value counts for 'currentBalance'\n",
        "\n",
        "plt.figure(figsize=(10, 6))\n",
        "plt.hist(transactions['currentBalance'], bins=20)\n",
        "plt.xlabel('Current Balance')\n",
        "plt.ylabel('Frequency')\n",
        "plt.title('Histogram of Current Balance')\n",
        "plt.show()"
      ],
      "metadata": {
        "colab": {
          "base_uri": "https://localhost:8080/",
          "height": 564
        },
        "id": "LHJE1KLFGdfW",
        "outputId": "1ecef6d5-2bab-4a2f-b0de-1d6421a79d5b"
      },
      "execution_count": 55,
      "outputs": [
        {
          "output_type": "display_data",
          "data": {
            "text/plain": [
              "<Figure size 1000x600 with 1 Axes>"
            ],
            "image/png": "[encoded data removed]"
          },
          "metadata": {}
        }
      ]
    },
    {
      "cell_type": "markdown",
      "source": [
        "The histogram shows that most accounts have a relatively low current balance, with a sharp decrease in frequency as the balance amount increases. This suggests that many customers tend to keep their account balances low, possibly by paying off their cards frequently or maintaining lower spending levels.\n",
        "\n",
        "\n",
        "\n",
        "\n",
        "\n"
      ],
      "metadata": {
        "id": "6NTBYV_Jt4_-"
      }
    },
    {
      "cell_type": "markdown",
      "source": [
        "#### categorical features"
      ],
      "metadata": {
        "id": "tAdNjxPAu1wz"
      }
    },
    {
      "cell_type": "code",
      "source": [
        "# Visualize count plot and value counts for 'acqCountry'\n",
        "plt.figure(figsize=(5, 3))\n",
        "sns.countplot(x='acqCountry', data=transactions, color='green')\n",
        "plt.title('Count plot of acqCountry')\n",
        "plt.xticks(rotation=90)\n",
        "plt.show()\n",
        "\n",
        "print(\"Value counts for 'acqCountry':\")\n",
        "print(transactions['acqCountry'].value_counts())\n"
      ],
      "metadata": {
        "colab": {
          "base_uri": "https://localhost:8080/",
          "height": 474
        },
        "id": "cXfWeqHiFwmg",
        "outputId": "dc1875ac-7222-4520-f3a4-9dc778a7421a"
      },
      "execution_count": 56,
      "outputs": [
        {
          "output_type": "display_data",
          "data": {
            "text/plain": [
              "<Figure size 500x300 with 1 Axes>"
            ],
            "image/png": "[encoded data removed]"
          },
          "metadata": {}
        },
        {
          "output_type": "stream",
          "name": "stdout",
          "text": [
            "Value counts for 'acqCountry':\n",
            "US     774709\n",
            "         4562\n",
            "MEX      3130\n",
            "CAN      2424\n",
            "PR       1538\n",
            "Name: acqCountry, dtype: int64\n"
          ]
        }
      ]
    },
    {
      "cell_type": "markdown",
      "source": [
        "The count plot indicates that the US is by far the most common acquiring country for transactions, with the counts for Canada, Mexico, and Puerto Rico being much lower. This dominance suggests that the dataset is primarily composed of transactions occurring in the US."
      ],
      "metadata": {
        "id": "r-loUX9IyNDg"
      }
    },
    {
      "cell_type": "code",
      "source": [
        "# Visualize count plot and value counts for 'merchantCountryCode'\n",
        "plt.figure(figsize=(5, 3))\n",
        "sns.countplot(x='merchantCountryCode', data=transactions, color='green')\n",
        "plt.title('Count plot of merchantCountryCode')\n",
        "plt.xticks()\n",
        "plt.show()\n",
        "\n",
        "print(\"Value counts for 'merchantCountryCode':\")\n",
        "print(transactions['merchantCountryCode'].value_counts())\n"
      ],
      "metadata": {
        "colab": {
          "base_uri": "https://localhost:8080/",
          "height": 458
        },
        "id": "3047FxeqFwkG",
        "outputId": "9cdd2403-35ac-48a1-b732-f0ea1b4f66f9"
      },
      "execution_count": 57,
      "outputs": [
        {
          "output_type": "display_data",
          "data": {
            "text/plain": [
              "<Figure size 500x300 with 1 Axes>"
            ],
            "image/png": "[encoded data removed]"
          },
          "metadata": {}
        },
        {
          "output_type": "stream",
          "name": "stdout",
          "text": [
            "Value counts for 'merchantCountryCode':\n",
            "US     778511\n",
            "MEX      3143\n",
            "CAN      2426\n",
            "PR       1559\n",
            "          724\n",
            "Name: merchantCountryCode, dtype: int64\n"
          ]
        }
      ]
    },
    {
      "cell_type": "markdown",
      "source": [
        "The count plot reveals a similar pattern to the acquiring country, with the US dominating as the merchant country code for transactions. The other countries listed, Canada, Puerto Rico, and Mexico, have significantly fewer transactions, highlighting the concentration of transaction activity within the US."
      ],
      "metadata": {
        "id": "jDMUblkHynNT"
      }
    },
    {
      "cell_type": "code",
      "source": [
        "# Visualize count plot and value counts for 'posEntryMode'\n",
        "plt.figure(figsize=(5, 3))\n",
        "sns.countplot(x='posEntryMode', data=transactions, color='green')\n",
        "plt.title('Count plot of posEntryMode')\n",
        "plt.xticks(rotation=90)\n",
        "plt.show()\n",
        "\n",
        "print(\"Value counts for 'posEntryMode':\")\n",
        "print(transactions['posEntryMode'].value_counts())\n"
      ],
      "metadata": {
        "colab": {
          "base_uri": "https://localhost:8080/",
          "height": 480
        },
        "id": "0W9YPRF_Fwh3",
        "outputId": "e166cc89-d203-49e4-819b-08f8b626d4c8"
      },
      "execution_count": 58,
      "outputs": [
        {
          "output_type": "display_data",
          "data": {
            "text/plain": [
              "<Figure size 500x300 with 1 Axes>"
            ],
            "image/png": "[encoded data removed]"
          },
          "metadata": {}
        },
        {
          "output_type": "stream",
          "name": "stdout",
          "text": [
            "Value counts for 'posEntryMode':\n",
            "05    315035\n",
            "09    236481\n",
            "02    195934\n",
            "90     19576\n",
            "80     15283\n",
            "        4054\n",
            "Name: posEntryMode, dtype: int64\n"
          ]
        }
      ]
    },
    {
      "cell_type": "markdown",
      "source": [
        "The count plot for POS entry modes shows that two modes (05 and 09) are the most commonly used among transactions, with mode 02 also being notably frequent. The other entry modes (80 and 90) are used much less often, suggesting that they might be less common or more specialized ways of processing transactions."
      ],
      "metadata": {
        "id": "gpYcgIgPy2c0"
      }
    },
    {
      "cell_type": "code",
      "source": [
        "# Visualize count plot and value counts for 'posConditionCode'\n",
        "plt.figure(figsize=(5, 3))\n",
        "sns.countplot(x='posConditionCode', data=transactions, color='green')\n",
        "plt.title('Count plot of posConditionCode')\n",
        "plt.xticks(rotation=90)\n",
        "plt.show()\n",
        "\n",
        "print(\"Value counts for 'posConditionCode':\")\n",
        "print(transactions['posConditionCode'].value_counts())\n"
      ],
      "metadata": {
        "colab": {
          "base_uri": "https://localhost:8080/",
          "height": 444
        },
        "id": "DujK8utLFwfy",
        "outputId": "2bb4eaff-f930-4486-825d-faa445692e2c"
      },
      "execution_count": 59,
      "outputs": [
        {
          "output_type": "display_data",
          "data": {
            "text/plain": [
              "<Figure size 500x300 with 1 Axes>"
            ],
            "image/png": "[encoded data removed]"
          },
          "metadata": {}
        },
        {
          "output_type": "stream",
          "name": "stdout",
          "text": [
            "Value counts for 'posConditionCode':\n",
            "01    628787\n",
            "08    149634\n",
            "99      7533\n",
            "         409\n",
            "Name: posConditionCode, dtype: int64\n"
          ]
        }
      ]
    },
    {
      "cell_type": "markdown",
      "source": [
        "The count plot indicates that one POS condition code (01) is predominantly used in transactions, overshadowing the others significantly."
      ],
      "metadata": {
        "id": "iIcOq6FQzUkL"
      }
    },
    {
      "cell_type": "code",
      "source": [
        "# Visualize count plot and value counts for 'merchantCategoryCode'\n",
        "plt.figure(figsize=(10, 6))\n",
        "sns.countplot(x='merchantCategoryCode', data=transactions, color='green')\n",
        "plt.title('Count plot of merchantCategoryCode')\n",
        "plt.xticks(rotation=90)\n",
        "plt.show()\n",
        "\n",
        "print(\"Value counts for 'merchantCategoryCode':\")\n",
        "print(transactions['merchantCategoryCode'].value_counts())\n"
      ],
      "metadata": {
        "colab": {
          "base_uri": "https://localhost:8080/",
          "height": 1000
        },
        "id": "vWxMl1OtFwdW",
        "outputId": "be73f56c-f5f5-44fa-efe4-2ddd800bd438"
      },
      "execution_count": 60,
      "outputs": [
        {
          "output_type": "display_data",
          "data": {
            "text/plain": [
              "<Figure size 1000x600 with 1 Axes>"
            ],
            "image/png": "[encoded data removed]"
          },
          "metadata": {}
        },
        {
          "output_type": "stream",
          "name": "stdout",
          "text": [
            "Value counts for 'merchantCategoryCode':\n",
            "online_retail           202156\n",
            "fastfood                112138\n",
            "entertainment            80098\n",
            "food                     75490\n",
            "online_gifts             66238\n",
            "rideshare                51136\n",
            "hotels                   34097\n",
            "fuel                     23910\n",
            "subscriptions            22901\n",
            "auto                     21651\n",
            "health                   19092\n",
            "personal care            18964\n",
            "airline                  15412\n",
            "mobileapps               14990\n",
            "online_subscriptions     11067\n",
            "furniture                 7432\n",
            "food_delivery             6000\n",
            "gym                       2209\n",
            "cable/phone               1382\n",
            "Name: merchantCategoryCode, dtype: int64\n"
          ]
        }
      ]
    },
    {
      "cell_type": "markdown",
      "source": [
        "Based on the count plot, it's evident that certain merchant categories, such as 'online_retail' and 'fastfood', see significantly more transactions compared to others like 'personal care' and 'gym'. This suggests that customers may be more inclined to spend in these popular categories, potentially reflecting everyday purchasing habits and the convenience of online shopping."
      ],
      "metadata": {
        "id": "2TQjPBuRz2Io"
      }
    },
    {
      "cell_type": "code",
      "source": [
        "# Visualize count plot and value counts for 'transactionType'\n",
        "plt.figure(figsize=(5, 3))\n",
        "sns.countplot(x='transactionType', data=transactions, color='green')\n",
        "plt.title('Count plot of transactionType')\n",
        "plt.xticks(rotation=90)\n",
        "plt.show()\n",
        "\n",
        "print(\"Value counts for 'transactionType':\")\n",
        "print(transactions['transactionType'].value_counts())"
      ],
      "metadata": {
        "colab": {
          "base_uri": "https://localhost:8080/",
          "height": 596
        },
        "id": "qQoVun3OGAV-",
        "outputId": "8388db36-4d83-4bf6-da08-9636e372dc49"
      },
      "execution_count": 61,
      "outputs": [
        {
          "output_type": "display_data",
          "data": {
            "text/plain": [
              "<Figure size 500x300 with 1 Axes>"
            ],
            "image/png": "[encoded data removed]"
          },
          "metadata": {}
        },
        {
          "output_type": "stream",
          "name": "stdout",
          "text": [
            "Value counts for 'transactionType':\n",
            "PURCHASE                745193\n",
            "REVERSAL                 20303\n",
            "ADDRESS_VERIFICATION     20169\n",
            "                           698\n",
            "Name: transactionType, dtype: int64\n"
          ]
        }
      ]
    },
    {
      "cell_type": "markdown",
      "source": [
        "\n",
        "The count plot demonstrates that 'PURCHASE' is the most common transaction type, with 'ADDRESS_VERIFICATION' and 'REVERSAL' occurring far less frequently. This trend suggests that the dataset primarily consists of actual purchase transactions, with reversals and address verifications making up only a small fraction of the activity."
      ],
      "metadata": {
        "id": "9nvF4Rj70YBp"
      }
    },
    {
      "cell_type": "markdown",
      "source": [
        "#### boolean features"
      ],
      "metadata": {
        "id": "Hi3i1RLk0hJf"
      }
    },
    {
      "cell_type": "code",
      "source": [
        "# Visualize count plot for 'cardPresent'\n",
        "plt.figure(figsize=(4, 4))\n",
        "sns.countplot(x='cardPresent', data=transactions, color='red')\n",
        "plt.title('Count plot of Card Present')\n",
        "plt.xlabel('Card Present')\n",
        "plt.ylabel('Count')\n",
        "plt.show()\n",
        "\n",
        "print(\"Value counts for 'cardPresent':\")\n",
        "print(transactions['cardPresent'].value_counts())"
      ],
      "metadata": {
        "colab": {
          "base_uri": "https://localhost:8080/",
          "height": 481
        },
        "id": "V5N3Yf9psOsC",
        "outputId": "e585d472-a57e-4392-d5ae-c939f73f8fff"
      },
      "execution_count": 62,
      "outputs": [
        {
          "output_type": "display_data",
          "data": {
            "text/plain": [
              "<Figure size 400x400 with 1 Axes>"
            ],
            "image/png": "[encoded data removed]"
          },
          "metadata": {}
        },
        {
          "output_type": "stream",
          "name": "stdout",
          "text": [
            "Value counts for 'cardPresent':\n",
            "False    433495\n",
            "True     352868\n",
            "Name: cardPresent, dtype: int64\n"
          ]
        }
      ]
    },
    {
      "cell_type": "markdown",
      "source": [
        "The count plot shows that transactions are fairly evenly distributed between those with the card present and those without, indicating a balanced mix of in-person and remote transactions within the dataset.\n",
        "\n",
        "\n",
        "\n",
        "\n",
        "\n"
      ],
      "metadata": {
        "id": "gUlyU6q92AdB"
      }
    },
    {
      "cell_type": "code",
      "source": [
        "# Visualize count plot for 'expirationDateKeyInMatch'\n",
        "plt.figure(figsize=(4, 4))\n",
        "sns.countplot(x='expirationDateKeyInMatch', data=transactions, color='red')\n",
        "plt.title('Count plot of expirationDateKeyInMatch')\n",
        "plt.xlabel('expirationDateKeyInMatch')\n",
        "plt.ylabel('Count')\n",
        "plt.show()\n",
        "\n",
        "print(\"Value counts for 'expirationDateKeyInMatch':\")\n",
        "print(transactions['expirationDateKeyInMatch'].value_counts())"
      ],
      "metadata": {
        "colab": {
          "base_uri": "https://localhost:8080/",
          "height": 481
        },
        "id": "1rUGzJmc0slj",
        "outputId": "ac5a4f8d-1e63-4245-b5ff-73cb3d2288ff"
      },
      "execution_count": 63,
      "outputs": [
        {
          "output_type": "display_data",
          "data": {
            "text/plain": [
              "<Figure size 400x400 with 1 Axes>"
            ],
            "image/png": "[encoded data removed]"
          },
          "metadata": {}
        },
        {
          "output_type": "stream",
          "name": "stdout",
          "text": [
            "Value counts for 'expirationDateKeyInMatch':\n",
            "False    785320\n",
            "True       1043\n",
            "Name: expirationDateKeyInMatch, dtype: int64\n"
          ]
        }
      ]
    },
    {
      "cell_type": "code",
      "source": [
        "# Visualize count plot for 'isFraud'\n",
        "plt.figure(figsize=(4, 4))\n",
        "sns.countplot(x='isFraud', data=transactions, color='red')\n",
        "plt.title('Count plot of fraud')\n",
        "plt.xlabel('isFraud')\n",
        "plt.ylabel('Count')\n",
        "plt.show()\n",
        "\n",
        "print(\"Value counts for 'isFraud':\")\n",
        "print(transactions['isFraud'].value_counts())"
      ],
      "metadata": {
        "colab": {
          "base_uri": "https://localhost:8080/",
          "height": 481
        },
        "id": "Ipdbqv321ytb",
        "outputId": "2780db51-96f5-4f00-8ddd-89fa7d971877"
      },
      "execution_count": 64,
      "outputs": [
        {
          "output_type": "display_data",
          "data": {
            "text/plain": [
              "<Figure size 400x400 with 1 Axes>"
            ],
            "image/png": "[encoded data removed]"
          },
          "metadata": {}
        },
        {
          "output_type": "stream",
          "name": "stdout",
          "text": [
            "Value counts for 'isFraud':\n",
            "False    773946\n",
            "True      12417\n",
            "Name: isFraud, dtype: int64\n"
          ]
        }
      ]
    },
    {
      "cell_type": "markdown",
      "source": [
        "\n",
        "The count plot reveals a significant disparity between non-fraudulent and fraudulent transactions, with fraud occurrences being relatively low in comparison. This indicates that while fraud is present in the dataset, it is not the majority case, which is a common characteristic in transaction datasets and reflects the typical patterns of real-world financial transaction behavior."
      ],
      "metadata": {
        "id": "t_ludWUR2qMo"
      }
    },
    {
      "cell_type": "markdown",
      "source": [
        "#### date time features"
      ],
      "metadata": {
        "id": "iVb7ARNm2uKy"
      }
    },
    {
      "cell_type": "markdown",
      "source": [
        "new columns has being created in the DataFrame transactions to extract specific time components (year, month, day, hour, minute, and second) from the 'transactionDateTime' column, which is initially in datetime format. These new columns allow for the analysis and visualization of transactions based on different time periods such as year, month, day, etc"
      ],
      "metadata": {
        "id": "-zuOaLxQ42zw"
      }
    },
    {
      "cell_type": "code",
      "source": [
        "# Convert 'transactionDateTime' to datetime format\n",
        "transactions['transactionDateTime'] = pd.to_datetime(transactions['transactionDateTime'])\n",
        "\n",
        "# Extract time components\n",
        "transactions['transaction_year'] = transactions['transactionDateTime'].dt.year\n",
        "transactions['transaction_month'] = transactions['transactionDateTime'].dt.month\n",
        "transactions['transaction_day'] = transactions['transactionDateTime'].dt.day\n",
        "transactions['transaction_hour'] = transactions['transactionDateTime'].dt.hour\n",
        "transactions['transaction_minute'] = transactions['transactionDateTime'].dt.minute\n",
        "transactions['transaction_second'] = transactions['transactionDateTime'].dt.second"
      ],
      "metadata": {
        "id": "doXOjm3k2dzn"
      },
      "execution_count": 65,
      "outputs": []
    },
    {
      "cell_type": "code",
      "source": [
        "# Plot distribution of transactions over different time periods using line plots\n",
        "\n",
        "plt.figure(figsize=(10, 6))\n",
        "transactions['transaction_month'].value_counts().sort_index().plot(kind='line', color='orange')\n",
        "plt.title('Distribution of Transactions by Month')\n",
        "plt.xlabel('Month')\n",
        "plt.ylabel('count')\n",
        "plt.grid(True)\n",
        "plt.show()\n",
        "\n",
        "plt.figure(figsize=(10, 6))\n",
        "transactions['transaction_day'].value_counts().sort_index().plot(kind='line', color='orange')\n",
        "plt.title('Distribution of Transactions by Day')\n",
        "plt.xlabel('Day')\n",
        "plt.ylabel('count')\n",
        "plt.grid(True)\n",
        "plt.show()\n",
        "\n",
        "plt.figure(figsize=(10, 6))\n",
        "transactions['transaction_hour'].value_counts().sort_index().plot(kind='line', color='orange')\n",
        "plt.title('Distribution of Transactions by Hour')\n",
        "plt.xlabel('Hour')\n",
        "plt.ylabel('count')\n",
        "plt.grid(True)\n",
        "plt.show()"
      ],
      "metadata": {
        "colab": {
          "base_uri": "https://localhost:8080/",
          "height": 1000
        },
        "id": "Y_UwEhQA3Ysp",
        "outputId": "47a5fa93-54af-4d8e-ee31-4d2301281735"
      },
      "execution_count": 66,
      "outputs": [
        {
          "output_type": "display_data",
          "data": {
            "text/plain": [
              "<Figure size 1000x600 with 1 Axes>"
            ],
            "image/png": "[encoded data removed]"
          },
          "metadata": {}
        },
        {
          "output_type": "display_data",
          "data": {
            "text/plain": [
              "<Figure size 1000x600 with 1 Axes>"
            ],
            "image/png": "[encoded data removed]"
          },
          "metadata": {}
        },
        {
          "output_type": "display_data",
          "data": {
            "text/plain": [
              "<Figure size 1000x600 with 1 Axes>"
            ],
            "image/png": "[encoded data removed]"
          },
          "metadata": {}
        }
      ]
    },
    {
      "cell_type": "markdown",
      "source": [
        "Distribution by Month:\n",
        "\n",
        "The first plot shows the number of transactions for each month. There's a notable dip early in the year, followed by a steady increase until mid-year. The trend then fluctuates but generally stays above the initial counts, peaking toward the end of the year. This could suggest seasonal trends, with possible increases in transactions around times of major shopping or financial activities, such as tax seasons or holidays.\n",
        "Distribution by Day:\n",
        "\n",
        "The second plot displays the number of transactions for each day of the month. The transactions remain relatively steady throughout the month, with a sharp decline at the end. This sharp decline might indicate fewer transactions on the last day or days of the month, possibly due to the closing of billing cycles or banking schedules.\n",
        "Distribution by Hour:\n",
        "\n",
        "The final plot shows the number of transactions for each hour of the day. This plot has a lot of variability, with peaks and troughs suggesting times of the day when transactions are higher or lower. The highest peaks seem to occur around midday and in the evening, which may coincide with lunch hours and post-work activities when people might be more likely to conduct transactions."
      ],
      "metadata": {
        "id": "0pPLVxpyJyr2"
      }
    },
    {
      "cell_type": "code",
      "source": [
        "# Convert to datetime format\n",
        "transactions['currentExpDate'] = pd.to_datetime(transactions['currentExpDate'])\n",
        "transactions['dateOfLastAddressChange'] = pd.to_datetime(transactions['dateOfLastAddressChange'])\n",
        "transactions['accountOpenDate'] = pd.to_datetime(transactions['accountOpenDate'])\n",
        "\n",
        "# Extract year, month, and day components\n",
        "transactions['currentExpYear'] = transactions['currentExpDate'].dt.year\n",
        "transactions['currentExpMonth'] = transactions['currentExpDate'].dt.month\n",
        "transactions['currentExpDay'] = transactions['currentExpDate'].dt.day\n",
        "\n",
        "transactions['addressChangeYear'] = transactions['dateOfLastAddressChange'].dt.year\n",
        "transactions['addressChangeMonth'] = transactions['dateOfLastAddressChange'].dt.month\n",
        "transactions['addressChangeDay'] = transactions['dateOfLastAddressChange'].dt.day\n",
        "\n",
        "transactions['accountOpenYear'] = transactions['accountOpenDate'].dt.year\n",
        "transactions['accountOpenMonth'] = transactions['accountOpenDate'].dt.month\n",
        "transactions['accountOpenDay'] = transactions['accountOpenDate'].dt.day\n"
      ],
      "metadata": {
        "id": "pi7ABoJg3tsW"
      },
      "execution_count": 67,
      "outputs": []
    },
    {
      "cell_type": "markdown",
      "source": [
        "Plot distribution of currentExpDate, dateOfLastAddressChange, and accountOpenDate by year"
      ],
      "metadata": {
        "id": "PDFOKEso-kAV"
      }
    },
    {
      "cell_type": "code",
      "source": [
        "transactions['currentExpYear'].value_counts().sort_index().plot(kind='line', color='orange')\n",
        "plt.title('Distribution of Current Expiry Date by Year')\n",
        "plt.xlabel('Year')\n",
        "plt.ylabel('count')\n",
        "plt.grid(True)"
      ],
      "metadata": {
        "colab": {
          "base_uri": "https://localhost:8080/",
          "height": 472
        },
        "id": "iMnkv9dx6CZA",
        "outputId": "e7fffc60-3b37-4739-b165-e1b3ddd3b679"
      },
      "execution_count": 68,
      "outputs": [
        {
          "output_type": "display_data",
          "data": {
            "text/plain": [
              "<Figure size 640x480 with 1 Axes>"
            ],
            "image/png": "[encoded data removed]"
          },
          "metadata": {}
        }
      ]
    },
    {
      "cell_type": "code",
      "source": [
        "transactions['addressChangeYear'].value_counts().sort_index().plot(kind='line', color='orange')\n",
        "plt.title('Distribution of Last Address Change Date by Year')\n",
        "plt.xlabel('Year')\n",
        "plt.ylabel('count')\n",
        "plt.grid(True)"
      ],
      "metadata": {
        "colab": {
          "base_uri": "https://localhost:8080/",
          "height": 472
        },
        "id": "OPizDmlF6YAd",
        "outputId": "ace7bf7c-eac3-4067-a33b-34cb5c67cf70"
      },
      "execution_count": 69,
      "outputs": [
        {
          "output_type": "display_data",
          "data": {
            "text/plain": [
              "<Figure size 640x480 with 1 Axes>"
            ],
            "image/png": "[encoded data removed]"
          },
          "metadata": {}
        }
      ]
    },
    {
      "cell_type": "code",
      "source": [
        "transactions['accountOpenYear'].value_counts().sort_index().plot(kind='line', color='orange')\n",
        "plt.title('Distribution of Account Open Date by Year')\n",
        "plt.xlabel('Year')\n",
        "plt.ylabel('count')\n",
        "plt.grid(True)"
      ],
      "metadata": {
        "colab": {
          "base_uri": "https://localhost:8080/",
          "height": 472
        },
        "id": "qgiAnlKH6xSD",
        "outputId": "d55c0e19-3058-41bd-8b10-88da466c6319"
      },
      "execution_count": 70,
      "outputs": [
        {
          "output_type": "display_data",
          "data": {
            "text/plain": [
              "<Figure size 640x480 with 1 Axes>"
            ],
            "image/png": "[encoded data removed]"
          },
          "metadata": {}
        }
      ]
    },
    {
      "cell_type": "markdown",
      "source": [
        "#### empty features"
      ],
      "metadata": {
        "id": "oIlgHIY37TKj"
      }
    },
    {
      "cell_type": "code",
      "source": [
        "print(transactions['posOnPremises'].unique())\n"
      ],
      "metadata": {
        "id": "PJKLA5znLaXh",
        "colab": {
          "base_uri": "https://localhost:8080/"
        },
        "outputId": "7d4498d7-a192-469c-a66e-628edd148372"
      },
      "execution_count": 71,
      "outputs": [
        {
          "output_type": "stream",
          "name": "stdout",
          "text": [
            "['']\n"
          ]
        }
      ]
    },
    {
      "cell_type": "code",
      "source": [
        "print(transactions['recurringAuthInd'].unique())\n"
      ],
      "metadata": {
        "id": "pcp_OMt1LnnL",
        "colab": {
          "base_uri": "https://localhost:8080/"
        },
        "outputId": "1ff401e1-0f44-4b9b-eea5-e824312656fb"
      },
      "execution_count": 72,
      "outputs": [
        {
          "output_type": "stream",
          "name": "stdout",
          "text": [
            "['']\n"
          ]
        }
      ]
    },
    {
      "cell_type": "code",
      "source": [
        "print(transactions['merchantCity'].unique())\n"
      ],
      "metadata": {
        "id": "JmgPsZFVLs6_",
        "colab": {
          "base_uri": "https://localhost:8080/"
        },
        "outputId": "aa4a35ed-6a92-45fe-8834-df3789145d87"
      },
      "execution_count": 73,
      "outputs": [
        {
          "output_type": "stream",
          "name": "stdout",
          "text": [
            "['']\n"
          ]
        }
      ]
    },
    {
      "cell_type": "code",
      "source": [
        "print(transactions['merchantState'].unique())"
      ],
      "metadata": {
        "id": "tZdSSZ7gLnkj",
        "colab": {
          "base_uri": "https://localhost:8080/"
        },
        "outputId": "7409c55a-3898-42d2-88ec-4d895ca5aec1"
      },
      "execution_count": 74,
      "outputs": [
        {
          "output_type": "stream",
          "name": "stdout",
          "text": [
            "['']\n"
          ]
        }
      ]
    },
    {
      "cell_type": "code",
      "source": [
        "print(transactions['merchantZip'].unique())"
      ],
      "metadata": {
        "id": "5goJA9OBMb4W",
        "colab": {
          "base_uri": "https://localhost:8080/"
        },
        "outputId": "653c973a-6d9b-4c5b-b883-4f2adbd8e2d9"
      },
      "execution_count": 75,
      "outputs": [
        {
          "output_type": "stream",
          "name": "stdout",
          "text": [
            "['']\n"
          ]
        }
      ]
    },
    {
      "cell_type": "code",
      "source": [
        "print(transactions['echoBuffer'].unique())"
      ],
      "metadata": {
        "id": "hzDcaguFMQoT",
        "colab": {
          "base_uri": "https://localhost:8080/"
        },
        "outputId": "26ed72bf-36c1-4ee7-c0f3-c24b4550c49b"
      },
      "execution_count": 76,
      "outputs": [
        {
          "output_type": "stream",
          "name": "stdout",
          "text": [
            "['']\n"
          ]
        }
      ]
    },
    {
      "cell_type": "markdown",
      "source": [
        "The columns 'posOnPremises', 'recurringAuthInd', 'merchantCity', 'merchantState', 'merchantZip', and 'echoBuffer' all contain only a single unique value, which is an empty string ''. These columns do not provide useful information for analysis as they lack variability and do not contribute to distinguishing different transactions or patterns."
      ],
      "metadata": {
        "id": "deynmAGzNZ5p"
      }
    },
    {
      "cell_type": "markdown",
      "metadata": {
        "id": "n0A38ycEfI8k"
      },
      "source": [
        "## Question 2: Plot"
      ]
    },
    {
      "cell_type": "markdown",
      "metadata": {
        "id": "ftq9Ck4LfT_4"
      },
      "source": [
        "### Plotting the Histogram: Plot a histogram of the processed amounts of each transaction, the transactionAmount column.\n"
      ]
    },
    {
      "cell_type": "code",
      "execution_count": 77,
      "metadata": {
        "colab": {
          "base_uri": "https://localhost:8080/",
          "height": 564
        },
        "id": "yrqAmWV1erBI",
        "outputId": "861d52c5-8916-4bcf-efad-5683e8e6f947"
      },
      "outputs": [
        {
          "output_type": "display_data",
          "data": {
            "text/plain": [
              "<Figure size 1000x600 with 1 Axes>"
            ],
            "image/png": "[encoded data removed]"
          },
          "metadata": {}
        }
      ],
      "source": [
        "import matplotlib.pyplot as plt\n",
        "\n",
        "# Plotting the histogram\n",
        "plt.figure(figsize=(10, 6))\n",
        "plt.hist(transactions['transactionAmount'], bins=50, color='skyblue', edgecolor='black')\n",
        "plt.title('Histogram of Transaction Amounts')\n",
        "plt.xlabel('Transaction Amount')\n",
        "plt.ylabel('Frequency')\n",
        "plt.grid(axis='y', alpha=0.75)\n",
        "\n",
        "plt.show()\n"
      ]
    },
    {
      "cell_type": "markdown",
      "metadata": {
        "id": "lY31SiI-g5Uf"
      },
      "source": [
        "### Report any structure you find and any hypotheses you have about that structure.\n"
      ]
    },
    {
      "cell_type": "markdown",
      "metadata": {
        "id": "ZfC5aDw3gS9B"
      },
      "source": [
        "**Structure Observed**:\n",
        "\n",
        "The histogram shows that the data is right-skewed, with a large number of transactions having smaller amounts and fewer transactions having larger amounts. There is a high frequency of transactions within the lower range of the amount scale, which rapidly decreases as the transaction amount increases. The distribution has a long tail, suggesting that while most transactions are small, there is a significant range of transaction amounts stretching towards the higher end.\n",
        "\n",
        "**Hypotheses**:\n",
        "\n",
        "The concentration of transactions in the lower amount range likely reflects common consumer behavior, where small, routine purchases are frequent. The tail represents infrequent, high-value transactions. This might include larger, non-routine purchases. The distribution could be influenced by the spending capacity of the cardholders, with most having a lower transaction limit or spending power.\n",
        "\n",
        "\n",
        "\n",
        "Overall, the histogram is consistent with what one might expect in a typical distribution of personal credit card transactions, where everyday purchases dominate the transaction count, and larger transactions occur less frequently.\n",
        "\n",
        "\n",
        "\n",
        "\n",
        "\n"
      ]
    },
    {
      "cell_type": "markdown",
      "source": [
        "## Question 3: Data Wrangling - Duplicate Transactions"
      ],
      "metadata": {
        "id": "uI7XHvDCYuc8"
      }
    },
    {
      "cell_type": "markdown",
      "source": [
        "### reversed transactions"
      ],
      "metadata": {
        "id": "Xb3I2Js6OUqy"
      }
    },
    {
      "cell_type": "markdown",
      "source": [
        " we filter reversed transactions from the dataset based on the 'transactionType' column, where the value is 'REVERSAL'. We then exclude the first transaction assuming that the dataset is sorted by transactionDateTime, as the first transaction is considered \"normal\" and not a reversal. After filtering, we calculate the total number of reversed transactions by counting the rows in the filtered DataFrame. Similarly, we compute the total dollar amount for reversed transactions by summing the 'transactionAmount' column in the filtered DataFrame. This process enables us to evaluate and quantify the number and financial impact of reversed transactions in the dataset."
      ],
      "metadata": {
        "id": "fB-airl8AgpE"
      }
    },
    {
      "cell_type": "code",
      "source": [
        "# Filter reversed transactions\n",
        "reversed_transactions = transactions[transactions['transactionType'] == 'REVERSAL']\n",
        "\n",
        "# Exclude the first transaction (assuming sorted by transactionDateTime)\n",
        "reversed_transactions = reversed_transactions.iloc[1:]\n",
        "\n",
        "# Total number of reversed transactions (excluding the first one)\n",
        "total_reversed_transactions = len(reversed_transactions)\n",
        "\n",
        "# Total dollar amount for reversed transactions (excluding the first one)\n",
        "total_reversed_amount = reversed_transactions['transactionAmount'].sum()\n",
        "\n",
        "print(\"Total number of reversed transactions:\", total_reversed_transactions)\n",
        "print(\"Total dollar amount for reversed transactions:\", total_reversed_amount)\n"
      ],
      "metadata": {
        "colab": {
          "base_uri": "https://localhost:8080/"
        },
        "id": "-xONVy4xYvo0",
        "outputId": "042b7700-07f3-414d-9082-621665309da4"
      },
      "execution_count": 78,
      "outputs": [
        {
          "output_type": "stream",
          "name": "stdout",
          "text": [
            "Total number of reversed transactions: 20302\n",
            "Total dollar amount for reversed transactions: 2821577.37\n"
          ]
        }
      ]
    },
    {
      "cell_type": "markdown",
      "source": [
        "**Reversed Transactions:** The total number of reversed transactions is 20,302, with a total dollar amount of $2,821,577.37. This indicates a significant number of transactions that were initially recorded as purchases but were later reversed, possibly due to fraud, disputes, or errors. Understanding the reasons behind these reversals could provide valuable insights into customer behavior and transaction processing issues."
      ],
      "metadata": {
        "id": "tPdQOdf4AJ_3"
      }
    },
    {
      "cell_type": "markdown",
      "source": [
        "### multi-swipe transactions"
      ],
      "metadata": {
        "id": "iCPBUWXZOeRt"
      }
    },
    {
      "cell_type": "markdown",
      "source": [
        "\n",
        "I employed a time-based approach to identify multi-swipe transactions. This involved sorting the transactions by account number and transaction time, calculating the time difference between consecutive transactions for each account, and then applying a threshold (in this case, 60 seconds) to identify transactions occurring within a short time span. Transactions meeting this criterion were considered multi-swipe transactions. This approach allowed us to programmatically identify multi-swipe transactions based on the time interval between consecutive transactions."
      ],
      "metadata": {
        "id": "HD__75RHOjSB"
      }
    },
    {
      "cell_type": "code",
      "source": [
        "# Sort DataFrame by accountNumber and transactionDateTime\n",
        "transactions.sort_values(by=['accountNumber', 'transactionDateTime'], inplace=True)\n",
        "\n",
        "# Compute time difference between consecutive transactions for each account\n",
        "transactions['time_diff'] = transactions.groupby('accountNumber')['transactionDateTime'].diff().dt.total_seconds()\n",
        "\n",
        "# Identify multi-swipe transactions based on time difference threshold (e.g., 1 minute)\n",
        "multi_swipe_transactions_time_diff = transactions[transactions['time_diff'] < 60]  # Assuming 1 minute threshold\n",
        "\n",
        "# Total number of multi-swipe transactions based on time difference\n",
        "total_multi_swipe_transactions_time_diff = len(multi_swipe_transactions_time_diff)\n",
        "\n",
        "# Total dollar amount for multi-swipe transactions based on time difference\n",
        "total_amount_multi_swipe_time_diff = multi_swipe_transactions_time_diff['transactionAmount'].sum()\n",
        "\n",
        "print(\"Total number of multi-swipe transactions based on time difference:\", total_multi_swipe_transactions_time_diff)\n",
        "print(\"Total dollar amount for multi-swipe transactions based on time difference:\", total_amount_multi_swipe_time_diff)\n"
      ],
      "metadata": {
        "colab": {
          "base_uri": "https://localhost:8080/"
        },
        "id": "cNzPylr3a0Oq",
        "outputId": "3c566267-0d6a-47e8-c480-11cbe0665209"
      },
      "execution_count": 79,
      "outputs": [
        {
          "output_type": "stream",
          "name": "stdout",
          "text": [
            "Total number of multi-swipe transactions based on time difference: 8689\n",
            "Total dollar amount for multi-swipe transactions based on time difference: 1257164.83\n"
          ]
        }
      ]
    },
    {
      "cell_type": "markdown",
      "source": [
        "**Multi-Swipe Transactions:** On the other hand, there are 8,689 identified multi-swipe transactions, totaling $1,259,915.66. These transactions involve multiple swipes of a payment card within a short time span, suggesting possible instances of accidental or intentional duplication of charges by merchants. Identifying and addressing the root causes of multi-swipe transactions can help improve transaction processing efficiency and customer satisfaction.\n",
        "\n",
        "Overall, both types of transactions highlight potential areas for further investigation and improvement in transaction processing systems and fraud detection mechanisms."
      ],
      "metadata": {
        "id": "dhip6BsJ__P9"
      }
    },
    {
      "cell_type": "markdown",
      "source": [
        "## Question 4: Model"
      ],
      "metadata": {
        "id": "EAMDapCDByqv"
      }
    },
    {
      "cell_type": "markdown",
      "source": [
        "### Data Preprocessing"
      ],
      "metadata": {
        "id": "PE6xRItRB5oP"
      }
    },
    {
      "cell_type": "markdown",
      "source": [
        "#### Handling categorical variables"
      ],
      "metadata": {
        "id": "8mQNqxSsCr7w"
      }
    },
    {
      "cell_type": "code",
      "source": [
        "transactions.shape"
      ],
      "metadata": {
        "colab": {
          "base_uri": "https://localhost:8080/"
        },
        "id": "9A2ci7a0En06",
        "outputId": "74711736-0d78-4c7a-9283-bb491a92e249"
      },
      "execution_count": 80,
      "outputs": [
        {
          "output_type": "execute_result",
          "data": {
            "text/plain": [
              "(786363, 45)"
            ]
          },
          "metadata": {},
          "execution_count": 80
        }
      ]
    },
    {
      "cell_type": "markdown",
      "source": [
        "Please note 6 columns from transactionDateTime and 9 columns from accountOpenYear, dateOfLastAddressChange, and currentExpDate have been added to the dataset. time_diff is another column that has been added during identifying multi swiping trasnaction"
      ],
      "metadata": {
        "id": "ARtjoyasEvRe"
      }
    },
    {
      "cell_type": "code",
      "source": [
        "# List of categorical columns to convert to dummy variables\n",
        "categorical_columns = ['acqCountry', 'merchantCountryCode', 'posEntryMode', 'posConditionCode', 'merchantCategoryCode', 'transactionType']\n",
        "\n",
        "# Convert categorical columns to dummy variables\n",
        "dummy_columns = pd.get_dummies(transactions[categorical_columns])\n",
        "\n",
        "# Concatenate the dummy variables with the original DataFrame\n",
        "transactions_with_dummies = pd.concat([transactions, dummy_columns], axis=1)\n",
        "\n",
        "# Drop the original categorical columns\n",
        "transactions_with_dummies.drop(columns=categorical_columns, inplace=True)\n",
        "\n",
        "# Display the first few rows of the DataFrame with dummy variables\n",
        "transactions_with_dummies.head()"
      ],
      "metadata": {
        "colab": {
          "base_uri": "https://localhost:8080/",
          "height": 360
        },
        "id": "Vp6IMApmCqqw",
        "outputId": "2b5bca40-8daa-4c75-e8e4-e2468955b611"
      },
      "execution_count": 81,
      "outputs": [
        {
          "output_type": "execute_result",
          "data": {
            "text/plain": [
              "       accountNumber customerId  creditLimit  availableMoney  \\\n",
              "541900     100088067  100088067      50000.0        50000.00   \n",
              "541901     100088067  100088067      50000.0        49794.87   \n",
              "541902     100088067  100088067      50000.0        49748.44   \n",
              "541903     100088067  100088067      50000.0        50000.00   \n",
              "541904     100088067  100088067      50000.0        49933.93   \n",
              "\n",
              "       transactionDateTime  transactionAmount                    merchantName  \\\n",
              "541900 2016-01-12 00:59:52             205.13            EZ Putt Putt #982199   \n",
              "541901 2016-01-12 19:49:41              46.43  Dinosaur Sandwitch Bar #303701   \n",
              "541902 2016-01-17 15:41:46             378.67                   Mobile eCards   \n",
              "541903 2016-02-02 19:57:18              66.07             EZ Putt Putt #40513   \n",
              "541904 2016-02-03 04:48:54             141.60                34th BBQ #412895   \n",
              "\n",
              "       currentExpDate accountOpenDate dateOfLastAddressChange  ...  \\\n",
              "541900     2028-04-01      2014-01-09              2014-01-09  ...   \n",
              "541901     2024-02-01      2014-01-09              2014-01-09  ...   \n",
              "541902     2031-11-01      2014-01-09              2014-01-09  ...   \n",
              "541903     2027-12-01      2014-01-09              2014-01-09  ...   \n",
              "541904     2030-11-01      2014-01-09              2014-01-09  ...   \n",
              "\n",
              "       merchantCategoryCode_online_gifts merchantCategoryCode_online_retail  \\\n",
              "541900                                 0                                  0   \n",
              "541901                                 0                                  0   \n",
              "541902                                 1                                  0   \n",
              "541903                                 0                                  0   \n",
              "541904                                 0                                  0   \n",
              "\n",
              "       merchantCategoryCode_online_subscriptions  \\\n",
              "541900                                         0   \n",
              "541901                                         0   \n",
              "541902                                         0   \n",
              "541903                                         0   \n",
              "541904                                         0   \n",
              "\n",
              "       merchantCategoryCode_personal care  merchantCategoryCode_rideshare  \\\n",
              "541900                                  0                               0   \n",
              "541901                                  0                               0   \n",
              "541902                                  0                               0   \n",
              "541903                                  0                               0   \n",
              "541904                                  0                               0   \n",
              "\n",
              "       merchantCategoryCode_subscriptions transactionType_  \\\n",
              "541900                                  0                0   \n",
              "541901                                  0                0   \n",
              "541902                                  0                0   \n",
              "541903                                  0                0   \n",
              "541904                                  0                0   \n",
              "\n",
              "       transactionType_ADDRESS_VERIFICATION  transactionType_PURCHASE  \\\n",
              "541900                                    0                         1   \n",
              "541901                                    0                         1   \n",
              "541902                                    0                         1   \n",
              "541903                                    0                         1   \n",
              "541904                                    0                         1   \n",
              "\n",
              "       transactionType_REVERSAL  \n",
              "541900                        0  \n",
              "541901                        0  \n",
              "541902                        0  \n",
              "541903                        0  \n",
              "541904                        0  \n",
              "\n",
              "[5 rows x 82 columns]"
            ],
            "text/html": [
              "\n",
              "  <div id=\"df-c8ba5f54-0480-4d7f-81b4-72fcabdf8269\" class=\"colab-df-container\">\n",
              "    <div>\n",
              "<style scoped>\n",
              "    .dataframe tbody tr th:only-of-type {\n",
              "        vertical-align: middle;\n",
              "    }\n",
              "\n",
              "    .dataframe tbody tr th {\n",
              "        vertical-align: top;\n",
              "    }\n",
              "\n",
              "    .dataframe thead th {\n",
              "        text-align: right;\n",
              "    }\n",
              "</style>\n",
              "<table border=\"1\" class=\"dataframe\">\n",
              "  <thead>\n",
              "    <tr style=\"text-align: right;\">\n",
              "      <th></th>\n",
              "      <th>accountNumber</th>\n",
              "      <th>customerId</th>\n",
              "      <th>creditLimit</th>\n",
              "      <th>availableMoney</th>\n",
              "      <th>transactionDateTime</th>\n",
              "      <th>transactionAmount</th>\n",
              "      <th>merchantName</th>\n",
              "      <th>currentExpDate</th>\n",
              "      <th>accountOpenDate</th>\n",
              "      <th>dateOfLastAddressChange</th>\n",
              "      <th>...</th>\n",
              "      <th>merchantCategoryCode_online_gifts</th>\n",
              "      <th>merchantCategoryCode_online_retail</th>\n",
              "      <th>merchantCategoryCode_online_subscriptions</th>\n",
              "      <th>merchantCategoryCode_personal care</th>\n",
              "      <th>merchantCategoryCode_rideshare</th>\n",
              "      <th>merchantCategoryCode_subscriptions</th>\n",
              "      <th>transactionType_</th>\n",
              "      <th>transactionType_ADDRESS_VERIFICATION</th>\n",
              "      <th>transactionType_PURCHASE</th>\n",
              "      <th>transactionType_REVERSAL</th>\n",
              "    </tr>\n",
              "  </thead>\n",
              "  <tbody>\n",
              "    <tr>\n",
              "      <th>541900</th>\n",
              "      <td>100088067</td>\n",
              "      <td>100088067</td>\n",
              "      <td>50000.0</td>\n",
              "      <td>50000.00</td>\n",
              "      <td>2016-01-12 00:59:52</td>\n",
              "      <td>205.13</td>\n",
              "      <td>EZ Putt Putt #982199</td>\n",
              "      <td>2028-04-01</td>\n",
              "      <td>2014-01-09</td>\n",
              "      <td>2014-01-09</td>\n",
              "      <td>...</td>\n",
              "      <td>0</td>\n",
              "      <td>0</td>\n",
              "      <td>0</td>\n",
              "      <td>0</td>\n",
              "      <td>0</td>\n",
              "      <td>0</td>\n",
              "      <td>0</td>\n",
              "      <td>0</td>\n",
              "      <td>1</td>\n",
              "      <td>0</td>\n",
              "    </tr>\n",
              "    <tr>\n",
              "      <th>541901</th>\n",
              "      <td>100088067</td>\n",
              "      <td>100088067</td>\n",
              "      <td>50000.0</td>\n",
              "      <td>49794.87</td>\n",
              "      <td>2016-01-12 19:49:41</td>\n",
              "      <td>46.43</td>\n",
              "      <td>Dinosaur Sandwitch Bar #303701</td>\n",
              "      <td>2024-02-01</td>\n",
              "      <td>2014-01-09</td>\n",
              "      <td>2014-01-09</td>\n",
              "      <td>...</td>\n",
              "      <td>0</td>\n",
              "      <td>0</td>\n",
              "      <td>0</td>\n",
              "      <td>0</td>\n",
              "      <td>0</td>\n",
              "      <td>0</td>\n",
              "      <td>0</td>\n",
              "      <td>0</td>\n",
              "      <td>1</td>\n",
              "      <td>0</td>\n",
              "    </tr>\n",
              "    <tr>\n",
              "      <th>541902</th>\n",
              "      <td>100088067</td>\n",
              "      <td>100088067</td>\n",
              "      <td>50000.0</td>\n",
              "      <td>49748.44</td>\n",
              "      <td>2016-01-17 15:41:46</td>\n",
              "      <td>378.67</td>\n",
              "      <td>Mobile eCards</td>\n",
              "      <td>2031-11-01</td>\n",
              "      <td>2014-01-09</td>\n",
              "      <td>2014-01-09</td>\n",
              "      <td>...</td>\n",
              "      <td>1</td>\n",
              "      <td>0</td>\n",
              "      <td>0</td>\n",
              "      <td>0</td>\n",
              "      <td>0</td>\n",
              "      <td>0</td>\n",
              "      <td>0</td>\n",
              "      <td>0</td>\n",
              "      <td>1</td>\n",
              "      <td>0</td>\n",
              "    </tr>\n",
              "    <tr>\n",
              "      <th>541903</th>\n",
              "      <td>100088067</td>\n",
              "      <td>100088067</td>\n",
              "      <td>50000.0</td>\n",
              "      <td>50000.00</td>\n",
              "      <td>2016-02-02 19:57:18</td>\n",
              "      <td>66.07</td>\n",
              "      <td>EZ Putt Putt #40513</td>\n",
              "      <td>2027-12-01</td>\n",
              "      <td>2014-01-09</td>\n",
              "      <td>2014-01-09</td>\n",
              "      <td>...</td>\n",
              "      <td>0</td>\n",
              "      <td>0</td>\n",
              "      <td>0</td>\n",
              "      <td>0</td>\n",
              "      <td>0</td>\n",
              "      <td>0</td>\n",
              "      <td>0</td>\n",
              "      <td>0</td>\n",
              "      <td>1</td>\n",
              "      <td>0</td>\n",
              "    </tr>\n",
              "    <tr>\n",
              "      <th>541904</th>\n",
              "      <td>100088067</td>\n",
              "      <td>100088067</td>\n",
              "      <td>50000.0</td>\n",
              "      <td>49933.93</td>\n",
              "      <td>2016-02-03 04:48:54</td>\n",
              "      <td>141.60</td>\n",
              "      <td>34th BBQ #412895</td>\n",
              "      <td>2030-11-01</td>\n",
              "      <td>2014-01-09</td>\n",
              "      <td>2014-01-09</td>\n",
              "      <td>...</td>\n",
              "      <td>0</td>\n",
              "      <td>0</td>\n",
              "      <td>0</td>\n",
              "      <td>0</td>\n",
              "      <td>0</td>\n",
              "      <td>0</td>\n",
              "      <td>0</td>\n",
              "      <td>0</td>\n",
              "      <td>1</td>\n",
              "      <td>0</td>\n",
              "    </tr>\n",
              "  </tbody>\n",
              "</table>\n",
              "<p>5 rows × 82 columns</p>\n",
              "</div>\n",
              "    <div class=\"colab-df-buttons\">\n",
              "\n",
              "  <div class=\"colab-df-container\">\n",
              "    <button class=\"colab-df-convert\" onclick=\"convertToInteractive('df-c8ba5f54-0480-4d7f-81b4-72fcabdf8269')\"\n",
              "            title=\"Convert this dataframe to an interactive table.\"\n",
              "            style=\"display:none;\">\n",
              "\n",
              "  <svg xmlns=\"http://www.w3.org/2000/svg\" height=\"24px\" viewBox=\"0 -960 960 960\">\n",
              "    <path d=\"M120-120v-720h720v720H120Zm60-500h600v-160H180v160Zm220 220h160v-160H400v160Zm0 220h160v-160H400v160ZM180-400h160v-160H180v160Zm440 0h160v-160H620v160ZM180-180h160v-160H180v160Zm440 0h160v-160H620v160Z\"/>\n",
              "  </svg>\n",
              "    </button>\n",
              "\n",
              "  <style>\n",
              "    .colab-df-container {\n",
              "      display:flex;\n",
              "      gap: 12px;\n",
              "    }\n",
              "\n",
              "    .colab-df-convert {\n",
              "      background-color: #E8F0FE;\n",
              "      border: none;\n",
              "      border-radius: 50%;\n",
              "      cursor: pointer;\n",
              "      display: none;\n",
              "      fill: #1967D2;\n",
              "      height: 32px;\n",
              "      padding: 0 0 0 0;\n",
              "      width: 32px;\n",
              "    }\n",
              "\n",
              "    .colab-df-convert:hover {\n",
              "      background-color: #E2EBFA;\n",
              "      box-shadow: 0px 1px 2px rgba(60, 64, 67, 0.3), 0px 1px 3px 1px rgba(60, 64, 67, 0.15);\n",
              "      fill: #174EA6;\n",
              "    }\n",
              "\n",
              "    .colab-df-buttons div {\n",
              "      margin-bottom: 4px;\n",
              "    }\n",
              "\n",
              "    [theme=dark] .colab-df-convert {\n",
              "      background-color: #3B4455;\n",
              "      fill: #D2E3FC;\n",
              "    }\n",
              "\n",
              "    [theme=dark] .colab-df-convert:hover {\n",
              "      background-color: #434B5C;\n",
              "      box-shadow: 0px 1px 3px 1px rgba(0, 0, 0, 0.15);\n",
              "      filter: drop-shadow(0px 1px 2px rgba(0, 0, 0, 0.3));\n",
              "      fill: #FFFFFF;\n",
              "    }\n",
              "  </style>\n",
              "\n",
              "    <script>\n",
              "      const buttonEl =\n",
              "        document.querySelector('#df-c8ba5f54-0480-4d7f-81b4-72fcabdf8269 button.colab-df-convert');\n",
              "      buttonEl.style.display =\n",
              "        google.colab.kernel.accessAllowed ? 'block' : 'none';\n",
              "\n",
              "      async function convertToInteractive(key) {\n",
              "        const element = document.querySelector('#df-c8ba5f54-0480-4d7f-81b4-72fcabdf8269');\n",
              "        const dataTable =\n",
              "          await google.colab.kernel.invokeFunction('convertToInteractive',\n",
              "                                                    [key], {});\n",
              "        if (!dataTable) return;\n",
              "\n",
              "        const docLinkHtml = 'Like what you see? Visit the ' +\n",
              "          '<a target=\"_blank\" href=https://colab.research.google.com/notebooks/data_table.ipynb>data table notebook</a>'\n",
              "          + ' to learn more about interactive tables.';\n",
              "        element.innerHTML = '';\n",
              "        dataTable['output_type'] = 'display_data';\n",
              "        await google.colab.output.renderOutput(dataTable, element);\n",
              "        const docLink = document.createElement('div');\n",
              "        docLink.innerHTML = docLinkHtml;\n",
              "        element.appendChild(docLink);\n",
              "      }\n",
              "    </script>\n",
              "  </div>\n",
              "\n",
              "\n",
              "<div id=\"df-26e7bd5f-532f-4323-a1e6-611c89362b32\">\n",
              "  <button class=\"colab-df-quickchart\" onclick=\"quickchart('df-26e7bd5f-532f-4323-a1e6-611c89362b32')\"\n",
              "            title=\"Suggest charts\"\n",
              "            style=\"display:none;\">\n",
              "\n",
              "<svg xmlns=\"http://www.w3.org/2000/svg\" height=\"24px\"viewBox=\"0 0 24 24\"\n",
              "     width=\"24px\">\n",
              "    <g>\n",
              "        <path d=\"M19 3H5c-1.1 0-2 .9-2 2v14c0 1.1.9 2 2 2h14c1.1 0 2-.9 2-2V5c0-1.1-.9-2-2-2zM9 17H7v-7h2v7zm4 0h-2V7h2v10zm4 0h-2v-4h2v4z\"/>\n",
              "    </g>\n",
              "</svg>\n",
              "  </button>\n",
              "\n",
              "<style>\n",
              "  .colab-df-quickchart {\n",
              "      --bg-color: #E8F0FE;\n",
              "      --fill-color: #1967D2;\n",
              "      --hover-bg-color: #E2EBFA;\n",
              "      --hover-fill-color: #174EA6;\n",
              "      --disabled-fill-color: #AAA;\n",
              "      --disabled-bg-color: #DDD;\n",
              "  }\n",
              "\n",
              "  [theme=dark] .colab-df-quickchart {\n",
              "      --bg-color: #3B4455;\n",
              "      --fill-color: #D2E3FC;\n",
              "      --hover-bg-color: #434B5C;\n",
              "      --hover-fill-color: #FFFFFF;\n",
              "      --disabled-bg-color: #3B4455;\n",
              "      --disabled-fill-color: #666;\n",
              "  }\n",
              "\n",
              "  .colab-df-quickchart {\n",
              "    background-color: var(--bg-color);\n",
              "    border: none;\n",
              "    border-radius: 50%;\n",
              "    cursor: pointer;\n",
              "    display: none;\n",
              "    fill: var(--fill-color);\n",
              "    height: 32px;\n",
              "    padding: 0;\n",
              "    width: 32px;\n",
              "  }\n",
              "\n",
              "  .colab-df-quickchart:hover {\n",
              "    background-color: var(--hover-bg-color);\n",
              "    box-shadow: 0 1px 2px rgba(60, 64, 67, 0.3), 0 1px 3px 1px rgba(60, 64, 67, 0.15);\n",
              "    fill: var(--button-hover-fill-color);\n",
              "  }\n",
              "\n",
              "  .colab-df-quickchart-complete:disabled,\n",
              "  .colab-df-quickchart-complete:disabled:hover {\n",
              "    background-color: var(--disabled-bg-color);\n",
              "    fill: var(--disabled-fill-color);\n",
              "    box-shadow: none;\n",
              "  }\n",
              "\n",
              "  .colab-df-spinner {\n",
              "    border: 2px solid var(--fill-color);\n",
              "    border-color: transparent;\n",
              "    border-bottom-color: var(--fill-color);\n",
              "    animation:\n",
              "      spin 1s steps(1) infinite;\n",
              "  }\n",
              "\n",
              "  @keyframes spin {\n",
              "    0% {\n",
              "      border-color: transparent;\n",
              "      border-bottom-color: var(--fill-color);\n",
              "      border-left-color: var(--fill-color);\n",
              "    }\n",
              "    20% {\n",
              "      border-color: transparent;\n",
              "      border-left-color: var(--fill-color);\n",
              "      border-top-color: var(--fill-color);\n",
              "    }\n",
              "    30% {\n",
              "      border-color: transparent;\n",
              "      border-left-color: var(--fill-color);\n",
              "      border-top-color: var(--fill-color);\n",
              "      border-right-color: var(--fill-color);\n",
              "    }\n",
              "    40% {\n",
              "      border-color: transparent;\n",
              "      border-right-color: var(--fill-color);\n",
              "      border-top-color: var(--fill-color);\n",
              "    }\n",
              "    60% {\n",
              "      border-color: transparent;\n",
              "      border-right-color: var(--fill-color);\n",
              "    }\n",
              "    80% {\n",
              "      border-color: transparent;\n",
              "      border-right-color: var(--fill-color);\n",
              "      border-bottom-color: var(--fill-color);\n",
              "    }\n",
              "    90% {\n",
              "      border-color: transparent;\n",
              "      border-bottom-color: var(--fill-color);\n",
              "    }\n",
              "  }\n",
              "</style>\n",
              "\n",
              "  <script>\n",
              "    async function quickchart(key) {\n",
              "      const quickchartButtonEl =\n",
              "        document.querySelector('#' + key + ' button');\n",
              "      quickchartButtonEl.disabled = true;  // To prevent multiple clicks.\n",
              "      quickchartButtonEl.classList.add('colab-df-spinner');\n",
              "      try {\n",
              "        const charts = await google.colab.kernel.invokeFunction(\n",
              "            'suggestCharts', [key], {});\n",
              "      } catch (error) {\n",
              "        console.error('Error during call to suggestCharts:', error);\n",
              "      }\n",
              "      quickchartButtonEl.classList.remove('colab-df-spinner');\n",
              "      quickchartButtonEl.classList.add('colab-df-quickchart-complete');\n",
              "    }\n",
              "    (() => {\n",
              "      let quickchartButtonEl =\n",
              "        document.querySelector('#df-26e7bd5f-532f-4323-a1e6-611c89362b32 button');\n",
              "      quickchartButtonEl.style.display =\n",
              "        google.colab.kernel.accessAllowed ? 'block' : 'none';\n",
              "    })();\n",
              "  </script>\n",
              "</div>\n",
              "\n",
              "    </div>\n",
              "  </div>\n"
            ],
            "application/vnd.google.colaboratory.intrinsic+json": {
              "type": "dataframe",
              "variable_name": "transactions_with_dummies"
            }
          },
          "metadata": {},
          "execution_count": 81
        }
      ]
    },
    {
      "cell_type": "markdown",
      "source": [
        "#### Removing empty/unnecessary columns"
      ],
      "metadata": {
        "id": "LQLWAB1T8j9X"
      }
    },
    {
      "cell_type": "code",
      "source": [
        "# List of fields to remove\n",
        "fields_to_remove = ['accountNumber', 'customerId', 'merchantName', 'cardCVV', 'enteredCVV', 'cardLast4Digits', 'posOnPremises', 'recurringAuthInd', 'merchantCity', 'merchantState', 'merchantZip', 'echoBuffer', 'time_diff','currentExpDate','accountOpenDate','dateOfLastAddressChange','transactionDateTime']\n",
        "\n",
        "# Drop the specified fields from the dataset\n",
        "transactions_cleaned = transactions_with_dummies.drop(fields_to_remove, axis=1)"
      ],
      "metadata": {
        "id": "bVwpLU977xcT"
      },
      "execution_count": 82,
      "outputs": []
    },
    {
      "cell_type": "code",
      "source": [
        "transactions_cleaned.head()"
      ],
      "metadata": {
        "colab": {
          "base_uri": "https://localhost:8080/",
          "height": 273
        },
        "id": "kEoUO18AMfCP",
        "outputId": "5046b926-6d0e-483a-91e0-4a0a0e670a59"
      },
      "execution_count": 83,
      "outputs": [
        {
          "output_type": "execute_result",
          "data": {
            "text/plain": [
              "        creditLimit  availableMoney  transactionAmount  currentBalance  \\\n",
              "541900      50000.0        50000.00             205.13            0.00   \n",
              "541901      50000.0        49794.87              46.43          205.13   \n",
              "541902      50000.0        49748.44             378.67          251.56   \n",
              "541903      50000.0        50000.00              66.07            0.00   \n",
              "541904      50000.0        49933.93             141.60           66.07   \n",
              "\n",
              "        cardPresent  expirationDateKeyInMatch  isFraud  transaction_year  \\\n",
              "541900         True                     False    False              2016   \n",
              "541901         True                     False    False              2016   \n",
              "541902        False                     False    False              2016   \n",
              "541903         True                     False    False              2016   \n",
              "541904         True                     False    False              2016   \n",
              "\n",
              "        transaction_month  transaction_day  ...  \\\n",
              "541900                  1               12  ...   \n",
              "541901                  1               12  ...   \n",
              "541902                  1               17  ...   \n",
              "541903                  2                2  ...   \n",
              "541904                  2                3  ...   \n",
              "\n",
              "        merchantCategoryCode_online_gifts  merchantCategoryCode_online_retail  \\\n",
              "541900                                  0                                   0   \n",
              "541901                                  0                                   0   \n",
              "541902                                  1                                   0   \n",
              "541903                                  0                                   0   \n",
              "541904                                  0                                   0   \n",
              "\n",
              "        merchantCategoryCode_online_subscriptions  \\\n",
              "541900                                          0   \n",
              "541901                                          0   \n",
              "541902                                          0   \n",
              "541903                                          0   \n",
              "541904                                          0   \n",
              "\n",
              "        merchantCategoryCode_personal care  merchantCategoryCode_rideshare  \\\n",
              "541900                                   0                               0   \n",
              "541901                                   0                               0   \n",
              "541902                                   0                               0   \n",
              "541903                                   0                               0   \n",
              "541904                                   0                               0   \n",
              "\n",
              "        merchantCategoryCode_subscriptions  transactionType_  \\\n",
              "541900                                   0                 0   \n",
              "541901                                   0                 0   \n",
              "541902                                   0                 0   \n",
              "541903                                   0                 0   \n",
              "541904                                   0                 0   \n",
              "\n",
              "        transactionType_ADDRESS_VERIFICATION  transactionType_PURCHASE  \\\n",
              "541900                                     0                         1   \n",
              "541901                                     0                         1   \n",
              "541902                                     0                         1   \n",
              "541903                                     0                         1   \n",
              "541904                                     0                         1   \n",
              "\n",
              "        transactionType_REVERSAL  \n",
              "541900                         0  \n",
              "541901                         0  \n",
              "541902                         0  \n",
              "541903                         0  \n",
              "541904                         0  \n",
              "\n",
              "[5 rows x 65 columns]"
            ],
            "text/html": [
              "\n",
              "  <div id=\"df-9e40451c-910e-444f-ba6a-4275b852ea4c\" class=\"colab-df-container\">\n",
              "    <div>\n",
              "<style scoped>\n",
              "    .dataframe tbody tr th:only-of-type {\n",
              "        vertical-align: middle;\n",
              "    }\n",
              "\n",
              "    .dataframe tbody tr th {\n",
              "        vertical-align: top;\n",
              "    }\n",
              "\n",
              "    .dataframe thead th {\n",
              "        text-align: right;\n",
              "    }\n",
              "</style>\n",
              "<table border=\"1\" class=\"dataframe\">\n",
              "  <thead>\n",
              "    <tr style=\"text-align: right;\">\n",
              "      <th></th>\n",
              "      <th>creditLimit</th>\n",
              "      <th>availableMoney</th>\n",
              "      <th>transactionAmount</th>\n",
              "      <th>currentBalance</th>\n",
              "      <th>cardPresent</th>\n",
              "      <th>expirationDateKeyInMatch</th>\n",
              "      <th>isFraud</th>\n",
              "      <th>transaction_year</th>\n",
              "      <th>transaction_month</th>\n",
              "      <th>transaction_day</th>\n",
              "      <th>...</th>\n",
              "      <th>merchantCategoryCode_online_gifts</th>\n",
              "      <th>merchantCategoryCode_online_retail</th>\n",
              "      <th>merchantCategoryCode_online_subscriptions</th>\n",
              "      <th>merchantCategoryCode_personal care</th>\n",
              "      <th>merchantCategoryCode_rideshare</th>\n",
              "      <th>merchantCategoryCode_subscriptions</th>\n",
              "      <th>transactionType_</th>\n",
              "      <th>transactionType_ADDRESS_VERIFICATION</th>\n",
              "      <th>transactionType_PURCHASE</th>\n",
              "      <th>transactionType_REVERSAL</th>\n",
              "    </tr>\n",
              "  </thead>\n",
              "  <tbody>\n",
              "    <tr>\n",
              "      <th>541900</th>\n",
              "      <td>50000.0</td>\n",
              "      <td>50000.00</td>\n",
              "      <td>205.13</td>\n",
              "      <td>0.00</td>\n",
              "      <td>True</td>\n",
              "      <td>False</td>\n",
              "      <td>False</td>\n",
              "      <td>2016</td>\n",
              "      <td>1</td>\n",
              "      <td>12</td>\n",
              "      <td>...</td>\n",
              "      <td>0</td>\n",
              "      <td>0</td>\n",
              "      <td>0</td>\n",
              "      <td>0</td>\n",
              "      <td>0</td>\n",
              "      <td>0</td>\n",
              "      <td>0</td>\n",
              "      <td>0</td>\n",
              "      <td>1</td>\n",
              "      <td>0</td>\n",
              "    </tr>\n",
              "    <tr>\n",
              "      <th>541901</th>\n",
              "      <td>50000.0</td>\n",
              "      <td>49794.87</td>\n",
              "      <td>46.43</td>\n",
              "      <td>205.13</td>\n",
              "      <td>True</td>\n",
              "      <td>False</td>\n",
              "      <td>False</td>\n",
              "      <td>2016</td>\n",
              "      <td>1</td>\n",
              "      <td>12</td>\n",
              "      <td>...</td>\n",
              "      <td>0</td>\n",
              "      <td>0</td>\n",
              "      <td>0</td>\n",
              "      <td>0</td>\n",
              "      <td>0</td>\n",
              "      <td>0</td>\n",
              "      <td>0</td>\n",
              "      <td>0</td>\n",
              "      <td>1</td>\n",
              "      <td>0</td>\n",
              "    </tr>\n",
              "    <tr>\n",
              "      <th>541902</th>\n",
              "      <td>50000.0</td>\n",
              "      <td>49748.44</td>\n",
              "      <td>378.67</td>\n",
              "      <td>251.56</td>\n",
              "      <td>False</td>\n",
              "      <td>False</td>\n",
              "      <td>False</td>\n",
              "      <td>2016</td>\n",
              "      <td>1</td>\n",
              "      <td>17</td>\n",
              "      <td>...</td>\n",
              "      <td>1</td>\n",
              "      <td>0</td>\n",
              "      <td>0</td>\n",
              "      <td>0</td>\n",
              "      <td>0</td>\n",
              "      <td>0</td>\n",
              "      <td>0</td>\n",
              "      <td>0</td>\n",
              "      <td>1</td>\n",
              "      <td>0</td>\n",
              "    </tr>\n",
              "    <tr>\n",
              "      <th>541903</th>\n",
              "      <td>50000.0</td>\n",
              "      <td>50000.00</td>\n",
              "      <td>66.07</td>\n",
              "      <td>0.00</td>\n",
              "      <td>True</td>\n",
              "      <td>False</td>\n",
              "      <td>False</td>\n",
              "      <td>2016</td>\n",
              "      <td>2</td>\n",
              "      <td>2</td>\n",
              "      <td>...</td>\n",
              "      <td>0</td>\n",
              "      <td>0</td>\n",
              "      <td>0</td>\n",
              "      <td>0</td>\n",
              "      <td>0</td>\n",
              "      <td>0</td>\n",
              "      <td>0</td>\n",
              "      <td>0</td>\n",
              "      <td>1</td>\n",
              "      <td>0</td>\n",
              "    </tr>\n",
              "    <tr>\n",
              "      <th>541904</th>\n",
              "      <td>50000.0</td>\n",
              "      <td>49933.93</td>\n",
              "      <td>141.60</td>\n",
              "      <td>66.07</td>\n",
              "      <td>True</td>\n",
              "      <td>False</td>\n",
              "      <td>False</td>\n",
              "      <td>2016</td>\n",
              "      <td>2</td>\n",
              "      <td>3</td>\n",
              "      <td>...</td>\n",
              "      <td>0</td>\n",
              "      <td>0</td>\n",
              "      <td>0</td>\n",
              "      <td>0</td>\n",
              "      <td>0</td>\n",
              "      <td>0</td>\n",
              "      <td>0</td>\n",
              "      <td>0</td>\n",
              "      <td>1</td>\n",
              "      <td>0</td>\n",
              "    </tr>\n",
              "  </tbody>\n",
              "</table>\n",
              "<p>5 rows × 65 columns</p>\n",
              "</div>\n",
              "    <div class=\"colab-df-buttons\">\n",
              "\n",
              "  <div class=\"colab-df-container\">\n",
              "    <button class=\"colab-df-convert\" onclick=\"convertToInteractive('df-9e40451c-910e-444f-ba6a-4275b852ea4c')\"\n",
              "            title=\"Convert this dataframe to an interactive table.\"\n",
              "            style=\"display:none;\">\n",
              "\n",
              "  <svg xmlns=\"http://www.w3.org/2000/svg\" height=\"24px\" viewBox=\"0 -960 960 960\">\n",
              "    <path d=\"M120-120v-720h720v720H120Zm60-500h600v-160H180v160Zm220 220h160v-160H400v160Zm0 220h160v-160H400v160ZM180-400h160v-160H180v160Zm440 0h160v-160H620v160ZM180-180h160v-160H180v160Zm440 0h160v-160H620v160Z\"/>\n",
              "  </svg>\n",
              "    </button>\n",
              "\n",
              "  <style>\n",
              "    .colab-df-container {\n",
              "      display:flex;\n",
              "      gap: 12px;\n",
              "    }\n",
              "\n",
              "    .colab-df-convert {\n",
              "      background-color: #E8F0FE;\n",
              "      border: none;\n",
              "      border-radius: 50%;\n",
              "      cursor: pointer;\n",
              "      display: none;\n",
              "      fill: #1967D2;\n",
              "      height: 32px;\n",
              "      padding: 0 0 0 0;\n",
              "      width: 32px;\n",
              "    }\n",
              "\n",
              "    .colab-df-convert:hover {\n",
              "      background-color: #E2EBFA;\n",
              "      box-shadow: 0px 1px 2px rgba(60, 64, 67, 0.3), 0px 1px 3px 1px rgba(60, 64, 67, 0.15);\n",
              "      fill: #174EA6;\n",
              "    }\n",
              "\n",
              "    .colab-df-buttons div {\n",
              "      margin-bottom: 4px;\n",
              "    }\n",
              "\n",
              "    [theme=dark] .colab-df-convert {\n",
              "      background-color: #3B4455;\n",
              "      fill: #D2E3FC;\n",
              "    }\n",
              "\n",
              "    [theme=dark] .colab-df-convert:hover {\n",
              "      background-color: #434B5C;\n",
              "      box-shadow: 0px 1px 3px 1px rgba(0, 0, 0, 0.15);\n",
              "      filter: drop-shadow(0px 1px 2px rgba(0, 0, 0, 0.3));\n",
              "      fill: #FFFFFF;\n",
              "    }\n",
              "  </style>\n",
              "\n",
              "    <script>\n",
              "      const buttonEl =\n",
              "        document.querySelector('#df-9e40451c-910e-444f-ba6a-4275b852ea4c button.colab-df-convert');\n",
              "      buttonEl.style.display =\n",
              "        google.colab.kernel.accessAllowed ? 'block' : 'none';\n",
              "\n",
              "      async function convertToInteractive(key) {\n",
              "        const element = document.querySelector('#df-9e40451c-910e-444f-ba6a-4275b852ea4c');\n",
              "        const dataTable =\n",
              "          await google.colab.kernel.invokeFunction('convertToInteractive',\n",
              "                                                    [key], {});\n",
              "        if (!dataTable) return;\n",
              "\n",
              "        const docLinkHtml = 'Like what you see? Visit the ' +\n",
              "          '<a target=\"_blank\" href=https://colab.research.google.com/notebooks/data_table.ipynb>data table notebook</a>'\n",
              "          + ' to learn more about interactive tables.';\n",
              "        element.innerHTML = '';\n",
              "        dataTable['output_type'] = 'display_data';\n",
              "        await google.colab.output.renderOutput(dataTable, element);\n",
              "        const docLink = document.createElement('div');\n",
              "        docLink.innerHTML = docLinkHtml;\n",
              "        element.appendChild(docLink);\n",
              "      }\n",
              "    </script>\n",
              "  </div>\n",
              "\n",
              "\n",
              "<div id=\"df-d45664db-dad7-4b55-947d-d087141afd00\">\n",
              "  <button class=\"colab-df-quickchart\" onclick=\"quickchart('df-d45664db-dad7-4b55-947d-d087141afd00')\"\n",
              "            title=\"Suggest charts\"\n",
              "            style=\"display:none;\">\n",
              "\n",
              "<svg xmlns=\"http://www.w3.org/2000/svg\" height=\"24px\"viewBox=\"0 0 24 24\"\n",
              "     width=\"24px\">\n",
              "    <g>\n",
              "        <path d=\"M19 3H5c-1.1 0-2 .9-2 2v14c0 1.1.9 2 2 2h14c1.1 0 2-.9 2-2V5c0-1.1-.9-2-2-2zM9 17H7v-7h2v7zm4 0h-2V7h2v10zm4 0h-2v-4h2v4z\"/>\n",
              "    </g>\n",
              "</svg>\n",
              "  </button>\n",
              "\n",
              "<style>\n",
              "  .colab-df-quickchart {\n",
              "      --bg-color: #E8F0FE;\n",
              "      --fill-color: #1967D2;\n",
              "      --hover-bg-color: #E2EBFA;\n",
              "      --hover-fill-color: #174EA6;\n",
              "      --disabled-fill-color: #AAA;\n",
              "      --disabled-bg-color: #DDD;\n",
              "  }\n",
              "\n",
              "  [theme=dark] .colab-df-quickchart {\n",
              "      --bg-color: #3B4455;\n",
              "      --fill-color: #D2E3FC;\n",
              "      --hover-bg-color: #434B5C;\n",
              "      --hover-fill-color: #FFFFFF;\n",
              "      --disabled-bg-color: #3B4455;\n",
              "      --disabled-fill-color: #666;\n",
              "  }\n",
              "\n",
              "  .colab-df-quickchart {\n",
              "    background-color: var(--bg-color);\n",
              "    border: none;\n",
              "    border-radius: 50%;\n",
              "    cursor: pointer;\n",
              "    display: none;\n",
              "    fill: var(--fill-color);\n",
              "    height: 32px;\n",
              "    padding: 0;\n",
              "    width: 32px;\n",
              "  }\n",
              "\n",
              "  .colab-df-quickchart:hover {\n",
              "    background-color: var(--hover-bg-color);\n",
              "    box-shadow: 0 1px 2px rgba(60, 64, 67, 0.3), 0 1px 3px 1px rgba(60, 64, 67, 0.15);\n",
              "    fill: var(--button-hover-fill-color);\n",
              "  }\n",
              "\n",
              "  .colab-df-quickchart-complete:disabled,\n",
              "  .colab-df-quickchart-complete:disabled:hover {\n",
              "    background-color: var(--disabled-bg-color);\n",
              "    fill: var(--disabled-fill-color);\n",
              "    box-shadow: none;\n",
              "  }\n",
              "\n",
              "  .colab-df-spinner {\n",
              "    border: 2px solid var(--fill-color);\n",
              "    border-color: transparent;\n",
              "    border-bottom-color: var(--fill-color);\n",
              "    animation:\n",
              "      spin 1s steps(1) infinite;\n",
              "  }\n",
              "\n",
              "  @keyframes spin {\n",
              "    0% {\n",
              "      border-color: transparent;\n",
              "      border-bottom-color: var(--fill-color);\n",
              "      border-left-color: var(--fill-color);\n",
              "    }\n",
              "    20% {\n",
              "      border-color: transparent;\n",
              "      border-left-color: var(--fill-color);\n",
              "      border-top-color: var(--fill-color);\n",
              "    }\n",
              "    30% {\n",
              "      border-color: transparent;\n",
              "      border-left-color: var(--fill-color);\n",
              "      border-top-color: var(--fill-color);\n",
              "      border-right-color: var(--fill-color);\n",
              "    }\n",
              "    40% {\n",
              "      border-color: transparent;\n",
              "      border-right-color: var(--fill-color);\n",
              "      border-top-color: var(--fill-color);\n",
              "    }\n",
              "    60% {\n",
              "      border-color: transparent;\n",
              "      border-right-color: var(--fill-color);\n",
              "    }\n",
              "    80% {\n",
              "      border-color: transparent;\n",
              "      border-right-color: var(--fill-color);\n",
              "      border-bottom-color: var(--fill-color);\n",
              "    }\n",
              "    90% {\n",
              "      border-color: transparent;\n",
              "      border-bottom-color: var(--fill-color);\n",
              "    }\n",
              "  }\n",
              "</style>\n",
              "\n",
              "  <script>\n",
              "    async function quickchart(key) {\n",
              "      const quickchartButtonEl =\n",
              "        document.querySelector('#' + key + ' button');\n",
              "      quickchartButtonEl.disabled = true;  // To prevent multiple clicks.\n",
              "      quickchartButtonEl.classList.add('colab-df-spinner');\n",
              "      try {\n",
              "        const charts = await google.colab.kernel.invokeFunction(\n",
              "            'suggestCharts', [key], {});\n",
              "      } catch (error) {\n",
              "        console.error('Error during call to suggestCharts:', error);\n",
              "      }\n",
              "      quickchartButtonEl.classList.remove('colab-df-spinner');\n",
              "      quickchartButtonEl.classList.add('colab-df-quickchart-complete');\n",
              "    }\n",
              "    (() => {\n",
              "      let quickchartButtonEl =\n",
              "        document.querySelector('#df-d45664db-dad7-4b55-947d-d087141afd00 button');\n",
              "      quickchartButtonEl.style.display =\n",
              "        google.colab.kernel.accessAllowed ? 'block' : 'none';\n",
              "    })();\n",
              "  </script>\n",
              "</div>\n",
              "\n",
              "    </div>\n",
              "  </div>\n"
            ],
            "application/vnd.google.colaboratory.intrinsic+json": {
              "type": "dataframe",
              "variable_name": "transactions_cleaned"
            }
          },
          "metadata": {},
          "execution_count": 83
        }
      ]
    },
    {
      "cell_type": "markdown",
      "source": [
        "#### Handling Boolean variable"
      ],
      "metadata": {
        "id": "WYK236IODI8A"
      }
    },
    {
      "cell_type": "markdown",
      "source": [
        "Handling boolean variables involves transforming True and False values into numerical representations, 1 for True and 0 for False. This conversion is commonly performed to ensure compatibility with machine learning algorithms that require numerical input. By mapping True to 1 and False to 0, we maintain the binary nature of the boolean variable while enabling arithmetic operations and analysis. This transformation simplifies data processing and allows algorithms to interpret boolean variables effectively."
      ],
      "metadata": {
        "id": "Zea8ANIfA8k0"
      }
    },
    {
      "cell_type": "code",
      "source": [
        "transactions_cleaned['isFraud'] = transactions_cleaned['isFraud'].replace({True: 1, False: 0})\n"
      ],
      "metadata": {
        "id": "dyjh15QTC-HA"
      },
      "execution_count": 84,
      "outputs": []
    },
    {
      "cell_type": "code",
      "source": [
        "transactions_cleaned['cardPresent'] = transactions_cleaned['cardPresent'].replace({True: 1, False: 0})\n"
      ],
      "metadata": {
        "id": "kx53j4kwDMKA"
      },
      "execution_count": 85,
      "outputs": []
    },
    {
      "cell_type": "code",
      "source": [
        "transactions_cleaned['expirationDateKeyInMatch'] = transactions_cleaned['expirationDateKeyInMatch'].replace({True: 1, False: 0})"
      ],
      "metadata": {
        "id": "sBIQ_c9ADMjL"
      },
      "execution_count": 86,
      "outputs": []
    },
    {
      "cell_type": "code",
      "source": [
        "transactions_cleaned.shape"
      ],
      "metadata": {
        "colab": {
          "base_uri": "https://localhost:8080/"
        },
        "id": "8NvHyqEaDxDu",
        "outputId": "74ad9e8d-c185-427c-9e7f-71663beaf72e"
      },
      "execution_count": 87,
      "outputs": [
        {
          "output_type": "execute_result",
          "data": {
            "text/plain": [
              "(786363, 65)"
            ]
          },
          "metadata": {},
          "execution_count": 87
        }
      ]
    },
    {
      "cell_type": "code",
      "source": [
        "transactions_cleaned.head()"
      ],
      "metadata": {
        "colab": {
          "base_uri": "https://localhost:8080/",
          "height": 273
        },
        "id": "inaNUYOwMZfB",
        "outputId": "c3599088-7eba-4df0-a131-4c5cff9703eb"
      },
      "execution_count": 88,
      "outputs": [
        {
          "output_type": "execute_result",
          "data": {
            "text/plain": [
              "        creditLimit  availableMoney  transactionAmount  currentBalance  \\\n",
              "541900      50000.0        50000.00             205.13            0.00   \n",
              "541901      50000.0        49794.87              46.43          205.13   \n",
              "541902      50000.0        49748.44             378.67          251.56   \n",
              "541903      50000.0        50000.00              66.07            0.00   \n",
              "541904      50000.0        49933.93             141.60           66.07   \n",
              "\n",
              "        cardPresent  expirationDateKeyInMatch  isFraud  transaction_year  \\\n",
              "541900            1                         0        0              2016   \n",
              "541901            1                         0        0              2016   \n",
              "541902            0                         0        0              2016   \n",
              "541903            1                         0        0              2016   \n",
              "541904            1                         0        0              2016   \n",
              "\n",
              "        transaction_month  transaction_day  ...  \\\n",
              "541900                  1               12  ...   \n",
              "541901                  1               12  ...   \n",
              "541902                  1               17  ...   \n",
              "541903                  2                2  ...   \n",
              "541904                  2                3  ...   \n",
              "\n",
              "        merchantCategoryCode_online_gifts  merchantCategoryCode_online_retail  \\\n",
              "541900                                  0                                   0   \n",
              "541901                                  0                                   0   \n",
              "541902                                  1                                   0   \n",
              "541903                                  0                                   0   \n",
              "541904                                  0                                   0   \n",
              "\n",
              "        merchantCategoryCode_online_subscriptions  \\\n",
              "541900                                          0   \n",
              "541901                                          0   \n",
              "541902                                          0   \n",
              "541903                                          0   \n",
              "541904                                          0   \n",
              "\n",
              "        merchantCategoryCode_personal care  merchantCategoryCode_rideshare  \\\n",
              "541900                                   0                               0   \n",
              "541901                                   0                               0   \n",
              "541902                                   0                               0   \n",
              "541903                                   0                               0   \n",
              "541904                                   0                               0   \n",
              "\n",
              "        merchantCategoryCode_subscriptions  transactionType_  \\\n",
              "541900                                   0                 0   \n",
              "541901                                   0                 0   \n",
              "541902                                   0                 0   \n",
              "541903                                   0                 0   \n",
              "541904                                   0                 0   \n",
              "\n",
              "        transactionType_ADDRESS_VERIFICATION  transactionType_PURCHASE  \\\n",
              "541900                                     0                         1   \n",
              "541901                                     0                         1   \n",
              "541902                                     0                         1   \n",
              "541903                                     0                         1   \n",
              "541904                                     0                         1   \n",
              "\n",
              "        transactionType_REVERSAL  \n",
              "541900                         0  \n",
              "541901                         0  \n",
              "541902                         0  \n",
              "541903                         0  \n",
              "541904                         0  \n",
              "\n",
              "[5 rows x 65 columns]"
            ],
            "text/html": [
              "\n",
              "  <div id=\"df-5941f527-3ad4-4a6b-8d53-5ea837957068\" class=\"colab-df-container\">\n",
              "    <div>\n",
              "<style scoped>\n",
              "    .dataframe tbody tr th:only-of-type {\n",
              "        vertical-align: middle;\n",
              "    }\n",
              "\n",
              "    .dataframe tbody tr th {\n",
              "        vertical-align: top;\n",
              "    }\n",
              "\n",
              "    .dataframe thead th {\n",
              "        text-align: right;\n",
              "    }\n",
              "</style>\n",
              "<table border=\"1\" class=\"dataframe\">\n",
              "  <thead>\n",
              "    <tr style=\"text-align: right;\">\n",
              "      <th></th>\n",
              "      <th>creditLimit</th>\n",
              "      <th>availableMoney</th>\n",
              "      <th>transactionAmount</th>\n",
              "      <th>currentBalance</th>\n",
              "      <th>cardPresent</th>\n",
              "      <th>expirationDateKeyInMatch</th>\n",
              "      <th>isFraud</th>\n",
              "      <th>transaction_year</th>\n",
              "      <th>transaction_month</th>\n",
              "      <th>transaction_day</th>\n",
              "      <th>...</th>\n",
              "      <th>merchantCategoryCode_online_gifts</th>\n",
              "      <th>merchantCategoryCode_online_retail</th>\n",
              "      <th>merchantCategoryCode_online_subscriptions</th>\n",
              "      <th>merchantCategoryCode_personal care</th>\n",
              "      <th>merchantCategoryCode_rideshare</th>\n",
              "      <th>merchantCategoryCode_subscriptions</th>\n",
              "      <th>transactionType_</th>\n",
              "      <th>transactionType_ADDRESS_VERIFICATION</th>\n",
              "      <th>transactionType_PURCHASE</th>\n",
              "      <th>transactionType_REVERSAL</th>\n",
              "    </tr>\n",
              "  </thead>\n",
              "  <tbody>\n",
              "    <tr>\n",
              "      <th>541900</th>\n",
              "      <td>50000.0</td>\n",
              "      <td>50000.00</td>\n",
              "      <td>205.13</td>\n",
              "      <td>0.00</td>\n",
              "      <td>1</td>\n",
              "      <td>0</td>\n",
              "      <td>0</td>\n",
              "      <td>2016</td>\n",
              "      <td>1</td>\n",
              "      <td>12</td>\n",
              "      <td>...</td>\n",
              "      <td>0</td>\n",
              "      <td>0</td>\n",
              "      <td>0</td>\n",
              "      <td>0</td>\n",
              "      <td>0</td>\n",
              "      <td>0</td>\n",
              "      <td>0</td>\n",
              "      <td>0</td>\n",
              "      <td>1</td>\n",
              "      <td>0</td>\n",
              "    </tr>\n",
              "    <tr>\n",
              "      <th>541901</th>\n",
              "      <td>50000.0</td>\n",
              "      <td>49794.87</td>\n",
              "      <td>46.43</td>\n",
              "      <td>205.13</td>\n",
              "      <td>1</td>\n",
              "      <td>0</td>\n",
              "      <td>0</td>\n",
              "      <td>2016</td>\n",
              "      <td>1</td>\n",
              "      <td>12</td>\n",
              "      <td>...</td>\n",
              "      <td>0</td>\n",
              "      <td>0</td>\n",
              "      <td>0</td>\n",
              "      <td>0</td>\n",
              "      <td>0</td>\n",
              "      <td>0</td>\n",
              "      <td>0</td>\n",
              "      <td>0</td>\n",
              "      <td>1</td>\n",
              "      <td>0</td>\n",
              "    </tr>\n",
              "    <tr>\n",
              "      <th>541902</th>\n",
              "      <td>50000.0</td>\n",
              "      <td>49748.44</td>\n",
              "      <td>378.67</td>\n",
              "      <td>251.56</td>\n",
              "      <td>0</td>\n",
              "      <td>0</td>\n",
              "      <td>0</td>\n",
              "      <td>2016</td>\n",
              "      <td>1</td>\n",
              "      <td>17</td>\n",
              "      <td>...</td>\n",
              "      <td>1</td>\n",
              "      <td>0</td>\n",
              "      <td>0</td>\n",
              "      <td>0</td>\n",
              "      <td>0</td>\n",
              "      <td>0</td>\n",
              "      <td>0</td>\n",
              "      <td>0</td>\n",
              "      <td>1</td>\n",
              "      <td>0</td>\n",
              "    </tr>\n",
              "    <tr>\n",
              "      <th>541903</th>\n",
              "      <td>50000.0</td>\n",
              "      <td>50000.00</td>\n",
              "      <td>66.07</td>\n",
              "      <td>0.00</td>\n",
              "      <td>1</td>\n",
              "      <td>0</td>\n",
              "      <td>0</td>\n",
              "      <td>2016</td>\n",
              "      <td>2</td>\n",
              "      <td>2</td>\n",
              "      <td>...</td>\n",
              "      <td>0</td>\n",
              "      <td>0</td>\n",
              "      <td>0</td>\n",
              "      <td>0</td>\n",
              "      <td>0</td>\n",
              "      <td>0</td>\n",
              "      <td>0</td>\n",
              "      <td>0</td>\n",
              "      <td>1</td>\n",
              "      <td>0</td>\n",
              "    </tr>\n",
              "    <tr>\n",
              "      <th>541904</th>\n",
              "      <td>50000.0</td>\n",
              "      <td>49933.93</td>\n",
              "      <td>141.60</td>\n",
              "      <td>66.07</td>\n",
              "      <td>1</td>\n",
              "      <td>0</td>\n",
              "      <td>0</td>\n",
              "      <td>2016</td>\n",
              "      <td>2</td>\n",
              "      <td>3</td>\n",
              "      <td>...</td>\n",
              "      <td>0</td>\n",
              "      <td>0</td>\n",
              "      <td>0</td>\n",
              "      <td>0</td>\n",
              "      <td>0</td>\n",
              "      <td>0</td>\n",
              "      <td>0</td>\n",
              "      <td>0</td>\n",
              "      <td>1</td>\n",
              "      <td>0</td>\n",
              "    </tr>\n",
              "  </tbody>\n",
              "</table>\n",
              "<p>5 rows × 65 columns</p>\n",
              "</div>\n",
              "    <div class=\"colab-df-buttons\">\n",
              "\n",
              "  <div class=\"colab-df-container\">\n",
              "    <button class=\"colab-df-convert\" onclick=\"convertToInteractive('df-5941f527-3ad4-4a6b-8d53-5ea837957068')\"\n",
              "            title=\"Convert this dataframe to an interactive table.\"\n",
              "            style=\"display:none;\">\n",
              "\n",
              "  <svg xmlns=\"http://www.w3.org/2000/svg\" height=\"24px\" viewBox=\"0 -960 960 960\">\n",
              "    <path d=\"M120-120v-720h720v720H120Zm60-500h600v-160H180v160Zm220 220h160v-160H400v160Zm0 220h160v-160H400v160ZM180-400h160v-160H180v160Zm440 0h160v-160H620v160ZM180-180h160v-160H180v160Zm440 0h160v-160H620v160Z\"/>\n",
              "  </svg>\n",
              "    </button>\n",
              "\n",
              "  <style>\n",
              "    .colab-df-container {\n",
              "      display:flex;\n",
              "      gap: 12px;\n",
              "    }\n",
              "\n",
              "    .colab-df-convert {\n",
              "      background-color: #E8F0FE;\n",
              "      border: none;\n",
              "      border-radius: 50%;\n",
              "      cursor: pointer;\n",
              "      display: none;\n",
              "      fill: #1967D2;\n",
              "      height: 32px;\n",
              "      padding: 0 0 0 0;\n",
              "      width: 32px;\n",
              "    }\n",
              "\n",
              "    .colab-df-convert:hover {\n",
              "      background-color: #E2EBFA;\n",
              "      box-shadow: 0px 1px 2px rgba(60, 64, 67, 0.3), 0px 1px 3px 1px rgba(60, 64, 67, 0.15);\n",
              "      fill: #174EA6;\n",
              "    }\n",
              "\n",
              "    .colab-df-buttons div {\n",
              "      margin-bottom: 4px;\n",
              "    }\n",
              "\n",
              "    [theme=dark] .colab-df-convert {\n",
              "      background-color: #3B4455;\n",
              "      fill: #D2E3FC;\n",
              "    }\n",
              "\n",
              "    [theme=dark] .colab-df-convert:hover {\n",
              "      background-color: #434B5C;\n",
              "      box-shadow: 0px 1px 3px 1px rgba(0, 0, 0, 0.15);\n",
              "      filter: drop-shadow(0px 1px 2px rgba(0, 0, 0, 0.3));\n",
              "      fill: #FFFFFF;\n",
              "    }\n",
              "  </style>\n",
              "\n",
              "    <script>\n",
              "      const buttonEl =\n",
              "        document.querySelector('#df-5941f527-3ad4-4a6b-8d53-5ea837957068 button.colab-df-convert');\n",
              "      buttonEl.style.display =\n",
              "        google.colab.kernel.accessAllowed ? 'block' : 'none';\n",
              "\n",
              "      async function convertToInteractive(key) {\n",
              "        const element = document.querySelector('#df-5941f527-3ad4-4a6b-8d53-5ea837957068');\n",
              "        const dataTable =\n",
              "          await google.colab.kernel.invokeFunction('convertToInteractive',\n",
              "                                                    [key], {});\n",
              "        if (!dataTable) return;\n",
              "\n",
              "        const docLinkHtml = 'Like what you see? Visit the ' +\n",
              "          '<a target=\"_blank\" href=https://colab.research.google.com/notebooks/data_table.ipynb>data table notebook</a>'\n",
              "          + ' to learn more about interactive tables.';\n",
              "        element.innerHTML = '';\n",
              "        dataTable['output_type'] = 'display_data';\n",
              "        await google.colab.output.renderOutput(dataTable, element);\n",
              "        const docLink = document.createElement('div');\n",
              "        docLink.innerHTML = docLinkHtml;\n",
              "        element.appendChild(docLink);\n",
              "      }\n",
              "    </script>\n",
              "  </div>\n",
              "\n",
              "\n",
              "<div id=\"df-5dbb7084-36fa-466b-bac8-045ce4e9cd6c\">\n",
              "  <button class=\"colab-df-quickchart\" onclick=\"quickchart('df-5dbb7084-36fa-466b-bac8-045ce4e9cd6c')\"\n",
              "            title=\"Suggest charts\"\n",
              "            style=\"display:none;\">\n",
              "\n",
              "<svg xmlns=\"http://www.w3.org/2000/svg\" height=\"24px\"viewBox=\"0 0 24 24\"\n",
              "     width=\"24px\">\n",
              "    <g>\n",
              "        <path d=\"M19 3H5c-1.1 0-2 .9-2 2v14c0 1.1.9 2 2 2h14c1.1 0 2-.9 2-2V5c0-1.1-.9-2-2-2zM9 17H7v-7h2v7zm4 0h-2V7h2v10zm4 0h-2v-4h2v4z\"/>\n",
              "    </g>\n",
              "</svg>\n",
              "  </button>\n",
              "\n",
              "<style>\n",
              "  .colab-df-quickchart {\n",
              "      --bg-color: #E8F0FE;\n",
              "      --fill-color: #1967D2;\n",
              "      --hover-bg-color: #E2EBFA;\n",
              "      --hover-fill-color: #174EA6;\n",
              "      --disabled-fill-color: #AAA;\n",
              "      --disabled-bg-color: #DDD;\n",
              "  }\n",
              "\n",
              "  [theme=dark] .colab-df-quickchart {\n",
              "      --bg-color: #3B4455;\n",
              "      --fill-color: #D2E3FC;\n",
              "      --hover-bg-color: #434B5C;\n",
              "      --hover-fill-color: #FFFFFF;\n",
              "      --disabled-bg-color: #3B4455;\n",
              "      --disabled-fill-color: #666;\n",
              "  }\n",
              "\n",
              "  .colab-df-quickchart {\n",
              "    background-color: var(--bg-color);\n",
              "    border: none;\n",
              "    border-radius: 50%;\n",
              "    cursor: pointer;\n",
              "    display: none;\n",
              "    fill: var(--fill-color);\n",
              "    height: 32px;\n",
              "    padding: 0;\n",
              "    width: 32px;\n",
              "  }\n",
              "\n",
              "  .colab-df-quickchart:hover {\n",
              "    background-color: var(--hover-bg-color);\n",
              "    box-shadow: 0 1px 2px rgba(60, 64, 67, 0.3), 0 1px 3px 1px rgba(60, 64, 67, 0.15);\n",
              "    fill: var(--button-hover-fill-color);\n",
              "  }\n",
              "\n",
              "  .colab-df-quickchart-complete:disabled,\n",
              "  .colab-df-quickchart-complete:disabled:hover {\n",
              "    background-color: var(--disabled-bg-color);\n",
              "    fill: var(--disabled-fill-color);\n",
              "    box-shadow: none;\n",
              "  }\n",
              "\n",
              "  .colab-df-spinner {\n",
              "    border: 2px solid var(--fill-color);\n",
              "    border-color: transparent;\n",
              "    border-bottom-color: var(--fill-color);\n",
              "    animation:\n",
              "      spin 1s steps(1) infinite;\n",
              "  }\n",
              "\n",
              "  @keyframes spin {\n",
              "    0% {\n",
              "      border-color: transparent;\n",
              "      border-bottom-color: var(--fill-color);\n",
              "      border-left-color: var(--fill-color);\n",
              "    }\n",
              "    20% {\n",
              "      border-color: transparent;\n",
              "      border-left-color: var(--fill-color);\n",
              "      border-top-color: var(--fill-color);\n",
              "    }\n",
              "    30% {\n",
              "      border-color: transparent;\n",
              "      border-left-color: var(--fill-color);\n",
              "      border-top-color: var(--fill-color);\n",
              "      border-right-color: var(--fill-color);\n",
              "    }\n",
              "    40% {\n",
              "      border-color: transparent;\n",
              "      border-right-color: var(--fill-color);\n",
              "      border-top-color: var(--fill-color);\n",
              "    }\n",
              "    60% {\n",
              "      border-color: transparent;\n",
              "      border-right-color: var(--fill-color);\n",
              "    }\n",
              "    80% {\n",
              "      border-color: transparent;\n",
              "      border-right-color: var(--fill-color);\n",
              "      border-bottom-color: var(--fill-color);\n",
              "    }\n",
              "    90% {\n",
              "      border-color: transparent;\n",
              "      border-bottom-color: var(--fill-color);\n",
              "    }\n",
              "  }\n",
              "</style>\n",
              "\n",
              "  <script>\n",
              "    async function quickchart(key) {\n",
              "      const quickchartButtonEl =\n",
              "        document.querySelector('#' + key + ' button');\n",
              "      quickchartButtonEl.disabled = true;  // To prevent multiple clicks.\n",
              "      quickchartButtonEl.classList.add('colab-df-spinner');\n",
              "      try {\n",
              "        const charts = await google.colab.kernel.invokeFunction(\n",
              "            'suggestCharts', [key], {});\n",
              "      } catch (error) {\n",
              "        console.error('Error during call to suggestCharts:', error);\n",
              "      }\n",
              "      quickchartButtonEl.classList.remove('colab-df-spinner');\n",
              "      quickchartButtonEl.classList.add('colab-df-quickchart-complete');\n",
              "    }\n",
              "    (() => {\n",
              "      let quickchartButtonEl =\n",
              "        document.querySelector('#df-5dbb7084-36fa-466b-bac8-045ce4e9cd6c button');\n",
              "      quickchartButtonEl.style.display =\n",
              "        google.colab.kernel.accessAllowed ? 'block' : 'none';\n",
              "    })();\n",
              "  </script>\n",
              "</div>\n",
              "\n",
              "    </div>\n",
              "  </div>\n"
            ],
            "application/vnd.google.colaboratory.intrinsic+json": {
              "type": "dataframe",
              "variable_name": "transactions_cleaned"
            }
          },
          "metadata": {},
          "execution_count": 88
        }
      ]
    },
    {
      "cell_type": "markdown",
      "source": [
        "### Feature Selection"
      ],
      "metadata": {
        "id": "C7Y3816AePHR"
      }
    },
    {
      "cell_type": "markdown",
      "source": [
        "After reviewing various scientific papers on fraud detection, it is evident that certain features consistently emerge as important indicators across different domains and industries. These features include transaction amount, frequency, and timing, as well as account age, geographical location, device information, merchant details, card attributes, and user behavior patterns. Researchers commonly leverage these features in conjunction with machine learning algorithms to build effective fraud detection systems. By analyzing transactional data and user behavior, these features help identify anomalies and patterns indicative of fraudulent activity. Overall, these findings underscore the importance of leveraging a diverse set of features and advanced analytical methods to develop robust fraud detection solutions capable of accurately identifying and mitigating fraudulent behavior across different contexts and industries."
      ],
      "metadata": {
        "id": "SlCCop-Zl80_"
      }
    },
    {
      "cell_type": "code",
      "source": [
        "# Define X (features) and y (target variable)\n",
        "X = transactions_cleaned.drop(columns=['isFraud'])  # Features\n",
        "Y = transactions_cleaned['isFraud']  # Target variable"
      ],
      "metadata": {
        "id": "i3UlOXUONKLa"
      },
      "execution_count": 89,
      "outputs": []
    },
    {
      "cell_type": "code",
      "source": [
        "from sklearn.ensemble import RandomForestClassifier\n",
        "\n",
        "# Initialize the Random Forest classifier\n",
        "rf_classifier = RandomForestClassifier()\n",
        "\n",
        "# Fit the model on the standardized features (X_standardized) and target variable (Y)\n",
        "rf_classifier.fit(X, Y)\n",
        "\n",
        "# Get feature importances\n",
        "feature_importances = rf_classifier.feature_importances_\n",
        "\n",
        "# Create a DataFrame to store feature importances\n",
        "feature_importance_df = pd.DataFrame({'Feature': X.columns, 'Importance': feature_importances})\n",
        "\n",
        "# Sort the DataFrame by importance\n",
        "feature_importance_df = feature_importance_df.sort_values(by='Importance', ascending=False)\n",
        "\n",
        "# Print the top N important features\n",
        "top_n = 65  # Change this value to get the top N important features\n",
        "print(feature_importance_df.head(top_n))\n"
      ],
      "metadata": {
        "colab": {
          "base_uri": "https://localhost:8080/"
        },
        "id": "yeujckeCK2Jj",
        "outputId": "c4588955-add8-48d1-8ece-009583e23958"
      },
      "execution_count": 90,
      "outputs": [
        {
          "output_type": "stream",
          "name": "stdout",
          "text": [
            "                               Feature  Importance\n",
            "2                    transactionAmount    0.101006\n",
            "1                       availableMoney    0.088043\n",
            "3                       currentBalance    0.087843\n",
            "10                  transaction_minute    0.069662\n",
            "11                  transaction_second    0.068785\n",
            "..                                 ...         ...\n",
            "47  merchantCategoryCode_food_delivery    0.000063\n",
            "43    merchantCategoryCode_cable/phone    0.000022\n",
            "50            merchantCategoryCode_gym    0.000012\n",
            "6                     transaction_year    0.000000\n",
            "14                       currentExpDay    0.000000\n",
            "\n",
            "[64 rows x 2 columns]\n"
          ]
        }
      ]
    },
    {
      "cell_type": "code",
      "source": [
        "top_n = 30  # Change this value to get the top N important features\n",
        "print(feature_importance_df.head(top_n))\n"
      ],
      "metadata": {
        "colab": {
          "base_uri": "https://localhost:8080/"
        },
        "id": "1bP5ANUTNkFT",
        "outputId": "a1d87891-3da4-42bc-c37c-3c34e647de2c"
      },
      "execution_count": 91,
      "outputs": [
        {
          "output_type": "stream",
          "name": "stdout",
          "text": [
            "                               Feature  Importance\n",
            "2                    transactionAmount    0.101006\n",
            "1                       availableMoney    0.088043\n",
            "3                       currentBalance    0.087843\n",
            "10                  transaction_minute    0.069662\n",
            "11                  transaction_second    0.068785\n",
            "8                      transaction_day    0.062530\n",
            "9                     transaction_hour    0.059438\n",
            "12                      currentExpYear    0.053124\n",
            "13                     currentExpMonth    0.049770\n",
            "17                    addressChangeDay    0.048675\n",
            "7                    transaction_month    0.045890\n",
            "20                      accountOpenDay    0.042652\n",
            "16                  addressChangeMonth    0.037733\n",
            "19                    accountOpenMonth    0.033810\n",
            "0                          creditLimit    0.027621\n",
            "18                     accountOpenYear    0.022729\n",
            "15                   addressChangeYear    0.019955\n",
            "38                 posConditionCode_01    0.006914\n",
            "39                 posConditionCode_08    0.006546\n",
            "34                     posEntryMode_09    0.005083\n",
            "32                     posEntryMode_02    0.004485\n",
            "33                     posEntryMode_05    0.004116\n",
            "55  merchantCategoryCode_online_retail    0.003793\n",
            "44  merchantCategoryCode_entertainment    0.003549\n",
            "4                          cardPresent    0.003525\n",
            "54   merchantCategoryCode_online_gifts    0.002992\n",
            "58      merchantCategoryCode_rideshare    0.002807\n",
            "62            transactionType_PURCHASE    0.002653\n",
            "46           merchantCategoryCode_food    0.002536\n",
            "36                     posEntryMode_90    0.002486\n"
          ]
        }
      ]
    },
    {
      "cell_type": "markdown",
      "source": [
        "The insights gleaned from the feature importance analysis align closely with the findings observed in scientific research on fraud detection. Transaction-related attributes, such as transaction amount, available money, and current balance, consistently emerge as top predictors of fraudulent activity across various domains. These features are indicative of abnormal financial behavior and are extensively leveraged in machine learning models to discern fraudulent transactions effectively. Moreover, temporal features like transaction time and date, as well as account-related attributes such as account open day and month, underscore the importance of contextual information in fraud detection. The concurrence between the feature importance results and existing research underscores the robustness and relevance of the features considered in fraud detection models, reinforcing their efficacy in identifying and mitigating fraudulent behavior."
      ],
      "metadata": {
        "id": "tyCsO585P1KI"
      }
    },
    {
      "cell_type": "markdown",
      "source": [
        "### data spliting"
      ],
      "metadata": {
        "id": "KsZdC6bAObOm"
      }
    },
    {
      "cell_type": "code",
      "source": [
        "from sklearn.model_selection import train_test_split\n",
        "from sklearn.ensemble import RandomForestClassifier\n",
        "from sklearn.metrics import accuracy_score, precision_score, recall_score, f1_score, classification_report\n",
        "\n",
        "# Select only the important features (top 20 important features will be selected to implement the model)\n",
        "important_features = ['transactionAmount', 'availableMoney', 'currentBalance', 'transaction_minute',\n",
        "                      'transaction_second', 'transaction_day', 'transaction_hour', 'currentExpYear',\n",
        "                      'currentExpMonth', 'addressChangeDay', 'transaction_month', 'accountOpenDay',\n",
        "                      'addressChangeMonth', 'accountOpenMonth', 'creditLimit', 'accountOpenYear',\n",
        "                      'addressChangeYear', 'posConditionCode_01', 'posConditionCode_08', 'posEntryMode_09']\n",
        "\n",
        "X_selected = X[important_features]\n",
        "\n",
        "# Split the data into training and testing sets\n",
        "X_train, X_test, y_train, y_test = train_test_split(X_selected, Y, test_size=0.2, random_state=42)"
      ],
      "metadata": {
        "id": "1uan3MpWLcNW"
      },
      "execution_count": 92,
      "outputs": []
    },
    {
      "cell_type": "markdown",
      "source": [
        "### modeling using Random Forest"
      ],
      "metadata": {
        "id": "j67kTS7_OiZL"
      }
    },
    {
      "cell_type": "code",
      "source": [
        "# Initialize the Random Forest classifier with the specified hyperparameters\n",
        "rf_classifier = RandomForestClassifier(max_depth=10, max_features='auto', min_samples_leaf=5,\n",
        "                                        min_samples_split=5, n_estimators=50, random_state=42)\n",
        "\n",
        "# Train the model on the training data\n",
        "rf_classifier.fit(X_train, y_train)\n",
        "\n",
        "# Make predictions on the testing data\n",
        "y_pred = rf_classifier.predict(X_test)"
      ],
      "metadata": {
        "colab": {
          "base_uri": "https://localhost:8080/"
        },
        "id": "ebXsOPzHOjdC",
        "outputId": "d1c9034d-7aad-4ed1-ca4e-7edd5e221e0d"
      },
      "execution_count": 93,
      "outputs": [
        {
          "output_type": "stream",
          "name": "stderr",
          "text": [
            "/usr/local/lib/python3.10/dist-packages/sklearn/ensemble/_forest.py:424: FutureWarning: `max_features='auto'` has been deprecated in 1.1 and will be removed in 1.3. To keep the past behaviour, explicitly set `max_features='sqrt'` or remove this parameter as it is also the default value for RandomForestClassifiers and ExtraTreesClassifiers.\n",
            "  warn(\n"
          ]
        }
      ]
    },
    {
      "cell_type": "markdown",
      "source": [
        "### model evaluation"
      ],
      "metadata": {
        "id": "9a86h-47Rx1j"
      }
    },
    {
      "cell_type": "code",
      "source": [
        "# Calculate evaluation metrics\n",
        "accuracy = accuracy_score(y_test, y_pred)\n",
        "precision = precision_score(y_test, y_pred)\n",
        "recall = recall_score(y_test, y_pred)\n",
        "f1 = f1_score(y_test, y_pred)\n",
        "classification_report_output = classification_report(y_test, y_pred)\n",
        "\n",
        "# Print evaluation metrics\n",
        "print(\"Accuracy:\", accuracy)\n",
        "print(\"Precision:\", precision)\n",
        "print(\"Recall:\", recall)\n",
        "print(\"F1-score:\", f1)\n",
        "print(\"Classification Report:\\n\", classification_report_output)"
      ],
      "metadata": {
        "colab": {
          "base_uri": "https://localhost:8080/"
        },
        "id": "bYx5GBhCRm7I",
        "outputId": "f30ded74-195e-413f-99a3-510a91d7225a"
      },
      "execution_count": 94,
      "outputs": [
        {
          "output_type": "stream",
          "name": "stderr",
          "text": [
            "/usr/local/lib/python3.10/dist-packages/sklearn/metrics/_classification.py:1344: UndefinedMetricWarning: Precision is ill-defined and being set to 0.0 due to no predicted samples. Use `zero_division` parameter to control this behavior.\n",
            "  _warn_prf(average, modifier, msg_start, len(result))\n"
          ]
        },
        {
          "output_type": "stream",
          "name": "stdout",
          "text": [
            "Accuracy: 0.9836780629860179\n",
            "Precision: 0.0\n",
            "Recall: 0.0\n",
            "F1-score: 0.0\n",
            "Classification Report:\n",
            "               precision    recall  f1-score   support\n",
            "\n",
            "           0       0.98      1.00      0.99    154706\n",
            "           1       0.00      0.00      0.00      2567\n",
            "\n",
            "    accuracy                           0.98    157273\n",
            "   macro avg       0.49      0.50      0.50    157273\n",
            "weighted avg       0.97      0.98      0.98    157273\n",
            "\n"
          ]
        },
        {
          "output_type": "stream",
          "name": "stderr",
          "text": [
            "/usr/local/lib/python3.10/dist-packages/sklearn/metrics/_classification.py:1344: UndefinedMetricWarning: Precision and F-score are ill-defined and being set to 0.0 in labels with no predicted samples. Use `zero_division` parameter to control this behavior.\n",
            "  _warn_prf(average, modifier, msg_start, len(result))\n",
            "/usr/local/lib/python3.10/dist-packages/sklearn/metrics/_classification.py:1344: UndefinedMetricWarning: Precision and F-score are ill-defined and being set to 0.0 in labels with no predicted samples. Use `zero_division` parameter to control this behavior.\n",
            "  _warn_prf(average, modifier, msg_start, len(result))\n",
            "/usr/local/lib/python3.10/dist-packages/sklearn/metrics/_classification.py:1344: UndefinedMetricWarning: Precision and F-score are ill-defined and being set to 0.0 in labels with no predicted samples. Use `zero_division` parameter to control this behavior.\n",
            "  _warn_prf(average, modifier, msg_start, len(result))\n"
          ]
        }
      ]
    },
    {
      "cell_type": "code",
      "source": [
        "# Make predictions on the training data\n",
        "y_train_pred = rf_classifier.predict(X_train)\n",
        "\n",
        "# Calculate evaluation metrics for training set\n",
        "train_accuracy = accuracy_score(y_train, y_train_pred)\n",
        "train_precision = precision_score(y_train, y_train_pred)\n",
        "train_recall = recall_score(y_train, y_train_pred)\n",
        "train_f1 = f1_score(y_train, y_train_pred)\n",
        "train_classification_report_output = classification_report(y_train, y_train_pred)\n",
        "\n",
        "# Print evaluation metrics for training set\n",
        "print(\"Training Set Evaluation Metrics:\")\n",
        "print(\"Accuracy:\", train_accuracy)\n",
        "print(\"Precision:\", train_precision)\n",
        "print(\"Recall:\", train_recall)\n",
        "print(\"F1-score:\", train_f1)\n",
        "print(\"Classification Report:\\n\", train_classification_report_output)\n"
      ],
      "metadata": {
        "colab": {
          "base_uri": "https://localhost:8080/"
        },
        "id": "Xx_yY02RRvb5",
        "outputId": "5c7aa05b-711f-4156-f5e0-9c36118ff0d4"
      },
      "execution_count": 95,
      "outputs": [
        {
          "output_type": "stream",
          "name": "stderr",
          "text": [
            "/usr/local/lib/python3.10/dist-packages/sklearn/metrics/_classification.py:1344: UndefinedMetricWarning: Precision is ill-defined and being set to 0.0 due to no predicted samples. Use `zero_division` parameter to control this behavior.\n",
            "  _warn_prf(average, modifier, msg_start, len(result))\n",
            "/usr/local/lib/python3.10/dist-packages/sklearn/metrics/_classification.py:1344: UndefinedMetricWarning: Precision and F-score are ill-defined and being set to 0.0 in labels with no predicted samples. Use `zero_division` parameter to control this behavior.\n",
            "  _warn_prf(average, modifier, msg_start, len(result))\n",
            "/usr/local/lib/python3.10/dist-packages/sklearn/metrics/_classification.py:1344: UndefinedMetricWarning: Precision and F-score are ill-defined and being set to 0.0 in labels with no predicted samples. Use `zero_division` parameter to control this behavior.\n",
            "  _warn_prf(average, modifier, msg_start, len(result))\n"
          ]
        },
        {
          "output_type": "stream",
          "name": "stdout",
          "text": [
            "Training Set Evaluation Metrics:\n",
            "Accuracy: 0.9843424629226343\n",
            "Precision: 0.0\n",
            "Recall: 0.0\n",
            "F1-score: 0.0\n",
            "Classification Report:\n",
            "               precision    recall  f1-score   support\n",
            "\n",
            "           0       0.98      1.00      0.99    619240\n",
            "           1       0.00      0.00      0.00      9850\n",
            "\n",
            "    accuracy                           0.98    629090\n",
            "   macro avg       0.49      0.50      0.50    629090\n",
            "weighted avg       0.97      0.98      0.98    629090\n",
            "\n"
          ]
        },
        {
          "output_type": "stream",
          "name": "stderr",
          "text": [
            "/usr/local/lib/python3.10/dist-packages/sklearn/metrics/_classification.py:1344: UndefinedMetricWarning: Precision and F-score are ill-defined and being set to 0.0 in labels with no predicted samples. Use `zero_division` parameter to control this behavior.\n",
            "  _warn_prf(average, modifier, msg_start, len(result))\n"
          ]
        }
      ]
    },
    {
      "cell_type": "markdown",
      "source": [
        "The results show that the model achieved high accuracy on both the training and test sets, indicating good overall performance. However, the precision, recall, and F1-score for the minority class (fraudulent transactions) are all very low, suggesting that the model struggles to correctly identify fraudulent cases. This imbalance is evident in the classification reports, where the minority class has low precision, recall, and F1-score values. To address this issue, oversampling techniques can be employed to balance the class distribution and improve the model's ability to detect fraudulent transactions."
      ],
      "metadata": {
        "id": "Sbw3H_6LSmZ5"
      }
    },
    {
      "cell_type": "markdown",
      "source": [
        "### Oversampling"
      ],
      "metadata": {
        "id": "u_OMFUZyOj87"
      }
    },
    {
      "cell_type": "code",
      "source": [
        "from sklearn.utils import resample\n",
        "\n",
        "# Separate minority and majority classes\n",
        "non_fraudulent = transactions_cleaned[transactions_cleaned['isFraud'] == 0]\n",
        "fraudulent = transactions_cleaned[transactions_cleaned['isFraud'] == 1]\n",
        "\n",
        "# Upsample minority class\n",
        "fraudulent_upsampled = resample(fraudulent,\n",
        "                                replace=True,  # Sample with replacement\n",
        "                                n_samples=len(non_fraudulent),  # Match number of majority class\n",
        "                                random_state=42)  # Reproducible results\n",
        "\n",
        "# Combine majority class with upsampled minority class\n",
        "balanced_data = pd.concat([non_fraudulent, fraudulent_upsampled])\n"
      ],
      "metadata": {
        "id": "pyimSXkTmjv7"
      },
      "execution_count": 96,
      "outputs": []
    },
    {
      "cell_type": "code",
      "source": [
        "balanced_data['isFraud'].value_counts()\n"
      ],
      "metadata": {
        "colab": {
          "base_uri": "https://localhost:8080/"
        },
        "id": "-Li_WdRttMOw",
        "outputId": "310efe72-9430-4de4-f0ca-4de3e10bd257"
      },
      "execution_count": 97,
      "outputs": [
        {
          "output_type": "execute_result",
          "data": {
            "text/plain": [
              "0    773946\n",
              "1    773946\n",
              "Name: isFraud, dtype: int64"
            ]
          },
          "metadata": {},
          "execution_count": 97
        }
      ]
    },
    {
      "cell_type": "markdown",
      "source": [
        "\n",
        "#### feature importance of balanced data"
      ],
      "metadata": {
        "id": "PjDgIMlEWwoL"
      }
    },
    {
      "cell_type": "code",
      "source": [
        "# Define X (features) and y (target variable) from the balanced dataset\n",
        "X_balanced = balanced_data.drop(columns=['isFraud'])\n",
        "y_balanced = balanced_data['isFraud']\n",
        "\n",
        "# Initialize the Random Forest classifier\n",
        "rf_classifier = RandomForestClassifier()\n",
        "\n",
        "# Fit the model on the balanced dataset\n",
        "rf_classifier.fit(X_balanced, y_balanced)\n",
        "\n",
        "# Get feature importances\n",
        "feature_importances_balanced = rf_classifier.feature_importances_\n",
        "\n",
        "# Create a DataFrame to store feature importances\n",
        "feature_importance_df_balanced = pd.DataFrame({'Feature': X_balanced.columns, 'Importance': feature_importances_balanced})\n",
        "\n",
        "# Sort the DataFrame by importance\n",
        "feature_importance_df_balanced = feature_importance_df_balanced.sort_values(by='Importance', ascending=False)\n",
        "\n",
        "# Print the top N important features\n",
        "top_n = 50  # Change this value to get the top N important features\n",
        "print(feature_importance_df_balanced.head(top_n))"
      ],
      "metadata": {
        "colab": {
          "base_uri": "https://localhost:8080/"
        },
        "id": "bBujRwlIOmyK",
        "outputId": "1275b200-f57f-4584-faaf-2d41f55fa504"
      },
      "execution_count": 98,
      "outputs": [
        {
          "output_type": "stream",
          "name": "stdout",
          "text": [
            "                                      Feature  Importance\n",
            "2                           transactionAmount    0.129478\n",
            "3                              currentBalance    0.064002\n",
            "1                              availableMoney    0.061837\n",
            "20                             accountOpenDay    0.052486\n",
            "10                         transaction_minute    0.052091\n",
            "11                         transaction_second    0.051365\n",
            "8                             transaction_day    0.047151\n",
            "17                           addressChangeDay    0.046161\n",
            "9                            transaction_hour    0.045651\n",
            "19                           accountOpenMonth    0.042767\n",
            "12                             currentExpYear    0.040377\n",
            "13                            currentExpMonth    0.038039\n",
            "7                           transaction_month    0.036189\n",
            "16                         addressChangeMonth    0.034415\n",
            "33                            posEntryMode_05    0.033290\n",
            "0                                 creditLimit    0.030284\n",
            "18                            accountOpenYear    0.025356\n",
            "15                          addressChangeYear    0.019454\n",
            "4                                 cardPresent    0.017770\n",
            "34                            posEntryMode_09    0.014226\n",
            "55         merchantCategoryCode_online_retail    0.012193\n",
            "44         merchantCategoryCode_entertainment    0.007868\n",
            "48                  merchantCategoryCode_fuel    0.007092\n",
            "45              merchantCategoryCode_fastfood    0.006768\n",
            "32                            posEntryMode_02    0.006431\n",
            "41               merchantCategoryCode_airline    0.005765\n",
            "39                        posConditionCode_08    0.005402\n",
            "54          merchantCategoryCode_online_gifts    0.005312\n",
            "58             merchantCategoryCode_rideshare    0.005162\n",
            "38                        posConditionCode_01    0.005151\n",
            "46                  merchantCategoryCode_food    0.004751\n",
            "53            merchantCategoryCode_mobileapps    0.004564\n",
            "51                merchantCategoryCode_health    0.003643\n",
            "31                              posEntryMode_    0.003623\n",
            "56  merchantCategoryCode_online_subscriptions    0.003212\n",
            "57         merchantCategoryCode_personal care    0.003068\n",
            "52                merchantCategoryCode_hotels    0.003045\n",
            "59         merchantCategoryCode_subscriptions    0.002287\n",
            "42                  merchantCategoryCode_auto    0.002149\n",
            "47         merchantCategoryCode_food_delivery    0.002033\n",
            "62                   transactionType_PURCHASE    0.002015\n",
            "36                            posEntryMode_90    0.001960\n",
            "61       transactionType_ADDRESS_VERIFICATION    0.001901\n",
            "63                   transactionType_REVERSAL    0.001661\n",
            "40                        posConditionCode_99    0.001626\n",
            "35                            posEntryMode_80    0.001546\n",
            "25                              acqCountry_US    0.001147\n",
            "49             merchantCategoryCode_furniture    0.001005\n",
            "30                     merchantCountryCode_US    0.000902\n",
            "21                                acqCountry_    0.000810\n"
          ]
        }
      ]
    },
    {
      "cell_type": "markdown",
      "source": [
        "After oversampling the data to address the imbalance issue, the feature importance results have slightly changed.\n",
        "Based on the feature importance provided, it appears that transaction-related features such as transactionAmount, currentBalance, and availableMoney are among the most important for fraud detection, which is expected as anomalies in transaction amounts or balances could indicate fraudulent behavior. Other temporal features like accountOpenDay, transaction_minute, and transaction_second are also highly ranked, suggesting that the timing of transactions relative to account opening and within a transaction itself may hold valuable information for detecting fraud. Additionally, merchant-related features such as merchantCategoryCode and posEntryMode are significant, indicating that the type of merchant and mode of entry for transactions play a role in identifying potential fraud. Overall, these insights suggest that a combination of transactional, temporal, and merchant-related features are important for fraud detection models to effectively distinguish between legitimate and fraudulent transactions.\n",
        "\n",
        "\n",
        "\n",
        "\n"
      ],
      "metadata": {
        "id": "9joVcwNeQKEs"
      }
    },
    {
      "cell_type": "markdown",
      "source": [
        "### Modeling balanced data\n"
      ],
      "metadata": {
        "id": "0Ea9Q0uNOrGv"
      }
    },
    {
      "cell_type": "markdown",
      "source": [
        "In this project we use 4 different ML algorithms. The selection of these four algorithms – Random Forest, XGBoost, Logistic Regression, and Artificial Neural Network (ANN) – was based on a comprehensive exploration and review of existing literature and empirical evidence in the field of fraud detection. These algorithms are widely recognized and extensively studied for their effectiveness in handling classification tasks, particularly in detecting fraudulent activities. Random Forest and XGBoost are known for their robustness and ability to handle complex, high-dimensional data, while Logistic Regression offers simplicity and interpretability. ANN, on the other hand, excels at capturing intricate nonlinear relationships within the data. By leveraging a combination of these well-established algorithms, we aimed to ensure a diverse and comprehensive approach to fraud detection, encompassing both traditional and more advanced machine learning techniques."
      ],
      "metadata": {
        "id": "-RKQ4BfFnSMJ"
      }
    },
    {
      "cell_type": "markdown",
      "source": [
        "#### Random Forest"
      ],
      "metadata": {
        "id": "SnTv7yupbTdq"
      }
    },
    {
      "cell_type": "code",
      "source": [
        "# Define the important features (top 20 important features will be selected to implement the model)\n",
        "important_features = [\n",
        "    'transactionAmount', 'currentBalance', 'availableMoney', 'accountOpenDay',\n",
        "    'transaction_minute', 'transaction_second', 'transaction_day', 'addressChangeDay',\n",
        "    'transaction_hour', 'accountOpenMonth', 'currentExpYear', 'currentExpMonth',\n",
        "    'transaction_month', 'addressChangeMonth', 'posEntryMode_05', 'creditLimit',\n",
        "    'accountOpenYear', 'addressChangeYear', 'cardPresent', 'posEntryMode_09'\n",
        "]\n",
        "\n",
        "# Prepare the dataset with only the selected important features\n",
        "X_selected = balanced_data[important_features]\n",
        "y_selected = balanced_data['isFraud']\n",
        "\n",
        "# Split the dataset into training and testing sets\n",
        "X_train, X_test, y_train, y_test = train_test_split(X_selected, y_selected, test_size=0.2, random_state=42)\n",
        "\n",
        "# Initialize the Random Forest classifier with specified hyperparameters\n",
        "rf_classifier = RandomForestClassifier(max_depth=10, max_features='auto', min_samples_leaf=5, min_samples_split=5, n_estimators=50, random_state=42)\n",
        "\n",
        "# Fit the model on the training set\n",
        "rf_classifier.fit(X_train, y_train)\n",
        "\n",
        "# Make predictions on the testing set\n",
        "y_pred = rf_classifier.predict(X_test)\n",
        "\n",
        "# Calculate evaluation metrics\n",
        "accuracy = accuracy_score(y_test, y_pred)\n",
        "precision = precision_score(y_test, y_pred)\n",
        "recall = recall_score(y_test, y_pred)\n",
        "f1 = f1_score(y_test, y_pred)\n",
        "classification_rep = classification_report(y_test, y_pred)\n",
        "\n",
        "# Print the evaluation metrics\n",
        "print(\"Test Set:\")\n",
        "print(\"Accuracy:\", accuracy)\n",
        "print(\"Precision:\", precision)\n",
        "print(\"Recall:\", recall)\n",
        "print(\"F1-score:\", f1)\n",
        "print(\"Classification Report:\")\n",
        "print(classification_rep)\n"
      ],
      "metadata": {
        "colab": {
          "base_uri": "https://localhost:8080/"
        },
        "id": "GFdaTBPpOtLb",
        "outputId": "68c77455-395d-4f07-eb28-d932252b21e2"
      },
      "execution_count": 99,
      "outputs": [
        {
          "output_type": "stream",
          "name": "stderr",
          "text": [
            "/usr/local/lib/python3.10/dist-packages/sklearn/ensemble/_forest.py:424: FutureWarning: `max_features='auto'` has been deprecated in 1.1 and will be removed in 1.3. To keep the past behaviour, explicitly set `max_features='sqrt'` or remove this parameter as it is also the default value for RandomForestClassifiers and ExtraTreesClassifiers.\n",
            "  warn(\n"
          ]
        },
        {
          "output_type": "stream",
          "name": "stdout",
          "text": [
            "Test Set:\n",
            "Accuracy: 0.7711052752286169\n",
            "Precision: 0.7702654117284505\n",
            "Recall: 0.7737676794386436\n",
            "F1-score: 0.7720125735575639\n",
            "Classification Report:\n",
            "              precision    recall  f1-score   support\n",
            "\n",
            "           0       0.77      0.77      0.77    154526\n",
            "           1       0.77      0.77      0.77    155053\n",
            "\n",
            "    accuracy                           0.77    309579\n",
            "   macro avg       0.77      0.77      0.77    309579\n",
            "weighted avg       0.77      0.77      0.77    309579\n",
            "\n"
          ]
        }
      ]
    },
    {
      "cell_type": "code",
      "source": [
        "# Make predictions on the training set\n",
        "y_train_pred = rf_classifier.predict(X_train)\n",
        "\n",
        "# Calculate evaluation metrics for the training set\n",
        "train_accuracy = accuracy_score(y_train, y_train_pred)\n",
        "train_precision = precision_score(y_train, y_train_pred)\n",
        "train_recall = recall_score(y_train, y_train_pred)\n",
        "train_f1 = f1_score(y_train, y_train_pred)\n",
        "train_classification_rep = classification_report(y_train, y_train_pred)\n",
        "\n",
        "# Print the evaluation metrics for the training set\n",
        "print(\"Training Set:\")\n",
        "print(\"Accuracy:\", train_accuracy)\n",
        "print(\"Precision:\", train_precision)\n",
        "print(\"Recall:\", train_recall)\n",
        "print(\"F1-score:\", train_f1)\n",
        "print(\"Classification Report:\")\n",
        "print(train_classification_rep)\n"
      ],
      "metadata": {
        "colab": {
          "base_uri": "https://localhost:8080/"
        },
        "id": "PUKW2WSPX8yC",
        "outputId": "d1f8481b-470b-4c03-8552-049dcd1a17f0"
      },
      "execution_count": 100,
      "outputs": [
        {
          "output_type": "stream",
          "name": "stdout",
          "text": [
            "Training Set:\n",
            "Accuracy: 0.7731203661755953\n",
            "Precision: 0.771157324124252\n",
            "Recall: 0.7764653987038147\n",
            "F1-score: 0.7738022585314875\n",
            "Classification Report:\n",
            "              precision    recall  f1-score   support\n",
            "\n",
            "           0       0.78      0.77      0.77    619420\n",
            "           1       0.77      0.78      0.77    618893\n",
            "\n",
            "    accuracy                           0.77   1238313\n",
            "   macro avg       0.77      0.77      0.77   1238313\n",
            "weighted avg       0.77      0.77      0.77   1238313\n",
            "\n"
          ]
        }
      ]
    },
    {
      "cell_type": "markdown",
      "source": [
        "Oversampling has notably improved the performance of our Random Forest classifier by balancing the representation of fraudulent and non-fraudulent transactions in both the training and test sets, leading to more reliable performance metrics. However, despite achieving balanced precision and recall scores, the overall model performance still falls short of expectations.  To enhance the model's effectiveness, exploring alternative algorithms like XGboost will be implemented\n"
      ],
      "metadata": {
        "id": "7HrUKNmuZz5q"
      }
    },
    {
      "cell_type": "markdown",
      "source": [
        "#### XGboost"
      ],
      "metadata": {
        "id": "Nt-_2E1BOtym"
      }
    },
    {
      "cell_type": "code",
      "source": [
        "from xgboost import XGBClassifier\n",
        "\n",
        "# Initialize the XGBoost classifier with specified hyperparameters\n",
        "xgb_classifier = XGBClassifier(max_depth=10, n_estimators=50, random_state=42)\n",
        "\n",
        "# Fit the model on the training set\n",
        "xgb_classifier.fit(X_train, y_train)\n",
        "\n",
        "# Make predictions on the testing set\n",
        "y_pred_xgb = xgb_classifier.predict(X_test)\n",
        "\n",
        "# Calculate evaluation metrics\n",
        "accuracy_xgb = accuracy_score(y_test, y_pred_xgb)\n",
        "precision_xgb = precision_score(y_test, y_pred_xgb)\n",
        "recall_xgb = recall_score(y_test, y_pred_xgb)\n",
        "f1_xgb = f1_score(y_test, y_pred_xgb)\n",
        "classification_rep_xgb = classification_report(y_test, y_pred_xgb)\n",
        "\n",
        "# Print the evaluation metrics\n",
        "print(\"XGBoost Test Set:\")\n",
        "print(\"Accuracy:\", accuracy_xgb)\n",
        "print(\"Precision:\", precision_xgb)\n",
        "print(\"Recall:\", recall_xgb)\n",
        "print(\"F1-score:\", f1_xgb)\n",
        "print(\"Classification Report:\")\n",
        "print(classification_rep_xgb)\n"
      ],
      "metadata": {
        "colab": {
          "base_uri": "https://localhost:8080/"
        },
        "id": "VCsbdYLSaOyQ",
        "outputId": "b3ae1b9e-a730-4e1c-a3c5-183667ceb69c"
      },
      "execution_count": 101,
      "outputs": [
        {
          "output_type": "stream",
          "name": "stdout",
          "text": [
            "XGBoost Test Set:\n",
            "Accuracy: 0.9403124888962107\n",
            "Precision: 0.903111551879859\n",
            "Recall: 0.986681973260756\n",
            "F1-score: 0.9430489375997829\n",
            "Classification Report:\n",
            "              precision    recall  f1-score   support\n",
            "\n",
            "           0       0.99      0.89      0.94    154526\n",
            "           1       0.90      0.99      0.94    155053\n",
            "\n",
            "    accuracy                           0.94    309579\n",
            "   macro avg       0.94      0.94      0.94    309579\n",
            "weighted avg       0.94      0.94      0.94    309579\n",
            "\n"
          ]
        }
      ]
    },
    {
      "cell_type": "code",
      "source": [
        "# Make predictions on the training set\n",
        "y_train_pred_xgb = xgb_classifier.predict(X_train)\n",
        "\n",
        "# Calculate evaluation metrics for the training set\n",
        "accuracy_train_xgb = accuracy_score(y_train, y_train_pred_xgb)\n",
        "precision_train_xgb = precision_score(y_train, y_train_pred_xgb)\n",
        "recall_train_xgb = recall_score(y_train, y_train_pred_xgb)\n",
        "f1_train_xgb = f1_score(y_train, y_train_pred_xgb)\n",
        "classification_rep_train_xgb = classification_report(y_train, y_train_pred_xgb)\n",
        "\n",
        "# Print the evaluation metrics for the training set\n",
        "print(\"XGBoost Training Set:\")\n",
        "print(\"Accuracy:\", accuracy_train_xgb)\n",
        "print(\"Precision:\", precision_train_xgb)\n",
        "print(\"Recall:\", recall_train_xgb)\n",
        "print(\"F1-score:\", f1_train_xgb)\n",
        "print(\"Classification Report:\")\n",
        "print(classification_rep_train_xgb)\n"
      ],
      "metadata": {
        "colab": {
          "base_uri": "https://localhost:8080/"
        },
        "id": "_eJjEtH9am0b",
        "outputId": "d7fb13e5-253f-4718-850a-183fa27073bf"
      },
      "execution_count": 102,
      "outputs": [
        {
          "output_type": "stream",
          "name": "stdout",
          "text": [
            "XGBoost Training Set:\n",
            "Accuracy: 0.9459740792513686\n",
            "Precision: 0.9116959134113379\n",
            "Recall: 0.9875535835758362\n",
            "F1-score: 0.9481098379639504\n",
            "Classification Report:\n",
            "              precision    recall  f1-score   support\n",
            "\n",
            "           0       0.99      0.90      0.94    619420\n",
            "           1       0.91      0.99      0.95    618893\n",
            "\n",
            "    accuracy                           0.95   1238313\n",
            "   macro avg       0.95      0.95      0.95   1238313\n",
            "weighted avg       0.95      0.95      0.95   1238313\n",
            "\n"
          ]
        }
      ]
    },
    {
      "cell_type": "markdown",
      "source": [
        "#### Logistic Regression"
      ],
      "metadata": {
        "id": "SZLl2TzwepqU"
      }
    },
    {
      "cell_type": "code",
      "source": [
        "from sklearn.linear_model import LogisticRegression\n",
        "\n",
        "# Initialize the Logistic Regression classifier with default hyperparameters\n",
        "logistic_classifier = LogisticRegression(random_state=42)\n",
        "\n",
        "# Fit the model on the training set\n",
        "logistic_classifier.fit(X_train, y_train)\n",
        "\n",
        "# Make predictions on the testing set\n",
        "y_pred_logistic = logistic_classifier.predict(X_test)\n"
      ],
      "metadata": {
        "colab": {
          "base_uri": "https://localhost:8080/"
        },
        "id": "0Vg6vik5Tniu",
        "outputId": "eeda102c-7b28-4e31-c0b3-ea845ac54d0e"
      },
      "execution_count": 103,
      "outputs": [
        {
          "output_type": "stream",
          "name": "stderr",
          "text": [
            "/usr/local/lib/python3.10/dist-packages/sklearn/linear_model/_logistic.py:458: ConvergenceWarning: lbfgs failed to converge (status=1):\n",
            "STOP: TOTAL NO. of ITERATIONS REACHED LIMIT.\n",
            "\n",
            "Increase the number of iterations (max_iter) or scale the data as shown in:\n",
            "    https://scikit-learn.org/stable/modules/preprocessing.html\n",
            "Please also refer to the documentation for alternative solver options:\n",
            "    https://scikit-learn.org/stable/modules/linear_model.html#logistic-regression\n",
            "  n_iter_i = _check_optimize_result(\n"
          ]
        }
      ]
    },
    {
      "cell_type": "code",
      "source": [
        "from sklearn.metrics import accuracy_score, precision_score, recall_score, f1_score, classification_report\n",
        "\n",
        "# Logistic Regression on test set\n",
        "accuracy_logistic_test = accuracy_score(y_test, y_pred_logistic)\n",
        "precision_logistic_test = precision_score(y_test, y_pred_logistic)\n",
        "recall_logistic_test = recall_score(y_test, y_pred_logistic)\n",
        "f1_logistic_test = f1_score(y_test, y_pred_logistic)\n",
        "classification_report_logistic_test = classification_report(y_test, y_pred_logistic)\n",
        "\n",
        "# Logistic Regression on train set\n",
        "y_train_pred_logistic = logistic_classifier.predict(X_train)\n",
        "accuracy_logistic_train = accuracy_score(y_train, y_train_pred_logistic)\n",
        "precision_logistic_train = precision_score(y_train, y_train_pred_logistic)\n",
        "recall_logistic_train = recall_score(y_train, y_train_pred_logistic)\n",
        "f1_logistic_train = f1_score(y_train, y_train_pred_logistic)\n",
        "classification_report_logistic_train = classification_report(y_train, y_train_pred_logistic)\n",
        "\n",
        "print(\"Logistic Regression Test Set:\")\n",
        "print(\"Accuracy:\", accuracy_logistic_test)\n",
        "print(\"Precision:\", precision_logistic_test)\n",
        "print(\"Recall:\", recall_logistic_test)\n",
        "print(\"F1-score:\", f1_logistic_test)\n",
        "print(\"Classification Report:\")\n",
        "print(classification_report_logistic_test)\n",
        "\n",
        "print(\"\\nLogistic Regression Training Set:\")\n",
        "print(\"Accuracy:\", accuracy_logistic_train)\n",
        "print(\"Precision:\", precision_logistic_train)\n",
        "print(\"Recall:\", recall_logistic_train)\n",
        "print(\"F1-score:\", f1_logistic_train)\n",
        "print(\"Classification Report:\")\n",
        "print(classification_report_logistic_train)\n"
      ],
      "metadata": {
        "id": "dh94vaDXTqNR",
        "colab": {
          "base_uri": "https://localhost:8080/"
        },
        "outputId": "a6eaabcf-3654-4d25-d941-19c32ccad97a"
      },
      "execution_count": 104,
      "outputs": [
        {
          "output_type": "stream",
          "name": "stdout",
          "text": [
            "Logistic Regression Test Set:\n",
            "Accuracy: 0.6224259397439749\n",
            "Precision: 0.6497590607292533\n",
            "Recall: 0.5339529064255448\n",
            "F1-score: 0.5861911488258971\n",
            "Classification Report:\n",
            "              precision    recall  f1-score   support\n",
            "\n",
            "           0       0.60      0.71      0.65    154526\n",
            "           1       0.65      0.53      0.59    155053\n",
            "\n",
            "    accuracy                           0.62    309579\n",
            "   macro avg       0.63      0.62      0.62    309579\n",
            "weighted avg       0.63      0.62      0.62    309579\n",
            "\n",
            "\n",
            "Logistic Regression Training Set:\n",
            "Accuracy: 0.6224573270247507\n",
            "Precision: 0.6484521948569288\n",
            "Recall: 0.5342021965024649\n",
            "F1-score: 0.5858086510315892\n",
            "Classification Report:\n",
            "              precision    recall  f1-score   support\n",
            "\n",
            "           0       0.60      0.71      0.65    619420\n",
            "           1       0.65      0.53      0.59    618893\n",
            "\n",
            "    accuracy                           0.62   1238313\n",
            "   macro avg       0.63      0.62      0.62   1238313\n",
            "weighted avg       0.63      0.62      0.62   1238313\n",
            "\n"
          ]
        }
      ]
    },
    {
      "cell_type": "markdown",
      "source": [
        "#### Artificial Neural Networks (ANNs)"
      ],
      "metadata": {
        "id": "1Vd9H0FlccU3"
      }
    },
    {
      "cell_type": "code",
      "source": [
        "from sklearn.neural_network import MLPClassifier\n",
        "\n",
        "# Initialize the ANN classifier with specified hyperparameters\n",
        "ann_classifier = MLPClassifier(hidden_layer_sizes=(10, 10, 10), activation='relu', solver='adam', max_iter=1000, random_state=42)\n",
        "\n",
        "# Fit the ANN model on the training set\n",
        "ann_classifier.fit(X_train, y_train)\n",
        "\n",
        "# Make predictions on the testing set\n",
        "y_pred_ann = ann_classifier.predict(X_test)"
      ],
      "metadata": {
        "id": "wZ4p2D4icVz8"
      },
      "execution_count": 105,
      "outputs": []
    },
    {
      "cell_type": "code",
      "source": [
        "# Calculate evaluation metrics for ANN model on test set\n",
        "accuracy_ann_test = accuracy_score(y_test, y_pred_ann)\n",
        "precision_ann_test = precision_score(y_test, y_pred_ann)\n",
        "recall_ann_test = recall_score(y_test, y_pred_ann)\n",
        "f1_ann_test = f1_score(y_test, y_pred_ann)\n",
        "classification_report_ann_test = classification_report(y_test, y_pred_ann)\n",
        "\n",
        "# Make predictions on the training set\n",
        "y_train_pred_ann = ann_classifier.predict(X_train)\n",
        "\n",
        "# Calculate evaluation metrics for ANN model on train set\n",
        "accuracy_ann_train = accuracy_score(y_train, y_train_pred_ann)\n",
        "precision_ann_train = precision_score(y_train, y_train_pred_ann)\n",
        "recall_ann_train = recall_score(y_train, y_train_pred_ann)\n",
        "f1_ann_train = f1_score(y_train, y_train_pred_ann)\n",
        "classification_report_ann_train = classification_report(y_train, y_train_pred_ann)\n",
        "\n",
        "# Print evaluation metrics for ANN model on test set\n",
        "print(\"ANN Test Set:\")\n",
        "print(\"Accuracy:\", accuracy_ann_test)\n",
        "print(\"Precision:\", precision_ann_test)\n",
        "print(\"Recall:\", recall_ann_test)\n",
        "print(\"F1-score:\", f1_ann_test)\n",
        "print(\"Classification Report:\")\n",
        "print(classification_report_ann_test)\n",
        "\n",
        "# Print evaluation metrics for ANN model on train set\n",
        "print(\"\\nANN Training Set:\")\n",
        "print(\"Accuracy:\", accuracy_ann_train)\n",
        "print(\"Precision:\", precision_ann_train)\n",
        "print(\"Recall:\", recall_ann_train)\n",
        "print(\"F1-score:\", f1_ann_train)\n",
        "print(\"Classification Report:\")\n",
        "print(classification_report_ann_train)"
      ],
      "metadata": {
        "id": "Jmupt-KOcl5X",
        "colab": {
          "base_uri": "https://localhost:8080/"
        },
        "outputId": "d722feb0-a403-425d-c929-ee180359ae70"
      },
      "execution_count": 106,
      "outputs": [
        {
          "output_type": "stream",
          "name": "stdout",
          "text": [
            "ANN Test Set:\n",
            "Accuracy: 0.6676615661915052\n",
            "Precision: 0.6639018750314181\n",
            "Recall: 0.6814186117005153\n",
            "F1-score: 0.6725462050878906\n",
            "Classification Report:\n",
            "              precision    recall  f1-score   support\n",
            "\n",
            "           0       0.67      0.65      0.66    154526\n",
            "           1       0.66      0.68      0.67    155053\n",
            "\n",
            "    accuracy                           0.67    309579\n",
            "   macro avg       0.67      0.67      0.67    309579\n",
            "weighted avg       0.67      0.67      0.67    309579\n",
            "\n",
            "\n",
            "ANN Training Set:\n",
            "Accuracy: 0.6683536391849234\n",
            "Precision: 0.6631213285929844\n",
            "Recall: 0.6838177197027596\n",
            "F1-score: 0.6733105189555023\n",
            "Classification Report:\n",
            "              precision    recall  f1-score   support\n",
            "\n",
            "           0       0.67      0.65      0.66    619420\n",
            "           1       0.66      0.68      0.67    618893\n",
            "\n",
            "    accuracy                           0.67   1238313\n",
            "   macro avg       0.67      0.67      0.67   1238313\n",
            "weighted avg       0.67      0.67      0.67   1238313\n",
            "\n"
          ]
        }
      ]
    },
    {
      "cell_type": "markdown",
      "source": [
        "Upon analyzing the performance of the four models – Random Forest, XGBoost, Logistic Regression, and Artificial Neural Network (ANN) – it's clear that XGBoost outperforms the others in terms of accuracy, precision, recall, and F1-score on both the test and training sets. XGBoost achieves high accuracy and balanced precision and recall, indicating its effectiveness in correctly classifying both fraudulent and non-fraudulent transactions. Random Forest also demonstrates decent performance but slightly lags behind XGBoost. Logistic Regression, while simpler in nature, exhibits lower performance compared to the other models, suggesting that the dataset's relationship may not be adequately captured by linear decision boundaries. ANN performs similarly to Logistic Regression, with marginally better accuracy and F1-score. Overall, XGBoost emerges as the top performer among the four models, offering robust performance in fraud detection tasks."
      ],
      "metadata": {
        "id": "UYl6kllHbSEy"
      }
    },
    {
      "cell_type": "markdown",
      "source": [
        "### Further Improvements"
      ],
      "metadata": {
        "id": "V2uJ-KKWluY6"
      }
    },
    {
      "cell_type": "markdown",
      "source": [
        "\n",
        "\n",
        " To further imprveo the perfromance, fine-tuning hyperparameters, employing advanced sampling techniques like SMOTE could optimize performance Additionally, feature engineering and selection methods could help identify more relevant features for fraud detection, ultimately improving the model's discriminatory power and overall performance."
      ],
      "metadata": {
        "id": "uA8RWOiHn-9c"
      }
    },
    {
      "cell_type": "markdown",
      "source": [
        "## Conclusion"
      ],
      "metadata": {
        "id": "z59zhoVvlx5q"
      }
    },
    {
      "cell_type": "markdown",
      "source": [
        "In this project, we tackled the challenge of fraud detection using credit card transaction data. We began by loading and exploring the dataset's structure and basic summary statistics. Next, we visualized the distribution of transaction amounts adn other features to uncover any potential patterns or anomalies. Then, we delved into data wrangling to identify reversed and multi-swipe transactions, estimating their total number and dollar amounts. Finally, we built a predictive model to classify transactions as fraudulent or not, leveraging various machine learning algorithms and features. In conclusion, while we achieved promising results in fraud detection, there are avenues for improvement, such as exploring more sophisticated modeling techniques, feature engineering, and fine-tuning hyperparameters to enhance model performance. Additionally, conducting further research on emerging fraud patterns and continuously updating the model with new data would be essential for staying ahead of evolving fraud schemes."
      ],
      "metadata": {
        "id": "bYOQsE-3oMVa"
      }
    }
  ]
}